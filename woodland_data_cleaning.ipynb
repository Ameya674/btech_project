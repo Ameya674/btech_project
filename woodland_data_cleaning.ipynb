{
 "cells": [
  {
   "cell_type": "code",
   "execution_count": 1,
   "id": "2c61853f-f9b4-4aef-93c4-8cc0f0a3a21b",
   "metadata": {},
   "outputs": [],
   "source": [
    "import pandas as pd\n",
    "import matplotlib.pyplot as plt\n",
    "import matplotlib.dates as mdates\n",
    "from matplotlib.widgets import RangeSlider"
   ]
  },
  {
   "cell_type": "code",
   "execution_count": 2,
   "id": "6f053665-6bc0-4ebd-a8ee-65b6c4bcc473",
   "metadata": {},
   "outputs": [
    {
     "data": {
      "text/html": [
       "<div>\n",
       "<style scoped>\n",
       "    .dataframe tbody tr th:only-of-type {\n",
       "        vertical-align: middle;\n",
       "    }\n",
       "\n",
       "    .dataframe tbody tr th {\n",
       "        vertical-align: top;\n",
       "    }\n",
       "\n",
       "    .dataframe thead th {\n",
       "        text-align: right;\n",
       "    }\n",
       "</style>\n",
       "<table border=\"1\" class=\"dataframe\">\n",
       "  <thead>\n",
       "    <tr style=\"text-align: right;\">\n",
       "      <th></th>\n",
       "      <th>Time</th>\n",
       "      <th>Inv1 Pac (W)</th>\n",
       "    </tr>\n",
       "  </thead>\n",
       "  <tbody>\n",
       "    <tr>\n",
       "      <th>0</th>\n",
       "      <td>2022-01-01 06:00:00</td>\n",
       "      <td>0.0000</td>\n",
       "    </tr>\n",
       "    <tr>\n",
       "      <th>1</th>\n",
       "      <td>2022-01-01 07:00:00</td>\n",
       "      <td>410.5833</td>\n",
       "    </tr>\n",
       "    <tr>\n",
       "      <th>2</th>\n",
       "      <td>2022-01-01 08:00:00</td>\n",
       "      <td>2762.0833</td>\n",
       "    </tr>\n",
       "    <tr>\n",
       "      <th>3</th>\n",
       "      <td>2022-01-01 09:00:00</td>\n",
       "      <td>5461.2500</td>\n",
       "    </tr>\n",
       "    <tr>\n",
       "      <th>4</th>\n",
       "      <td>2022-01-01 10:00:00</td>\n",
       "      <td>8356.1670</td>\n",
       "    </tr>\n",
       "  </tbody>\n",
       "</table>\n",
       "</div>"
      ],
      "text/plain": [
       "                 Time  Inv1 Pac (W)\n",
       "0 2022-01-01 06:00:00        0.0000\n",
       "1 2022-01-01 07:00:00      410.5833\n",
       "2 2022-01-01 08:00:00     2762.0833\n",
       "3 2022-01-01 09:00:00     5461.2500\n",
       "4 2022-01-01 10:00:00     8356.1670"
      ]
     },
     "execution_count": 2,
     "metadata": {},
     "output_type": "execute_result"
    }
   ],
   "source": [
    "df = pd.read_excel(\"./data/woodland.xlsx\")\n",
    "df[\"Time\"] = pd.to_datetime(df[\"Time\"])\n",
    "df.head()"
   ]
  },
  {
   "cell_type": "code",
   "execution_count": 3,
   "id": "6ee544b8-d9cf-4fbc-aa75-96d66af7386e",
   "metadata": {},
   "outputs": [
    {
     "data": {
      "text/plain": [
       "(12188, 2)"
      ]
     },
     "execution_count": 3,
     "metadata": {},
     "output_type": "execute_result"
    }
   ],
   "source": [
    "df.shape"
   ]
  },
  {
   "cell_type": "code",
   "execution_count": 4,
   "id": "3d16e434-2df8-4beb-a6d7-4672fe3524b1",
   "metadata": {},
   "outputs": [
    {
     "name": "stdout",
     "output_type": "stream",
     "text": [
      "<class 'pandas.core.frame.DataFrame'>\n",
      "RangeIndex: 12188 entries, 0 to 12187\n",
      "Data columns (total 2 columns):\n",
      " #   Column        Non-Null Count  Dtype         \n",
      "---  ------        --------------  -----         \n",
      " 0   Time          12188 non-null  datetime64[ns]\n",
      " 1   Inv1 Pac (W)  12188 non-null  float64       \n",
      "dtypes: datetime64[ns](1), float64(1)\n",
      "memory usage: 190.6 KB\n"
     ]
    }
   ],
   "source": [
    "df.info()"
   ]
  },
  {
   "cell_type": "code",
   "execution_count": 5,
   "id": "1c19d4c7-d1ac-457a-b276-ba6d41669ff4",
   "metadata": {},
   "outputs": [],
   "source": [
    "df.set_index('Time', inplace=True)"
   ]
  },
  {
   "cell_type": "code",
   "execution_count": 6,
   "id": "8e55ad17-fad5-41f0-88e1-c8d79600eda6",
   "metadata": {},
   "outputs": [],
   "source": [
    "df = df.resample('H').asfreq()"
   ]
  },
  {
   "cell_type": "code",
   "execution_count": 7,
   "id": "063ef5c2-2325-4e92-8d18-a728eb959339",
   "metadata": {},
   "outputs": [],
   "source": [
    "df['Inv1 Pac (W)'] = df['Inv1 Pac (W)'].interpolate(method='linear', limit_direction='both') "
   ]
  },
  {
   "cell_type": "code",
   "execution_count": 8,
   "id": "9f7cd0e3-315c-4601-8672-9c1728ba1116",
   "metadata": {},
   "outputs": [
    {
     "data": {
      "text/html": [
       "<div>\n",
       "<style scoped>\n",
       "    .dataframe tbody tr th:only-of-type {\n",
       "        vertical-align: middle;\n",
       "    }\n",
       "\n",
       "    .dataframe tbody tr th {\n",
       "        vertical-align: top;\n",
       "    }\n",
       "\n",
       "    .dataframe thead th {\n",
       "        text-align: right;\n",
       "    }\n",
       "</style>\n",
       "<table border=\"1\" class=\"dataframe\">\n",
       "  <thead>\n",
       "    <tr style=\"text-align: right;\">\n",
       "      <th></th>\n",
       "      <th>Inv1 Pac (W)</th>\n",
       "    </tr>\n",
       "    <tr>\n",
       "      <th>Time</th>\n",
       "      <th></th>\n",
       "    </tr>\n",
       "  </thead>\n",
       "  <tbody>\n",
       "    <tr>\n",
       "      <th>2022-01-01 06:00:00</th>\n",
       "      <td>0.0000</td>\n",
       "    </tr>\n",
       "    <tr>\n",
       "      <th>2022-01-01 07:00:00</th>\n",
       "      <td>410.5833</td>\n",
       "    </tr>\n",
       "    <tr>\n",
       "      <th>2022-01-01 08:00:00</th>\n",
       "      <td>2762.0833</td>\n",
       "    </tr>\n",
       "    <tr>\n",
       "      <th>2022-01-01 09:00:00</th>\n",
       "      <td>5461.2500</td>\n",
       "    </tr>\n",
       "    <tr>\n",
       "      <th>2022-01-01 10:00:00</th>\n",
       "      <td>8356.1670</td>\n",
       "    </tr>\n",
       "    <tr>\n",
       "      <th>...</th>\n",
       "      <td>...</td>\n",
       "    </tr>\n",
       "    <tr>\n",
       "      <th>2024-12-04 16:00:00</th>\n",
       "      <td>6669.2500</td>\n",
       "    </tr>\n",
       "    <tr>\n",
       "      <th>2024-12-04 17:00:00</th>\n",
       "      <td>2849.4167</td>\n",
       "    </tr>\n",
       "    <tr>\n",
       "      <th>2024-12-04 18:00:00</th>\n",
       "      <td>398.0833</td>\n",
       "    </tr>\n",
       "    <tr>\n",
       "      <th>2024-12-04 19:00:00</th>\n",
       "      <td>0.0000</td>\n",
       "    </tr>\n",
       "    <tr>\n",
       "      <th>2024-12-04 20:00:00</th>\n",
       "      <td>0.0000</td>\n",
       "    </tr>\n",
       "  </tbody>\n",
       "</table>\n",
       "<p>25647 rows × 1 columns</p>\n",
       "</div>"
      ],
      "text/plain": [
       "                     Inv1 Pac (W)\n",
       "Time                             \n",
       "2022-01-01 06:00:00        0.0000\n",
       "2022-01-01 07:00:00      410.5833\n",
       "2022-01-01 08:00:00     2762.0833\n",
       "2022-01-01 09:00:00     5461.2500\n",
       "2022-01-01 10:00:00     8356.1670\n",
       "...                           ...\n",
       "2024-12-04 16:00:00     6669.2500\n",
       "2024-12-04 17:00:00     2849.4167\n",
       "2024-12-04 18:00:00      398.0833\n",
       "2024-12-04 19:00:00        0.0000\n",
       "2024-12-04 20:00:00        0.0000\n",
       "\n",
       "[25647 rows x 1 columns]"
      ]
     },
     "execution_count": 8,
     "metadata": {},
     "output_type": "execute_result"
    }
   ],
   "source": [
    "df"
   ]
  },
  {
   "cell_type": "code",
   "execution_count": 9,
   "id": "9b8d744c-6471-419e-bdd2-35d40116d50d",
   "metadata": {},
   "outputs": [],
   "source": [
    "df.reset_index(inplace=True)"
   ]
  },
  {
   "cell_type": "code",
   "execution_count": 10,
   "id": "ec1b59f7-3cd7-47f1-8aec-e40c61fd082c",
   "metadata": {},
   "outputs": [
    {
     "data": {
      "text/html": [
       "<div>\n",
       "<style scoped>\n",
       "    .dataframe tbody tr th:only-of-type {\n",
       "        vertical-align: middle;\n",
       "    }\n",
       "\n",
       "    .dataframe tbody tr th {\n",
       "        vertical-align: top;\n",
       "    }\n",
       "\n",
       "    .dataframe thead th {\n",
       "        text-align: right;\n",
       "    }\n",
       "</style>\n",
       "<table border=\"1\" class=\"dataframe\">\n",
       "  <thead>\n",
       "    <tr style=\"text-align: right;\">\n",
       "      <th></th>\n",
       "      <th>Time</th>\n",
       "      <th>Inv1 Pac (W)</th>\n",
       "    </tr>\n",
       "  </thead>\n",
       "  <tbody>\n",
       "    <tr>\n",
       "      <th>0</th>\n",
       "      <td>2022-01-01 06:00:00</td>\n",
       "      <td>0.0000</td>\n",
       "    </tr>\n",
       "    <tr>\n",
       "      <th>1</th>\n",
       "      <td>2022-01-01 07:00:00</td>\n",
       "      <td>410.5833</td>\n",
       "    </tr>\n",
       "    <tr>\n",
       "      <th>2</th>\n",
       "      <td>2022-01-01 08:00:00</td>\n",
       "      <td>2762.0833</td>\n",
       "    </tr>\n",
       "    <tr>\n",
       "      <th>3</th>\n",
       "      <td>2022-01-01 09:00:00</td>\n",
       "      <td>5461.2500</td>\n",
       "    </tr>\n",
       "    <tr>\n",
       "      <th>4</th>\n",
       "      <td>2022-01-01 10:00:00</td>\n",
       "      <td>8356.1670</td>\n",
       "    </tr>\n",
       "    <tr>\n",
       "      <th>...</th>\n",
       "      <td>...</td>\n",
       "      <td>...</td>\n",
       "    </tr>\n",
       "    <tr>\n",
       "      <th>25642</th>\n",
       "      <td>2024-12-04 16:00:00</td>\n",
       "      <td>6669.2500</td>\n",
       "    </tr>\n",
       "    <tr>\n",
       "      <th>25643</th>\n",
       "      <td>2024-12-04 17:00:00</td>\n",
       "      <td>2849.4167</td>\n",
       "    </tr>\n",
       "    <tr>\n",
       "      <th>25644</th>\n",
       "      <td>2024-12-04 18:00:00</td>\n",
       "      <td>398.0833</td>\n",
       "    </tr>\n",
       "    <tr>\n",
       "      <th>25645</th>\n",
       "      <td>2024-12-04 19:00:00</td>\n",
       "      <td>0.0000</td>\n",
       "    </tr>\n",
       "    <tr>\n",
       "      <th>25646</th>\n",
       "      <td>2024-12-04 20:00:00</td>\n",
       "      <td>0.0000</td>\n",
       "    </tr>\n",
       "  </tbody>\n",
       "</table>\n",
       "<p>25647 rows × 2 columns</p>\n",
       "</div>"
      ],
      "text/plain": [
       "                     Time  Inv1 Pac (W)\n",
       "0     2022-01-01 06:00:00        0.0000\n",
       "1     2022-01-01 07:00:00      410.5833\n",
       "2     2022-01-01 08:00:00     2762.0833\n",
       "3     2022-01-01 09:00:00     5461.2500\n",
       "4     2022-01-01 10:00:00     8356.1670\n",
       "...                   ...           ...\n",
       "25642 2024-12-04 16:00:00     6669.2500\n",
       "25643 2024-12-04 17:00:00     2849.4167\n",
       "25644 2024-12-04 18:00:00      398.0833\n",
       "25645 2024-12-04 19:00:00        0.0000\n",
       "25646 2024-12-04 20:00:00        0.0000\n",
       "\n",
       "[25647 rows x 2 columns]"
      ]
     },
     "execution_count": 10,
     "metadata": {},
     "output_type": "execute_result"
    }
   ],
   "source": [
    "df"
   ]
  },
  {
   "cell_type": "code",
   "execution_count": 11,
   "id": "3bc28d79-4a7a-43c3-9ec3-e4912898bd00",
   "metadata": {},
   "outputs": [],
   "source": [
    "df.rename(columns={\"Time\": \"Date\", \"Inv1 Pac (W)\": \"P (kW)\"}, inplace=True)"
   ]
  },
  {
   "cell_type": "code",
   "execution_count": 12,
   "id": "b7819a93-f689-4f04-8190-866699eb7837",
   "metadata": {},
   "outputs": [],
   "source": [
    "df[\"P (kW)\"] = df[\"P (kW)\"] / 1000"
   ]
  },
  {
   "cell_type": "code",
   "execution_count": 13,
   "id": "f895bd90-7c1f-41d3-a236-dfec1e742e44",
   "metadata": {},
   "outputs": [],
   "source": [
    "df.to_csv(\"./data/clean_woodland_data.csv\", index = False)"
   ]
  },
  {
   "cell_type": "code",
   "execution_count": null,
   "id": "2ddf5e9f-a0ac-4402-8a6b-99e2b0d8f648",
   "metadata": {},
   "outputs": [],
   "source": []
  },
  {
   "cell_type": "code",
   "execution_count": null,
   "id": "11e67ed4-8644-4249-ad3d-3fbe3a7d9f42",
   "metadata": {},
   "outputs": [],
   "source": []
  }
 ],
 "metadata": {
  "kernelspec": {
   "display_name": "btp",
   "language": "python",
   "name": "btp"
  },
  "language_info": {
   "codemirror_mode": {
    "name": "ipython",
    "version": 3
   },
   "file_extension": ".py",
   "mimetype": "text/x-python",
   "name": "python",
   "nbconvert_exporter": "python",
   "pygments_lexer": "ipython3",
   "version": "3.9.13"
  }
 },
 "nbformat": 4,
 "nbformat_minor": 5
}
