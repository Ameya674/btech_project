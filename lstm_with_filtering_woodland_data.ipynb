{
 "cells": [
  {
   "cell_type": "code",
   "execution_count": 1,
   "id": "4c8ea891-2ab2-4f14-b2a6-5e1142187b3e",
   "metadata": {},
   "outputs": [
    {
     "name": "stdout",
     "output_type": "stream",
     "text": [
      "importing Jupyter notebook from helpers.ipynb\n"
     ]
    }
   ],
   "source": [
    "import pandas as pd\n",
    "import numpy as np\n",
    "import torch\n",
    "import torch.nn as nn\n",
    "from copy import deepcopy as dc\n",
    "from sklearn.preprocessing import MinMaxScaler\n",
    "from torch.utils.data import Dataset, DataLoader\n",
    "import import_ipynb\n",
    "from helpers import train_and_validate, count_parameters, plot_loss_comparison, plot_test_predictions, compare_mse_loss\n",
    "import time\n",
    "import matplotlib.pyplot as plt"
   ]
  },
  {
   "cell_type": "code",
   "execution_count": 2,
   "id": "7cb05884-2d29-4a24-9927-52ac8b518bc5",
   "metadata": {},
   "outputs": [
    {
     "data": {
      "text/plain": [
       "'cuda'"
      ]
     },
     "execution_count": 2,
     "metadata": {},
     "output_type": "execute_result"
    }
   ],
   "source": [
    "device = \"cuda\" if torch.cuda.is_available() else \"cpu\"\n",
    "device"
   ]
  },
  {
   "cell_type": "code",
   "execution_count": 3,
   "id": "3c606b06-ad3f-4067-b734-ebfe93d3fc11",
   "metadata": {},
   "outputs": [],
   "source": [
    "window_size = 24\n",
    "batch_size = 100\n",
    "input_size = 1\n",
    "hidden_size = 100\n",
    "num_classes = 1\n",
    "learning_rate = 0.01\n",
    "epochs = 150\n",
    "criterion = nn.MSELoss()"
   ]
  },
  {
   "cell_type": "code",
   "execution_count": 4,
   "id": "b0ad2bc3-038a-450d-ac5b-b041dcef5327",
   "metadata": {},
   "outputs": [],
   "source": [
    "def root_mean_squared_error(actual, predicted):\n",
    "    actual = torch.tensor(actual, dtype=torch.float32)\n",
    "    predicted = torch.tensor(predicted, dtype=torch.float32)\n",
    "    \n",
    "    if actual.shape != predicted.shape:\n",
    "        raise ValueError(\"Tensors must have the same shape.\")\n",
    "    \n",
    "    mse = torch.mean((actual - predicted)**2)\n",
    "    \n",
    "    return (mse.item() ** 0.5)"
   ]
  },
  {
   "cell_type": "code",
   "execution_count": 5,
   "id": "217dbf8f-cfdc-42ef-a463-d0ad0e76a064",
   "metadata": {},
   "outputs": [
    {
     "data": {
      "text/html": [
       "<div>\n",
       "<style scoped>\n",
       "    .dataframe tbody tr th:only-of-type {\n",
       "        vertical-align: middle;\n",
       "    }\n",
       "\n",
       "    .dataframe tbody tr th {\n",
       "        vertical-align: top;\n",
       "    }\n",
       "\n",
       "    .dataframe thead th {\n",
       "        text-align: right;\n",
       "    }\n",
       "</style>\n",
       "<table border=\"1\" class=\"dataframe\">\n",
       "  <thead>\n",
       "    <tr style=\"text-align: right;\">\n",
       "      <th></th>\n",
       "      <th>Date</th>\n",
       "      <th>P (kW)</th>\n",
       "    </tr>\n",
       "  </thead>\n",
       "  <tbody>\n",
       "    <tr>\n",
       "      <th>0</th>\n",
       "      <td>2022-01-01 06:00:00</td>\n",
       "      <td>0.000000</td>\n",
       "    </tr>\n",
       "    <tr>\n",
       "      <th>1</th>\n",
       "      <td>2022-01-01 07:00:00</td>\n",
       "      <td>0.410583</td>\n",
       "    </tr>\n",
       "    <tr>\n",
       "      <th>2</th>\n",
       "      <td>2022-01-01 08:00:00</td>\n",
       "      <td>2.762083</td>\n",
       "    </tr>\n",
       "    <tr>\n",
       "      <th>3</th>\n",
       "      <td>2022-01-01 09:00:00</td>\n",
       "      <td>5.461250</td>\n",
       "    </tr>\n",
       "    <tr>\n",
       "      <th>4</th>\n",
       "      <td>2022-01-01 10:00:00</td>\n",
       "      <td>8.356167</td>\n",
       "    </tr>\n",
       "    <tr>\n",
       "      <th>...</th>\n",
       "      <td>...</td>\n",
       "      <td>...</td>\n",
       "    </tr>\n",
       "    <tr>\n",
       "      <th>25642</th>\n",
       "      <td>2024-12-04 16:00:00</td>\n",
       "      <td>6.669250</td>\n",
       "    </tr>\n",
       "    <tr>\n",
       "      <th>25643</th>\n",
       "      <td>2024-12-04 17:00:00</td>\n",
       "      <td>2.849417</td>\n",
       "    </tr>\n",
       "    <tr>\n",
       "      <th>25644</th>\n",
       "      <td>2024-12-04 18:00:00</td>\n",
       "      <td>0.398083</td>\n",
       "    </tr>\n",
       "    <tr>\n",
       "      <th>25645</th>\n",
       "      <td>2024-12-04 19:00:00</td>\n",
       "      <td>0.000000</td>\n",
       "    </tr>\n",
       "    <tr>\n",
       "      <th>25646</th>\n",
       "      <td>2024-12-04 20:00:00</td>\n",
       "      <td>0.000000</td>\n",
       "    </tr>\n",
       "  </tbody>\n",
       "</table>\n",
       "<p>25647 rows × 2 columns</p>\n",
       "</div>"
      ],
      "text/plain": [
       "                      Date    P (kW)\n",
       "0      2022-01-01 06:00:00  0.000000\n",
       "1      2022-01-01 07:00:00  0.410583\n",
       "2      2022-01-01 08:00:00  2.762083\n",
       "3      2022-01-01 09:00:00  5.461250\n",
       "4      2022-01-01 10:00:00  8.356167\n",
       "...                    ...       ...\n",
       "25642  2024-12-04 16:00:00  6.669250\n",
       "25643  2024-12-04 17:00:00  2.849417\n",
       "25644  2024-12-04 18:00:00  0.398083\n",
       "25645  2024-12-04 19:00:00  0.000000\n",
       "25646  2024-12-04 20:00:00  0.000000\n",
       "\n",
       "[25647 rows x 2 columns]"
      ]
     },
     "execution_count": 5,
     "metadata": {},
     "output_type": "execute_result"
    }
   ],
   "source": [
    "df = pd.read_csv(\"./data/clean_woodland_data.csv\")\n",
    "df"
   ]
  },
  {
   "cell_type": "code",
   "execution_count": 6,
   "id": "d1c7b112-6247-48b8-a873-b4507792a0da",
   "metadata": {},
   "outputs": [
    {
     "name": "stdout",
     "output_type": "stream",
     "text": [
      "<class 'pandas.core.frame.DataFrame'>\n",
      "RangeIndex: 25647 entries, 0 to 25646\n",
      "Data columns (total 2 columns):\n",
      " #   Column  Non-Null Count  Dtype  \n",
      "---  ------  --------------  -----  \n",
      " 0   Date    25647 non-null  object \n",
      " 1   P (kW)  25647 non-null  float64\n",
      "dtypes: float64(1), object(1)\n",
      "memory usage: 400.9+ KB\n"
     ]
    }
   ],
   "source": [
    "df.info()"
   ]
  },
  {
   "cell_type": "code",
   "execution_count": 7,
   "id": "a2fdc819-900a-4841-8a2b-bb93257ce73d",
   "metadata": {},
   "outputs": [],
   "source": [
    "df = df[[\"Date\", \"P (kW)\"]]\n",
    "train_df = df.iloc[:-24]\n",
    "test = df.iloc[-24:]"
   ]
  },
  {
   "cell_type": "code",
   "execution_count": 8,
   "id": "c70b9908-68d3-46fe-8057-6d0a440118df",
   "metadata": {},
   "outputs": [],
   "source": [
    "def prepare_dataframe(df, n_steps):\n",
    "    df = dc(df)\n",
    "    \n",
    "    df.set_index('Date', inplace=True)\n",
    "    \n",
    "    for i in range(1, n_steps+1):\n",
    "        df[f'P (kW)(t-{i})'] = df['P (kW)'].shift(i)\n",
    "        \n",
    "    df.dropna(inplace=True)\n",
    "    \n",
    "    return df"
   ]
  },
  {
   "cell_type": "code",
   "execution_count": 9,
   "id": "01cc9c7e-95f2-4425-a993-7e62694c28d3",
   "metadata": {},
   "outputs": [
    {
     "data": {
      "text/plain": [
       "array([[0.0000000e+00, 0.0000000e+00, 0.0000000e+00, ..., 2.7620833e+00,\n",
       "        4.1058330e-01, 0.0000000e+00],\n",
       "       [7.4316670e-01, 0.0000000e+00, 0.0000000e+00, ..., 5.4612500e+00,\n",
       "        2.7620833e+00, 4.1058330e-01],\n",
       "       [4.3818335e+00, 7.4316670e-01, 0.0000000e+00, ..., 8.3561670e+00,\n",
       "        5.4612500e+00, 2.7620833e+00],\n",
       "       ...,\n",
       "       [3.0066670e-01, 3.0534167e+00, 7.5616665e+00, ..., 0.0000000e+00,\n",
       "        1.0015000e-01, 2.0030000e-01],\n",
       "       [1.5033335e-01, 3.0066670e-01, 3.0534167e+00, ..., 9.8000000e-04,\n",
       "        0.0000000e+00, 1.0015000e-01],\n",
       "       [0.0000000e+00, 1.5033335e-01, 3.0066670e-01, ..., 1.9600000e-03,\n",
       "        9.8000000e-04, 0.0000000e+00]])"
      ]
     },
     "execution_count": 9,
     "metadata": {},
     "output_type": "execute_result"
    }
   ],
   "source": [
    "new_df = prepare_dataframe(train_df, window_size)\n",
    "new_df = new_df.to_numpy()\n",
    "new_df"
   ]
  },
  {
   "cell_type": "code",
   "execution_count": 10,
   "id": "69d032a5-50e4-4a4c-91dc-2535d964971c",
   "metadata": {},
   "outputs": [],
   "source": [
    "X = new_df[:, 1:]\n",
    "y = new_df[:, 0]"
   ]
  },
  {
   "cell_type": "code",
   "execution_count": 11,
   "id": "938237a4-6190-45be-a4d2-d6a11b650a43",
   "metadata": {},
   "outputs": [
    {
     "data": {
      "text/plain": [
       "((25599, 24), (25599,))"
      ]
     },
     "execution_count": 11,
     "metadata": {},
     "output_type": "execute_result"
    }
   ],
   "source": [
    "X.shape, y.shape"
   ]
  },
  {
   "cell_type": "code",
   "execution_count": 12,
   "id": "d9a11f73-2ac2-4569-b537-91a0518755f4",
   "metadata": {},
   "outputs": [],
   "source": [
    "split_index = int(len(X) * 0.8)"
   ]
  },
  {
   "cell_type": "code",
   "execution_count": 13,
   "id": "544e404f-09f8-480f-95a4-43fd0d4bfd5e",
   "metadata": {},
   "outputs": [
    {
     "data": {
      "text/plain": [
       "((20479, 24), (5120, 24), (20479,), (5120,))"
      ]
     },
     "execution_count": 13,
     "metadata": {},
     "output_type": "execute_result"
    }
   ],
   "source": [
    "X_train = X[:split_index]\n",
    "X_val = X[split_index:]\n",
    "\n",
    "y_train = y[:split_index]\n",
    "y_val = y[split_index:]\n",
    "\n",
    "X_train.shape, X_val.shape, y_train.shape, y_val.shape"
   ]
  },
  {
   "cell_type": "code",
   "execution_count": 14,
   "id": "2006eeb9-a7a2-405f-b7e2-ba90322633dc",
   "metadata": {},
   "outputs": [
    {
     "data": {
      "text/plain": [
       "((20479, 24, 1), (5120, 24, 1), (20479, 1), (5120, 1))"
      ]
     },
     "execution_count": 14,
     "metadata": {},
     "output_type": "execute_result"
    }
   ],
   "source": [
    "X_train = X_train.reshape((-1, window_size, 1))\n",
    "X_val = X_val.reshape((-1, window_size, 1))\n",
    "\n",
    "y_train = y_train.reshape((-1, 1))\n",
    "y_val = y_val.reshape((-1, 1))\n",
    "\n",
    "X_train.shape, X_val.shape, y_train.shape, y_val.shape"
   ]
  },
  {
   "cell_type": "code",
   "execution_count": 15,
   "id": "99b9397c-c836-4ed8-9ace-b55fe6976ab1",
   "metadata": {},
   "outputs": [
    {
     "data": {
      "text/plain": [
       "(torch.Size([20479, 24, 1]),\n",
       " torch.Size([5120, 24, 1]),\n",
       " torch.Size([20479, 1]),\n",
       " torch.Size([5120, 1]))"
      ]
     },
     "execution_count": 15,
     "metadata": {},
     "output_type": "execute_result"
    }
   ],
   "source": [
    "X_train = torch.tensor(X_train).float()\n",
    "y_train = torch.tensor(y_train).float()\n",
    "X_val = torch.tensor(X_val).float()\n",
    "y_val = torch.tensor(y_val).float()\n",
    "\n",
    "X_train.shape, X_val.shape, y_train.shape, y_val.shape"
   ]
  },
  {
   "cell_type": "code",
   "execution_count": 16,
   "id": "2253c6d2-f2af-4553-95d8-7ea4a4192c89",
   "metadata": {},
   "outputs": [],
   "source": [
    "class SolarData(Dataset):\n",
    "\n",
    "    def __init__(self, X, y):\n",
    "        self.X = X\n",
    "        self.y = y\n",
    "\n",
    "    def __len__(self):\n",
    "        return len(self.X)\n",
    "\n",
    "    def __getitem__(self, i):\n",
    "        return self.X[i], self.y[i]"
   ]
  },
  {
   "cell_type": "code",
   "execution_count": 17,
   "id": "5f8bfe52-eff2-444e-be33-42b04eee8491",
   "metadata": {},
   "outputs": [],
   "source": [
    "train = SolarData(X_train, y_train)\n",
    "val = SolarData(X_val, y_val)"
   ]
  },
  {
   "cell_type": "code",
   "execution_count": 18,
   "id": "8b66ad07-01c4-415a-9b8a-bc1030ab6778",
   "metadata": {},
   "outputs": [],
   "source": [
    "train_loader = DataLoader(train, batch_size = batch_size, shuffle = True)\n",
    "val_loader = DataLoader(val, batch_size = batch_size, shuffle = False)"
   ]
  },
  {
   "cell_type": "code",
   "execution_count": 19,
   "id": "91eb8128-6afa-4eb1-bcf9-1bce0afc3be5",
   "metadata": {},
   "outputs": [
    {
     "name": "stdout",
     "output_type": "stream",
     "text": [
      "torch.Size([100, 24, 1]) torch.Size([100, 1])\n"
     ]
    }
   ],
   "source": [
    "for _, batch in enumerate(train_loader):\n",
    "    x_batch, y_batch = batch[0].to(device), batch[1].to(device)\n",
    "    print(x_batch.shape, y_batch.shape)\n",
    "    break"
   ]
  },
  {
   "cell_type": "code",
   "execution_count": 20,
   "id": "212ad41f-54bb-40a6-bb07-c56aef28c840",
   "metadata": {},
   "outputs": [],
   "source": [
    "class CustomNet(nn.Module):\n",
    "\n",
    "    def __init__(self, input_size: int, hidden_size: int, num_classes: int):\n",
    "        super().__init__()\n",
    "        self.input_size = input_size\n",
    "        self.hidden_size = hidden_size\n",
    "        self.num_classes = num_classes\n",
    "        self.W = nn.Parameter(torch.Tensor(input_size, hidden_size), requires_grad = True)\n",
    "        self.lstm = nn.LSTM(hidden_size, hidden_size, batch_first = True)\n",
    "        self.fc = nn.Linear(hidden_size, num_classes)\n",
    "\n",
    "    def forward(self, x):\n",
    "        x = torch.tanh(x @ self.W)\n",
    "        x_, (h_t, c_t) = self.lstm(x)\n",
    "        out = self.fc(x_[:, -1, :])\n",
    "        return out"
   ]
  },
  {
   "cell_type": "code",
   "execution_count": 21,
   "id": "d4495d62-92cf-4aef-b6da-2ebca3e379f7",
   "metadata": {},
   "outputs": [],
   "source": [
    "customnet = CustomNet(input_size, hidden_size, num_classes).to(device)\n",
    "customnet_optimizer = torch.optim.Adam(customnet.parameters(), lr = learning_rate)"
   ]
  },
  {
   "cell_type": "code",
   "execution_count": 22,
   "id": "5918e72d-0a45-4e23-b14e-d06bf4f2b560",
   "metadata": {},
   "outputs": [],
   "source": [
    "total_customnet_parameters = count_parameters(customnet)"
   ]
  },
  {
   "cell_type": "code",
   "execution_count": 23,
   "id": "c4603d04-71cd-4193-bff8-001f0dafcd59",
   "metadata": {},
   "outputs": [],
   "source": [
    "customnet_train_loss_array = []\n",
    "customnet_val_loss_array = []"
   ]
  },
  {
   "cell_type": "code",
   "execution_count": 24,
   "id": "f5e2c704-4654-4499-9dac-53f2f0a1b0fb",
   "metadata": {},
   "outputs": [
    {
     "name": "stdout",
     "output_type": "stream",
     "text": [
      "Epoch no.: 1 | Training Loss: 4.302845203585741 | Validation Loss: 1.1135810043734427\n",
      "Epoch no.: 2 | Training Loss: 2.01108449930098 | Validation Loss: 0.3723472870635585\n",
      "Epoch no.: 3 | Training Loss: 1.4464261338478182 | Validation Loss: 0.18937541689061058\n",
      "Epoch no.: 4 | Training Loss: 1.2866702065235232 | Validation Loss: 0.12149206215130667\n",
      "Epoch no.: 5 | Training Loss: 1.223667751725127 | Validation Loss: 0.13405137866357109\n",
      "Epoch no.: 6 | Training Loss: 1.1666490870278057 | Validation Loss: 0.31659423621844185\n",
      "Epoch no.: 7 | Training Loss: 1.179459458008045 | Validation Loss: 0.11245357727882667\n",
      "Epoch no.: 8 | Training Loss: 1.137045922948093 | Validation Loss: 0.091355809678834\n",
      "Epoch no.: 9 | Training Loss: 1.1288973497181405 | Validation Loss: 0.1545807522533533\n",
      "Epoch no.: 10 | Training Loss: 1.128466617624934 | Validation Loss: 0.14653732931541386\n",
      "Epoch no.: 11 | Training Loss: 1.1194917523279422 | Validation Loss: 0.11766774458653974\n",
      "Epoch no.: 12 | Training Loss: 1.0596919261827702 | Validation Loss: 0.08948979458644037\n",
      "Epoch no.: 13 | Training Loss: 1.1244934833631284 | Validation Loss: 0.1257759765643501\n",
      "Epoch no.: 14 | Training Loss: 1.2034058650819266 | Validation Loss: 0.11577136311167963\n",
      "Epoch no.: 15 | Training Loss: 1.1256449684864138 | Validation Loss: 0.08562451617595238\n",
      "Epoch no.: 16 | Training Loss: 1.1092129583765822 | Validation Loss: 0.10493542505915124\n",
      "Epoch no.: 17 | Training Loss: 1.1288554905391321 | Validation Loss: 0.1047446133379708\n",
      "Epoch no.: 18 | Training Loss: 1.0961876321129682 | Validation Loss: 0.4426484127490347\n",
      "Epoch no.: 19 | Training Loss: 1.1437029539085015 | Validation Loss: 0.19257364005982078\n",
      "Epoch no.: 20 | Training Loss: 1.1280294220621994 | Validation Loss: 0.15936459244851273\n",
      "Epoch no.: 21 | Training Loss: 1.0870423116335055 | Validation Loss: 0.08570328594158547\n",
      "Epoch no.: 22 | Training Loss: 1.0979804475859898 | Validation Loss: 0.11956802218572612\n",
      "Epoch no.: 23 | Training Loss: 1.0554617192687057 | Validation Loss: 0.1339944755065097\n",
      "Epoch no.: 24 | Training Loss: 1.0747014057345508 | Validation Loss: 0.09887278288022991\n",
      "Epoch no.: 25 | Training Loss: 1.111145911565641 | Validation Loss: 0.09588835810651429\n",
      "Epoch no.: 26 | Training Loss: 1.0750249778352132 | Validation Loss: 0.12656895684687278\n",
      "Epoch no.: 27 | Training Loss: 1.115855660525764 | Validation Loss: 0.09090579329103303\n",
      "Epoch no.: 28 | Training Loss: 1.09424441907464 | Validation Loss: 0.10462082915294629\n",
      "Epoch no.: 29 | Training Loss: 1.1362460008481654 | Validation Loss: 0.07929506891098125\n",
      "Epoch no.: 30 | Training Loss: 1.1342950262674472 | Validation Loss: 0.10039340998012519\n",
      "Epoch no.: 31 | Training Loss: 1.1163378378240074 | Validation Loss: 0.13071015519940724\n",
      "Epoch no.: 32 | Training Loss: 1.1061327767808262 | Validation Loss: 0.11893566325754644\n",
      "Epoch no.: 33 | Training Loss: 1.1129329746816217 | Validation Loss: 0.1084869322087168\n",
      "Epoch no.: 34 | Training Loss: 1.1303787186378387 | Validation Loss: 0.1353254504668327\n",
      "Epoch no.: 35 | Training Loss: 1.1498407654645966 | Validation Loss: 0.16043246412076628\n",
      "Epoch no.: 36 | Training Loss: 1.0970954506862454 | Validation Loss: 0.08879115246684076\n",
      "Epoch no.: 37 | Training Loss: 1.1684303670394711 | Validation Loss: 0.10142619939086636\n",
      "Epoch no.: 38 | Training Loss: 1.1210342242950346 | Validation Loss: 0.1013975454082426\n",
      "Epoch no.: 39 | Training Loss: 1.1586923074431537 | Validation Loss: 0.10046590662984901\n",
      "Epoch no.: 40 | Training Loss: 1.1283050284153078 | Validation Loss: 0.12834806577302516\n",
      "Epoch no.: 41 | Training Loss: 1.1046448060652105 | Validation Loss: 0.16513516411718088\n",
      "Epoch no.: 42 | Training Loss: 1.1371969404743938 | Validation Loss: 0.1414667599556896\n",
      "Epoch no.: 43 | Training Loss: 1.1032125352359399 | Validation Loss: 0.15820890968335824\n",
      "Epoch no.: 44 | Training Loss: 1.1087892724246513 | Validation Loss: 0.10123640219255602\n",
      "Epoch no.: 45 | Training Loss: 1.0967472620126677 | Validation Loss: 0.20319900082764575\n",
      "Epoch no.: 46 | Training Loss: 1.0698212630865052 | Validation Loss: 0.18347711109135373\n",
      "Epoch no.: 47 | Training Loss: 1.1105313965460148 | Validation Loss: 0.08764596159842487\n",
      "Epoch no.: 48 | Training Loss: 1.1024804228689613 | Validation Loss: 0.0892425668884803\n",
      "Epoch no.: 49 | Training Loss: 1.0892134173614223 | Validation Loss: 0.09755089857991642\n",
      "Epoch no.: 50 | Training Loss: 1.0930230143593578 | Validation Loss: 0.18391226198313093\n",
      "Epoch no.: 51 | Training Loss: 1.0614615241201912 | Validation Loss: 0.09394284349085726\n",
      "Epoch no.: 52 | Training Loss: 1.0573747089723262 | Validation Loss: 0.10804462600768042\n",
      "Epoch no.: 53 | Training Loss: 1.0682717957147738 | Validation Loss: 0.08411539974118708\n",
      "Epoch no.: 54 | Training Loss: 1.0914700516840308 | Validation Loss: 0.08137655256023908\n",
      "Epoch no.: 55 | Training Loss: 1.0963217823970608 | Validation Loss: 0.08760385822573041\n",
      "Epoch no.: 56 | Training Loss: 1.05474923892719 | Validation Loss: 0.11258036966095321\n",
      "Epoch no.: 57 | Training Loss: 1.1265908401186873 | Validation Loss: 0.1145134645608218\n",
      "Epoch no.: 58 | Training Loss: 1.096998000435713 | Validation Loss: 0.12558722899008828\n",
      "Epoch no.: 59 | Training Loss: 1.0850012521918226 | Validation Loss: 0.13539255203123993\n",
      "Epoch no.: 60 | Training Loss: 1.087055332922354 | Validation Loss: 0.09496453025852904\n",
      "Epoch no.: 61 | Training Loss: 1.0580835199937588 | Validation Loss: 0.14481353863643912\n",
      "Epoch no.: 62 | Training Loss: 1.085895708712136 | Validation Loss: 0.13925201663089234\n",
      "Epoch no.: 63 | Training Loss: 1.0768370461173173 | Validation Loss: 0.16842470726428124\n",
      "Epoch no.: 64 | Training Loss: 1.0788667670110377 | Validation Loss: 0.21211270320838174\n",
      "Epoch no.: 65 | Training Loss: 1.0686838263418617 | Validation Loss: 0.11644580495060207\n",
      "Epoch no.: 66 | Training Loss: 1.0734264735768482 | Validation Loss: 0.10297577269157611\n",
      "Epoch no.: 67 | Training Loss: 1.116791119808104 | Validation Loss: 0.10693250289589812\n",
      "Epoch no.: 68 | Training Loss: 1.0393753421015857 | Validation Loss: 0.12334484085015272\n",
      "Epoch no.: 69 | Training Loss: 1.0865494988313535 | Validation Loss: 0.1115722636369845\n",
      "Epoch no.: 70 | Training Loss: 1.0547017395496368 | Validation Loss: 0.09783614542538999\n",
      "Epoch no.: 71 | Training Loss: 1.0845778289364605 | Validation Loss: 0.13201200258201704\n",
      "Epoch no.: 72 | Training Loss: 1.0766619048467496 | Validation Loss: 0.14374906933964945\n",
      "Epoch no.: 73 | Training Loss: 1.0502607235094397 | Validation Loss: 0.09927575992724787\n",
      "Epoch no.: 74 | Training Loss: 1.0425931150593408 | Validation Loss: 0.10724845308644805\n",
      "Epoch no.: 75 | Training Loss: 1.069743418402788 | Validation Loss: 0.10031773585741086\n",
      "Epoch no.: 76 | Training Loss: 1.0206049671987207 | Validation Loss: 0.10142637737310277\n",
      "Epoch no.: 77 | Training Loss: 1.0185746675584375 | Validation Loss: 0.1047047497357618\n",
      "Epoch no.: 78 | Training Loss: 1.0421614162805604 | Validation Loss: 0.08158100703351814\n",
      "Epoch no.: 79 | Training Loss: 1.0315778461171359 | Validation Loss: 0.17503551963930547\n",
      "Epoch no.: 80 | Training Loss: 1.0478864805000585 | Validation Loss: 0.13299107967199794\n",
      "Epoch no.: 81 | Training Loss: 1.0833311554862233 | Validation Loss: 0.09892118305329999\n",
      "Epoch no.: 82 | Training Loss: 1.0145010334689444 | Validation Loss: 0.13541803496236055\n",
      "Epoch no.: 83 | Training Loss: 1.0442177039820975 | Validation Loss: 0.14158343991640812\n",
      "Epoch no.: 84 | Training Loss: 1.0351880294520681 | Validation Loss: 0.10853016985437045\n",
      "Epoch no.: 85 | Training Loss: 1.0199257970583149 | Validation Loss: 0.15365169314631763\n",
      "Epoch no.: 86 | Training Loss: 1.0611851955332408 | Validation Loss: 0.1323621051896435\n",
      "Epoch no.: 87 | Training Loss: 1.0285840149332837 | Validation Loss: 0.20625699144931367\n",
      "Epoch no.: 88 | Training Loss: 0.9975221444920795 | Validation Loss: 0.11259282247360367\n",
      "Epoch no.: 89 | Training Loss: 1.0197502807873051 | Validation Loss: 0.08168156811510786\n",
      "Epoch no.: 90 | Training Loss: 0.9908463977459 | Validation Loss: 0.08690333101325311\n",
      "Epoch no.: 91 | Training Loss: 1.0407420303763413 | Validation Loss: 0.1434025920640964\n",
      "Epoch no.: 92 | Training Loss: 1.056366523882238 | Validation Loss: 0.11027050644938405\n",
      "Epoch no.: 93 | Training Loss: 1.0362779717619826 | Validation Loss: 0.10851502632543158\n",
      "Epoch no.: 94 | Training Loss: 1.0183652405331773 | Validation Loss: 0.10371264575895531\n",
      "Epoch no.: 95 | Training Loss: 1.0205668059791007 | Validation Loss: 0.10776949979257412\n",
      "Epoch no.: 96 | Training Loss: 1.0545245439541049 | Validation Loss: 0.24998251178588432\n",
      "Epoch no.: 97 | Training Loss: 1.0065923215412511 | Validation Loss: 0.11277209248286314\n",
      "Epoch no.: 98 | Training Loss: 1.040469196656855 | Validation Loss: 0.1402637475325369\n",
      "Epoch no.: 99 | Training Loss: 0.9995164663326449 | Validation Loss: 0.2872610272853098\n",
      "Epoch no.: 100 | Training Loss: 1.0068350963476227 | Validation Loss: 0.13915610033515036\n",
      "Epoch no.: 101 | Training Loss: 1.012804783698989 | Validation Loss: 0.10313341893701224\n",
      "Epoch no.: 102 | Training Loss: 1.0186876794187034 | Validation Loss: 0.09313058901170734\n",
      "Epoch no.: 103 | Training Loss: 1.0372667507427495 | Validation Loss: 0.1020964163348813\n",
      "Epoch no.: 104 | Training Loss: 1.0312585497774729 | Validation Loss: 0.1320323687060199\n",
      "Epoch no.: 105 | Training Loss: 1.0391101674335759 | Validation Loss: 0.15881293292085713\n",
      "Epoch no.: 106 | Training Loss: 1.027048977409921 | Validation Loss: 0.07404944056375265\n",
      "Epoch no.: 107 | Training Loss: 1.0019659853563077 | Validation Loss: 0.11075527514801181\n",
      "Epoch no.: 108 | Training Loss: 1.0196247848068796 | Validation Loss: 0.0947392201969006\n",
      "Epoch no.: 109 | Training Loss: 1.0047640831005282 | Validation Loss: 0.14994647184189838\n",
      "Epoch no.: 110 | Training Loss: 1.0357563694802727 | Validation Loss: 0.1386111119421772\n",
      "Epoch no.: 111 | Training Loss: 1.0809617219901666 | Validation Loss: 0.10245522414820786\n",
      "Epoch no.: 112 | Training Loss: 1.0420509155203657 | Validation Loss: 0.09978600655953275\n",
      "Epoch no.: 113 | Training Loss: 1.0702411093362947 | Validation Loss: 0.10697093025261822\n",
      "Epoch no.: 114 | Training Loss: 1.0152313248413365 | Validation Loss: 0.18914627583581023\n",
      "Epoch no.: 115 | Training Loss: 1.0279434102337535 | Validation Loss: 0.16037299910497566\n",
      "Epoch no.: 116 | Training Loss: 1.039035070523983 | Validation Loss: 0.16827051138254598\n",
      "Epoch no.: 117 | Training Loss: 1.0214978665840335 | Validation Loss: 0.13851875495702887\n",
      "Epoch no.: 118 | Training Loss: 1.0230547415047158 | Validation Loss: 0.1490256778197363\n",
      "Epoch no.: 119 | Training Loss: 1.082057872051146 | Validation Loss: 0.10691723908792028\n",
      "Epoch no.: 120 | Training Loss: 1.0575446535901325 | Validation Loss: 0.1254889636172895\n",
      "Epoch no.: 121 | Training Loss: 1.0187520674089106 | Validation Loss: 0.13672277680374323\n",
      "Epoch no.: 122 | Training Loss: 1.0084087304952667 | Validation Loss: 0.13647356783398068\n",
      "Epoch no.: 123 | Training Loss: 1.0262677432560339 | Validation Loss: 0.1376388272328768\n",
      "Epoch no.: 124 | Training Loss: 1.0254104529939048 | Validation Loss: 0.12121083302638279\n",
      "Epoch no.: 125 | Training Loss: 1.0319962223855461 | Validation Loss: 0.12494099520308037\n",
      "Epoch no.: 126 | Training Loss: 1.042346519958682 | Validation Loss: 0.10421297846523185\n",
      "Epoch no.: 127 | Training Loss: 1.0321569250851144 | Validation Loss: 0.1146456485316426\n",
      "Epoch no.: 128 | Training Loss: 1.018638288247876 | Validation Loss: 0.13027255369636875\n",
      "Epoch no.: 129 | Training Loss: 1.0012499213218689 | Validation Loss: 0.11712110633659624\n",
      "Epoch no.: 130 | Training Loss: 1.0100804645840715 | Validation Loss: 0.10513691829300324\n",
      "Epoch no.: 131 | Training Loss: 1.0324238604161797 | Validation Loss: 0.2009252457243677\n",
      "Epoch no.: 132 | Training Loss: 0.9853710462407368 | Validation Loss: 0.16712801254246956\n",
      "Epoch no.: 133 | Training Loss: 0.9778805178839985 | Validation Loss: 0.09936941872398873\n",
      "Epoch no.: 134 | Training Loss: 1.0126516334894227 | Validation Loss: 0.13546645987662487\n",
      "Epoch no.: 135 | Training Loss: 1.0170376830711598 | Validation Loss: 0.1198076803859574\n",
      "Epoch no.: 136 | Training Loss: 1.027834918440842 | Validation Loss: 0.10126266594922456\n",
      "Epoch no.: 137 | Training Loss: 1.015768508649454 | Validation Loss: 0.12100143925580106\n",
      "Epoch no.: 138 | Training Loss: 1.004009218186867 | Validation Loss: 0.15246197360102087\n",
      "Epoch no.: 139 | Training Loss: 0.9929695692004227 | Validation Loss: 0.09003474637463044\n",
      "Epoch no.: 140 | Training Loss: 1.0576030926006597 | Validation Loss: 0.13970565772279558\n",
      "Epoch no.: 141 | Training Loss: 1.030657139493198 | Validation Loss: 0.16500609231969485\n",
      "Epoch no.: 142 | Training Loss: 1.0603925135077499 | Validation Loss: 0.2223158647539094\n",
      "Epoch no.: 143 | Training Loss: 1.0312851905822753 | Validation Loss: 0.1471047459725434\n",
      "Epoch no.: 144 | Training Loss: 1.0364996000034052 | Validation Loss: 0.1658416329076387\n",
      "Epoch no.: 145 | Training Loss: 1.003580729408962 | Validation Loss: 0.10623680678858924\n",
      "Epoch no.: 146 | Training Loss: 1.0062984135092758 | Validation Loss: 0.11910315796446341\n",
      "Epoch no.: 147 | Training Loss: 1.0209124719224325 | Validation Loss: 0.1335415667932606\n",
      "Epoch no.: 148 | Training Loss: 1.0750359064195214 | Validation Loss: 0.08698780249128155\n",
      "Epoch no.: 149 | Training Loss: 1.0035492748748966 | Validation Loss: 0.08089248879878141\n",
      "Epoch no.: 150 | Training Loss: 1.0148847014438815 | Validation Loss: 0.1303252621123997\n"
     ]
    }
   ],
   "source": [
    "customnet_start_time = time.time()\n",
    "train_and_validate(epochs, device, customnet, train_loader, val_loader, criterion, customnet_optimizer, customnet_train_loss_array, customnet_val_loss_array)\n",
    "customnet_end_time = time.time()\n",
    "customnet_total_training_time = customnet_end_time - customnet_start_time\n",
    "customnet_avg_training_time_per_epoch = customnet_total_training_time / epochs"
   ]
  },
  {
   "cell_type": "code",
   "execution_count": 25,
   "id": "cc91c777-b5e9-4d17-99ad-068babf700df",
   "metadata": {},
   "outputs": [
    {
     "name": "stdout",
     "output_type": "stream",
     "text": [
      "\n",
      "\n",
      "------------------------------------------------------------\n",
      "Total Parameters:     CustomNet: 81001\n",
      "\n",
      "Total Training Time:     CustomNet: 196.21s\n",
      "\n",
      "Average Training Time Per Epoch:     CustomNet: 1.31s\n",
      "------------------------------------------------------------\n"
     ]
    }
   ],
   "source": [
    "print()\n",
    "print()\n",
    "print(\"------------------------------------------------------------\")\n",
    "print(f\"Total Parameters:     CustomNet: {total_customnet_parameters}\")\n",
    "print()\n",
    "print(f\"Total Training Time:     CustomNet: {customnet_total_training_time:.2f}s\")\n",
    "print()\n",
    "print(f\"Average Training Time Per Epoch:     CustomNet: {customnet_avg_training_time_per_epoch:.2f}s\")\n",
    "\n",
    "print(\"------------------------------------------------------------\")"
   ]
  },
  {
   "cell_type": "code",
   "execution_count": 26,
   "id": "15ccf1f9-55c2-4b6c-b7fc-8fc37ba0aea0",
   "metadata": {},
   "outputs": [
    {
     "data": {
      "image/png": "[encoded data removed]",
      "text/plain": [
       "<Figure size 600x600 with 1 Axes>"
      ]
     },
     "metadata": {},
     "output_type": "display_data"
    }
   ],
   "source": [
    "plot_loss_comparison(epochs, customnet_train_loss_array, customnet_val_loss_array, \"CustomNet Training Loss\", \"CustomNet Validation Loss\", \"Training vs Validation Loss\")"
   ]
  },
  {
   "cell_type": "code",
   "execution_count": 27,
   "id": "2c8837fe-ec84-4358-9527-870c6f564e1e",
   "metadata": {},
   "outputs": [
    {
     "name": "stderr",
     "output_type": "stream",
     "text": [
      "C:\\Users\\itadmin\\AppData\\Local\\Temp\\ipykernel_3432\\1908420732.py:3: UserWarning: To copy construct from a tensor, it is recommended to use sourceTensor.clone().detach() or sourceTensor.clone().detach().requires_grad_(True), rather than torch.tensor(sourceTensor).\n",
      "  last_24_values_test = torch.tensor(last_24_values_test, dtype=torch.float32).unsqueeze(0).to(device)\n"
     ]
    }
   ],
   "source": [
    "customnet.eval()\n",
    "last_24_values_test = y_val[-window_size:]\n",
    "last_24_values_test = torch.tensor(last_24_values_test, dtype=torch.float32).unsqueeze(0).to(device)\n",
    "predictions_test = []\n",
    "\n",
    "for i in range(window_size):\n",
    "    # Make the prediction\n",
    "    with torch.no_grad():\n",
    "        pred_test = customnet(last_24_values_test)\n",
    "    \n",
    "    # Store the prediction\n",
    "    predictions_test.append(pred_test.item())\n",
    "    \n",
    "    # Shift the values to the left and add the predicted value to the last_24_values_test for the next iteration\n",
    "    last_24_values_test = torch.cat((last_24_values_test[:, 1:], pred_test.unsqueeze(1)), dim=1)\n",
    "\n",
    "# Convert predictions_test to a numpy array\n",
    "predictions_test = np.array(predictions_test)"
   ]
  },
  {
   "cell_type": "code",
   "execution_count": 28,
   "id": "226a9734-95a5-47eb-811f-87752d2af365",
   "metadata": {},
   "outputs": [
    {
     "data": {
      "image/png": "[encoded data removed]",
      "text/plain": [
       "<Figure size 1200x600 with 1 Axes>"
      ]
     },
     "metadata": {},
     "output_type": "display_data"
    }
   ],
   "source": [
    "plt.figure(figsize=(12, 6))\n",
    "plt.plot(test['Date'], test['P (kW)'], 'g', label='True Values')\n",
    "plt.plot(test['Date'], predictions_test, 'b', label='Predictions')\n",
    "plt.title('True Values vs CustomNet Predictions')\n",
    "plt.xlabel('Date')\n",
    "plt.ylabel('P (kW)')\n",
    "plt.xticks(rotation=45)\n",
    "plt.legend()\n",
    "plt.grid(True)\n",
    "plt.tight_layout()\n",
    "plt.show()"
   ]
  },
  {
   "cell_type": "code",
   "execution_count": 29,
   "id": "a082b121-8c19-424c-9501-88571c15aa05",
   "metadata": {},
   "outputs": [
    {
     "name": "stdout",
     "output_type": "stream",
     "text": [
      "Mean Squared Error: 2.081600523977778\n"
     ]
    }
   ],
   "source": [
    "mse = root_mean_squared_error(test[\"P (kW)\"].values, predictions_test)\n",
    "print(f\"Mean Squared Error: {mse}\")"
   ]
  },
  {
   "cell_type": "code",
   "execution_count": null,
   "id": "1aa64908-7e0b-4672-a916-ccbe65da278a",
   "metadata": {},
   "outputs": [],
   "source": []
  }
 ],
 "metadata": {
  "kernelspec": {
   "display_name": "btp",
   "language": "python",
   "name": "btp"
  },
  "language_info": {
   "codemirror_mode": {
    "name": "ipython",
    "version": 3
   },
   "file_extension": ".py",
   "mimetype": "text/x-python",
   "name": "python",
   "nbconvert_exporter": "python",
   "pygments_lexer": "ipython3",
   "version": "3.9.13"
  }
 },
 "nbformat": 4,
 "nbformat_minor": 5
}
