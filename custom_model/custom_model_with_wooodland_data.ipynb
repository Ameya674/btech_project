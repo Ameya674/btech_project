{
 "cells": [
  {
   "cell_type": "code",
   "execution_count": 1,
   "id": "6c5d952d-e10b-4e6f-bfe4-0d056b9fc4d8",
   "metadata": {},
   "outputs": [
    {
     "name": "stdout",
     "output_type": "stream",
     "text": [
      "importing Jupyter notebook from helpers.ipynb\n"
     ]
    }
   ],
   "source": [
    "import pandas as pd\n",
    "import numpy as np\n",
    "import torch\n",
    "import torch.nn as nn\n",
    "import torch.nn.functional as F\n",
    "from copy import deepcopy as dc\n",
    "from sklearn.preprocessing import MinMaxScaler\n",
    "from torch.utils.data import Dataset, DataLoader\n",
    "import import_ipynb\n",
    "from helpers import train_and_validate, count_parameters, plot_loss_comparison, plot_test_predictions, compare_mse_loss\n",
    "import time\n",
    "import matplotlib.pyplot as plt\n",
    "from sklearn.metrics import r2_score"
   ]
  },
  {
   "cell_type": "code",
   "execution_count": 2,
   "id": "fc644754-665f-4c03-af33-40d55bab9657",
   "metadata": {},
   "outputs": [
    {
     "data": {
      "text/plain": [
       "'cuda'"
      ]
     },
     "execution_count": 2,
     "metadata": {},
     "output_type": "execute_result"
    }
   ],
   "source": [
    "device = \"cuda\" if torch.cuda.is_available() else \"cpu\"\n",
    "device"
   ]
  },
  {
   "cell_type": "code",
   "execution_count": 3,
   "id": "0b4b7f0e-b1b7-4032-9350-b0c4e88a8e1d",
   "metadata": {},
   "outputs": [],
   "source": [
    "window_size = 24\n",
    "batch_size = 100\n",
    "input_size = 1\n",
    "hidden_size = 100\n",
    "num_classes = 1\n",
    "learning_rate = 0.001\n",
    "epochs = 100\n",
    "criterion = nn.MSELoss()"
   ]
  },
  {
   "cell_type": "code",
   "execution_count": 4,
   "id": "ccd4f244-e547-44ef-9167-93219970870d",
   "metadata": {},
   "outputs": [],
   "source": [
    "def root_mean_squared_error(actual, predicted):\n",
    "    actual = torch.tensor(actual, dtype=torch.float32)\n",
    "    predicted = torch.tensor(predicted, dtype=torch.float32)\n",
    "    \n",
    "    if actual.shape != predicted.shape:\n",
    "        raise ValueError(\"Tensors must have the same shape.\")\n",
    "    \n",
    "    mse = torch.mean((actual - predicted)**2)\n",
    "    \n",
    "    return (mse.item() ** 0.5)"
   ]
  },
  {
   "cell_type": "code",
   "execution_count": 5,
   "id": "420ebd5f-b564-482a-9e41-876c4d4bb0a0",
   "metadata": {},
   "outputs": [
    {
     "data": {
      "text/plain": [
       "(25650, 2)"
      ]
     },
     "execution_count": 5,
     "metadata": {},
     "output_type": "execute_result"
    }
   ],
   "source": [
    "df = pd.read_csv(\"../data/clean_woodland_data.csv\")\n",
    "df.shape"
   ]
  },
  {
   "cell_type": "code",
   "execution_count": 6,
   "id": "167b7b1f-6453-4aaf-a497-b2b665008ccd",
   "metadata": {},
   "outputs": [],
   "source": [
    "df = df[[\"Date\", \"P (kW)\"]]\n",
    "train_df = df.iloc[:-24]\n",
    "test = df.iloc[-24:]"
   ]
  },
  {
   "cell_type": "code",
   "execution_count": 7,
   "id": "cc32adfc-3565-4680-bbfe-a9f25be576c9",
   "metadata": {},
   "outputs": [],
   "source": [
    "def prepare_dataframe(df, n_steps):\n",
    "    df = dc(df)\n",
    "    \n",
    "    df.set_index('Date', inplace=True)\n",
    "    \n",
    "    for i in range(1, n_steps+1):\n",
    "        df[f'P (kW)(t-{i})'] = df['P (kW)'].shift(i)\n",
    "        \n",
    "    df.dropna(inplace=True)\n",
    "    \n",
    "    return df"
   ]
  },
  {
   "cell_type": "code",
   "execution_count": 8,
   "id": "0568045e-085f-4ede-bb28-8313c36eef16",
   "metadata": {},
   "outputs": [
    {
     "data": {
      "text/plain": [
       "array([[0.0000000e+00, 0.0000000e+00, 0.0000000e+00, ..., 2.7620833e+00,\n",
       "        4.1058330e-01, 0.0000000e+00],\n",
       "       [7.4316670e-01, 0.0000000e+00, 0.0000000e+00, ..., 5.4612500e+00,\n",
       "        2.7620833e+00, 4.1058330e-01],\n",
       "       [4.3818335e+00, 7.4316670e-01, 0.0000000e+00, ..., 8.3561670e+00,\n",
       "        5.4612500e+00, 2.7620833e+00],\n",
       "       ...,\n",
       "       [1.1980000e-02, 0.0000000e+00, 1.5033335e-01, ..., 2.9400000e-03,\n",
       "        1.9600000e-03, 9.8000000e-04],\n",
       "       [2.3960000e-02, 1.1980000e-02, 0.0000000e+00, ..., 3.9200000e-03,\n",
       "        2.9400000e-03, 1.9600000e-03],\n",
       "       [3.5940000e-02, 2.3960000e-02, 1.1980000e-02, ..., 4.9000000e-03,\n",
       "        3.9200000e-03, 2.9400000e-03]])"
      ]
     },
     "execution_count": 8,
     "metadata": {},
     "output_type": "execute_result"
    }
   ],
   "source": [
    "new_df = prepare_dataframe(train_df, window_size)\n",
    "new_df = new_df.to_numpy()\n",
    "new_df"
   ]
  },
  {
   "cell_type": "code",
   "execution_count": 9,
   "id": "bdd0882a-7858-44c0-b9f0-ea66d3cb8a48",
   "metadata": {},
   "outputs": [
    {
     "data": {
      "text/plain": [
       "(25602, 25)"
      ]
     },
     "execution_count": 9,
     "metadata": {},
     "output_type": "execute_result"
    }
   ],
   "source": [
    "new_df.shape"
   ]
  },
  {
   "cell_type": "code",
   "execution_count": 10,
   "id": "c2701691-7666-4613-88cf-f17826916496",
   "metadata": {},
   "outputs": [],
   "source": [
    "X = new_df[:, 1:]\n",
    "y = new_df[:, 0]"
   ]
  },
  {
   "cell_type": "code",
   "execution_count": 11,
   "id": "fc8f30b2-f6fb-4120-8a4b-dd3cf7e2425b",
   "metadata": {},
   "outputs": [
    {
     "data": {
      "text/plain": [
       "((25602, 24), (25602,))"
      ]
     },
     "execution_count": 11,
     "metadata": {},
     "output_type": "execute_result"
    }
   ],
   "source": [
    "X.shape, y.shape"
   ]
  },
  {
   "cell_type": "code",
   "execution_count": 12,
   "id": "07286ca3-cde1-404f-8b98-91b7a89946c8",
   "metadata": {},
   "outputs": [],
   "source": [
    "split_index = int(len(X) * 0.9)"
   ]
  },
  {
   "cell_type": "code",
   "execution_count": 13,
   "id": "bde5bbf9-f069-4324-9d4e-86402559c975",
   "metadata": {},
   "outputs": [
    {
     "data": {
      "text/plain": [
       "((23041, 24), (2561, 24), (23041,), (2561,))"
      ]
     },
     "execution_count": 13,
     "metadata": {},
     "output_type": "execute_result"
    }
   ],
   "source": [
    "X_train = X[:split_index]\n",
    "X_val = X[split_index:]\n",
    "\n",
    "y_train = y[:split_index]\n",
    "y_val = y[split_index:]\n",
    "\n",
    "X_train.shape, X_val.shape, y_train.shape, y_val.shape"
   ]
  },
  {
   "cell_type": "code",
   "execution_count": 14,
   "id": "7f6a57fa-5fdc-49dd-9182-ba3715c0ff01",
   "metadata": {},
   "outputs": [
    {
     "data": {
      "text/plain": [
       "((23041, 24, 1), (2561, 24, 1), (23041, 1), (2561, 1))"
      ]
     },
     "execution_count": 14,
     "metadata": {},
     "output_type": "execute_result"
    }
   ],
   "source": [
    "X_train = X_train.reshape((-1, window_size, 1))\n",
    "X_val = X_val.reshape((-1, window_size, 1))\n",
    "\n",
    "y_train = y_train.reshape((-1, 1))\n",
    "y_val = y_val.reshape((-1, 1))\n",
    "\n",
    "X_train.shape, X_val.shape, y_train.shape, y_val.shape"
   ]
  },
  {
   "cell_type": "code",
   "execution_count": 15,
   "id": "bd0e515a-ea06-40ef-a127-ca1f1e681890",
   "metadata": {},
   "outputs": [
    {
     "data": {
      "text/plain": [
       "(torch.Size([23041, 24, 1]),\n",
       " torch.Size([2561, 24, 1]),\n",
       " torch.Size([23041, 1]),\n",
       " torch.Size([2561, 1]))"
      ]
     },
     "execution_count": 15,
     "metadata": {},
     "output_type": "execute_result"
    }
   ],
   "source": [
    "X_train = torch.tensor(X_train).float()\n",
    "y_train = torch.tensor(y_train).float()\n",
    "X_val = torch.tensor(X_val).float()\n",
    "y_val = torch.tensor(y_val).float()\n",
    "\n",
    "X_train.shape, X_val.shape, y_train.shape, y_val.shape"
   ]
  },
  {
   "cell_type": "code",
   "execution_count": 16,
   "id": "f4050e2c-4b38-471a-9682-d8aa2657fbc9",
   "metadata": {},
   "outputs": [],
   "source": [
    "class SolarData(Dataset):\n",
    "\n",
    "    def __init__(self, X, y):\n",
    "        self.X = X\n",
    "        self.y = y\n",
    "\n",
    "    def __len__(self):\n",
    "        return len(self.X)\n",
    "\n",
    "    def __getitem__(self, i):\n",
    "        return self.X[i], self.y[i]"
   ]
  },
  {
   "cell_type": "code",
   "execution_count": 17,
   "id": "fee36197-df5e-4329-b6b4-792b5d7fa2f8",
   "metadata": {},
   "outputs": [],
   "source": [
    "train = SolarData(X_train, y_train)\n",
    "val = SolarData(X_val, y_val)"
   ]
  },
  {
   "cell_type": "code",
   "execution_count": 18,
   "id": "c1504194-0e7a-477f-a2f0-66bd27f1a8ec",
   "metadata": {},
   "outputs": [],
   "source": [
    "train_loader = DataLoader(train, batch_size = batch_size, shuffle = True)\n",
    "val_loader = DataLoader(val, batch_size = batch_size, shuffle = False)"
   ]
  },
  {
   "cell_type": "code",
   "execution_count": 19,
   "id": "81af203c-042c-4916-b934-19fca083017b",
   "metadata": {},
   "outputs": [
    {
     "name": "stdout",
     "output_type": "stream",
     "text": [
      "torch.Size([100, 24, 1]) torch.Size([100, 1])\n"
     ]
    }
   ],
   "source": [
    "for _, batch in enumerate(train_loader):\n",
    "    x_batch, y_batch = batch[0].to(device), batch[1].to(device)\n",
    "    print(x_batch.shape, y_batch.shape)\n",
    "    break"
   ]
  },
  {
   "cell_type": "markdown",
   "id": "1006acfd-7c28-40e2-a379-6c5a717ae507",
   "metadata": {},
   "source": [
    "## Custom Model"
   ]
  },
  {
   "cell_type": "code",
   "execution_count": 20,
   "id": "a6b5402c-c245-45b3-b64f-490de2ad647e",
   "metadata": {},
   "outputs": [],
   "source": [
    "class CustomUnit(nn.Module):\n",
    "\n",
    "\n",
    "\n",
    "    def __init__(self, input_size: int, hidden_size: int):\n",
    "        super().__init__()\n",
    "        self.input_size = input_size\n",
    "        self.hidden_size = hidden_size\n",
    "\n",
    "        # input weight\n",
    "        self.W_i = nn.Parameter(torch.Tensor(input_size, hidden_size), requires_grad = True)\n",
    "\n",
    "        # forget gate\n",
    "        self.W_f = nn.Parameter(torch.Tensor(hidden_size, hidden_size), requires_grad = True)\n",
    "        self.U_f = nn.Parameter(torch.Tensor(hidden_size, hidden_size), requires_grad = True)\n",
    "        self.b_f = nn.Parameter(torch.Tensor(hidden_size), requires_grad = True)\n",
    "\n",
    "        self.init_weights()\n",
    "\n",
    "    def init_weights(self):\n",
    "        for weight in self.parameters():\n",
    "            if weight.data.ndimension() < 2:  # Bias or 1D weights\n",
    "                nn.init.zeros_(weight)\n",
    "            else:\n",
    "                nn.init.xavier_uniform_(weight)\n",
    "\n",
    "\n",
    "\n",
    "    def forward(self, x, hidden = None):\n",
    "\n",
    "        bs, seq, ip = x.size()\n",
    "        hidden_seq = []\n",
    "\n",
    "        if hidden is None:\n",
    "            h_prev, c_prev = (\n",
    "                torch.zeros(bs, self.hidden_size).to(device),\n",
    "                torch.zeros(bs, self.hidden_size).to(device),\n",
    "            )\n",
    "        else:\n",
    "            h_prev, c_prev = hidden\n",
    "\n",
    "        for t in range(seq):\n",
    "            x_t = x[:, t, :]\n",
    "            x_t = torch.tanh(x_t @ self.W_i)\n",
    "            f_t = torch.sigmoid(x_t @ self.W_f + h_prev @ self.U_f + self.b_f) \n",
    "            h_t = (f_t * h_prev) + ((1 - f_t) * x_t)\n",
    "            c_t = c_prev\n",
    "            hidden_seq.append(h_t.unsqueeze(0))\n",
    "\n",
    "        hidden_seq = torch.cat(hidden_seq, dim = 0)\n",
    "        hidden_seq = hidden_seq.transpose(0, 1).contiguous()\n",
    "        return hidden_seq, (h_t, c_t)\n",
    "\n",
    "class CustomNet(nn.Module):\n",
    "\n",
    "    def __init__(self, input_size: int, hidden_size: int, num_classes: int):\n",
    "        super().__init__()\n",
    "        self.input_size = input_size\n",
    "        self.hidden_size = hidden_size\n",
    "        self.num_classes = num_classes\n",
    "        self.custom_layer = CustomUnit(input_size, hidden_size)\n",
    "        self.fc = nn.Linear(hidden_size, num_classes)\n",
    "\n",
    "    def forward(self, x):\n",
    "        x_, (h_t, c_t) = self.custom_layer(x)\n",
    "        out = F.relu(self.fc(x_[:, -1, :]))\n",
    "        return out   "
   ]
  },
  {
   "cell_type": "code",
   "execution_count": 21,
   "id": "f7870b0c-3bb0-403a-b977-c72077c96c15",
   "metadata": {},
   "outputs": [],
   "source": [
    "rnnnet = CustomNet(input_size, hidden_size, num_classes).to(device)\n",
    "rnnnet_optimizer = torch.optim.Adam(rnnnet.parameters(), lr = learning_rate)"
   ]
  },
  {
   "cell_type": "code",
   "execution_count": 22,
   "id": "8cddfb0f-82b6-46fc-9d97-862f45b9b0a1",
   "metadata": {},
   "outputs": [],
   "source": [
    "total_rnnnet_parameters = count_parameters(rnnnet)"
   ]
  },
  {
   "cell_type": "code",
   "execution_count": 23,
   "id": "31c1678a-ba4c-4733-8e5f-45c3ca4c4c03",
   "metadata": {},
   "outputs": [],
   "source": [
    "rnnnet_train_loss_array = []\n",
    "rnnnet_val_loss_array = []"
   ]
  },
  {
   "cell_type": "code",
   "execution_count": 24,
   "id": "9fc94dfe-834a-4829-a234-e3fb8063577a",
   "metadata": {},
   "outputs": [
    {
     "name": "stdout",
     "output_type": "stream",
     "text": [
      "Epoch no.: 1 | Training Loss: 7.216345283892248 | Validation Loss: 2.6819934519186903\n",
      "Epoch no.: 2 | Training Loss: 3.8393688093532217 | Validation Loss: 2.729956119178006\n",
      "Epoch no.: 3 | Training Loss: 3.753764619042863 | Validation Loss: 2.743121610703663\n",
      "Epoch no.: 4 | Training Loss: 3.7279884113377824 | Validation Loss: 2.7582283433741677\n",
      "Epoch no.: 5 | Training Loss: 3.7174893581505977 | Validation Loss: 2.749860394996806\n",
      "Epoch no.: 6 | Training Loss: 3.695292492449542 | Validation Loss: 2.7518820276555536\n",
      "Epoch no.: 7 | Training Loss: 3.6920957395008633 | Validation Loss: 2.714859184737389\n",
      "Epoch no.: 8 | Training Loss: 3.6843385858969255 | Validation Loss: 2.7361311764957814\n",
      "Epoch no.: 9 | Training Loss: 3.6779113156454906 | Validation Loss: 2.7298214583872604\n",
      "Epoch no.: 10 | Training Loss: 3.657842417816063 | Validation Loss: 2.7391113797919107\n",
      "Epoch no.: 11 | Training Loss: 3.6473958812234724 | Validation Loss: 2.6912735790873947\n",
      "Epoch no.: 12 | Training Loss: 3.6466593186318614 | Validation Loss: 2.754480335216683\n",
      "Epoch no.: 13 | Training Loss: 3.6513415115736265 | Validation Loss: 2.7166474900709896\n",
      "Epoch no.: 14 | Training Loss: 3.6540852325819273 | Validation Loss: 2.729151118009423\n",
      "Epoch no.: 15 | Training Loss: 3.6362915049383653 | Validation Loss: 2.700333420187235\n",
      "Epoch no.: 16 | Training Loss: 3.6503468411309377 | Validation Loss: 2.676731000188738\n",
      "Epoch no.: 17 | Training Loss: 3.656847489602638 | Validation Loss: 2.694840400228993\n",
      "Epoch no.: 18 | Training Loss: 3.6447165337475864 | Validation Loss: 2.740859119293208\n",
      "Epoch no.: 19 | Training Loss: 3.6482610165814817 | Validation Loss: 2.6768784309164264\n",
      "Epoch no.: 20 | Training Loss: 3.655610079373116 | Validation Loss: 2.7275826844673317\n",
      "Epoch no.: 21 | Training Loss: 3.6422796739644303 | Validation Loss: 2.7384868565803537\n",
      "Epoch no.: 22 | Training Loss: 3.6416346995861497 | Validation Loss: 2.7502844465466647\n",
      "Epoch no.: 23 | Training Loss: 3.643374302170493 | Validation Loss: 2.7053184216268935\n",
      "Epoch no.: 24 | Training Loss: 3.6397805933828478 | Validation Loss: 2.737667576015855\n",
      "Epoch no.: 25 | Training Loss: 3.6403711309164635 | Validation Loss: 2.7059994291944\n",
      "Epoch no.: 26 | Training Loss: 3.633169410548685 | Validation Loss: 2.7412750593458233\n",
      "Epoch no.: 27 | Training Loss: 3.6472593045337893 | Validation Loss: 2.6872218928586404\n",
      "Epoch no.: 28 | Training Loss: 3.6364271393069973 | Validation Loss: 2.6989455814831533\n",
      "Epoch no.: 29 | Training Loss: 3.648501267938903 | Validation Loss: 2.7070261230334065\n",
      "Epoch no.: 30 | Training Loss: 3.6502240932349004 | Validation Loss: 2.7472975297042956\n",
      "Epoch no.: 31 | Training Loss: 3.6417630590917742 | Validation Loss: 2.7440043032670824\n",
      "Epoch no.: 32 | Training Loss: 3.6361528506010643 | Validation Loss: 2.694689343522231\n",
      "Epoch no.: 33 | Training Loss: 3.639135419032274 | Validation Loss: 2.740565382696402\n",
      "Epoch no.: 34 | Training Loss: 3.6557893371169183 | Validation Loss: 2.6945817258853753\n",
      "Epoch no.: 35 | Training Loss: 3.6394911501314735 | Validation Loss: 2.7263088473477044\n",
      "Epoch no.: 36 | Training Loss: 3.65235795396747 | Validation Loss: 2.693610254263219\n",
      "Epoch no.: 37 | Training Loss: 3.648017916328463 | Validation Loss: 2.734396694478794\n",
      "Epoch no.: 38 | Training Loss: 3.635185173579625 | Validation Loss: 2.7003068917860777\n",
      "Epoch no.: 39 | Training Loss: 3.6496314968897665 | Validation Loss: 2.7310149604454637\n",
      "Epoch no.: 40 | Training Loss: 3.6428689456089236 | Validation Loss: 2.6823226742159862\n",
      "Epoch no.: 41 | Training Loss: 3.653520007799198 | Validation Loss: 2.7022474028098467\n",
      "Epoch no.: 42 | Training Loss: 3.649874788600129 | Validation Loss: 2.745476825377689\n",
      "Epoch no.: 43 | Training Loss: 3.639819416390869 | Validation Loss: 2.6907562557249687\n",
      "Epoch no.: 44 | Training Loss: 3.665839246599189 | Validation Loss: 2.7151296234761295\n",
      "Epoch no.: 45 | Training Loss: 3.6457257095353426 | Validation Loss: 2.6992894680454182\n",
      "Epoch no.: 46 | Training Loss: 3.644425003043501 | Validation Loss: 2.6946084417689304\n",
      "Epoch no.: 47 | Training Loss: 3.6384859250221417 | Validation Loss: 2.723427738743619\n",
      "Epoch no.: 48 | Training Loss: 3.6494158067744533 | Validation Loss: 2.708170792123733\n",
      "Epoch no.: 49 | Training Loss: 3.642361745173797 | Validation Loss: 2.6936875140437713\n",
      "Epoch no.: 50 | Training Loss: 3.6366613703372677 | Validation Loss: 2.7054565310693133\n",
      "Epoch no.: 51 | Training Loss: 3.638920301482791 | Validation Loss: 2.7202492464477053\n",
      "Epoch no.: 52 | Training Loss: 3.6428272213254655 | Validation Loss: 2.7517110360428116\n",
      "Epoch no.: 53 | Training Loss: 3.638608662339 | Validation Loss: 2.676953599215127\n",
      "Epoch no.: 54 | Training Loss: 3.639989521596339 | Validation Loss: 2.699990223448437\n",
      "Epoch no.: 55 | Training Loss: 3.636040671305223 | Validation Loss: 2.727244734656639\n",
      "Epoch no.: 56 | Training Loss: 3.6426990352151716 | Validation Loss: 2.7553044229101102\n",
      "Epoch no.: 57 | Training Loss: 3.6420451588444895 | Validation Loss: 2.6949647386522533\n",
      "Epoch no.: 58 | Training Loss: 3.6488597813622774 | Validation Loss: 2.6920165821300963\n",
      "Epoch no.: 59 | Training Loss: 3.6423234268700404 | Validation Loss: 2.7242199196480215\n",
      "Epoch no.: 60 | Training Loss: 3.6464005548716623 | Validation Loss: 2.6939991490485578\n",
      "Epoch no.: 61 | Training Loss: 3.635559098545091 | Validation Loss: 2.6969057420053733\n",
      "Epoch no.: 62 | Training Loss: 3.640632834269371 | Validation Loss: 2.677715980555289\n",
      "Epoch no.: 63 | Training Loss: 3.6402686937546833 | Validation Loss: 2.7090426965688286\n",
      "Epoch no.: 64 | Training Loss: 3.6408501533202795 | Validation Loss: 2.7306173406183145\n",
      "Epoch no.: 65 | Training Loss: 3.634597593055659 | Validation Loss: 2.731093338260857\n",
      "Epoch no.: 66 | Training Loss: 3.640942463885138 | Validation Loss: 2.694788563244331\n",
      "Epoch no.: 67 | Training Loss: 3.641364649518744 | Validation Loss: 2.73146617717038\n",
      "Epoch no.: 68 | Training Loss: 3.642399601090006 | Validation Loss: 2.7309036470878008\n",
      "Epoch no.: 69 | Training Loss: 3.650274003480936 | Validation Loss: 2.714538960860899\n",
      "Epoch no.: 70 | Training Loss: 3.645053701483326 | Validation Loss: 2.716150389267848\n",
      "Epoch no.: 71 | Training Loss: 3.637029468239128 | Validation Loss: 2.743630496140283\n",
      "Epoch no.: 72 | Training Loss: 3.6494772516803824 | Validation Loss: 2.709169561419493\n",
      "Epoch no.: 73 | Training Loss: 3.6400427921509846 | Validation Loss: 2.7480110726677456\n",
      "Epoch no.: 74 | Training Loss: 3.640197796739025 | Validation Loss: 2.705468655563891\n",
      "Epoch no.: 75 | Training Loss: 3.6387588270814906 | Validation Loss: 2.686474204529077\n",
      "Epoch no.: 76 | Training Loss: 3.6384445609468403 | Validation Loss: 2.7101325640419067\n",
      "Epoch no.: 77 | Training Loss: 3.6454357749971993 | Validation Loss: 2.7356280266450574\n",
      "Epoch no.: 78 | Training Loss: 3.6383050556306715 | Validation Loss: 2.7010099309532403\n",
      "Epoch no.: 79 | Training Loss: 3.644627584007395 | Validation Loss: 2.720830967166246\n",
      "Epoch no.: 80 | Training Loss: 3.6378990731714094 | Validation Loss: 2.6838861929360203\n",
      "Epoch no.: 81 | Training Loss: 3.649998978102878 | Validation Loss: 2.6908091879270684\n",
      "Epoch no.: 82 | Training Loss: 3.6326494160152616 | Validation Loss: 2.6956405077272882\n",
      "Epoch no.: 83 | Training Loss: 3.6412994980296016 | Validation Loss: 2.6948548426063588\n",
      "Epoch no.: 84 | Training Loss: 3.6485660917315133 | Validation Loss: 2.7214619959346376\n",
      "Epoch no.: 85 | Training Loss: 3.639239231487373 | Validation Loss: 2.716880383883388\n",
      "Epoch no.: 86 | Training Loss: 3.64203227133978 | Validation Loss: 2.708477874662584\n",
      "Epoch no.: 87 | Training Loss: 3.6404105455844435 | Validation Loss: 2.725388633570849\n",
      "Epoch no.: 88 | Training Loss: 3.631430585921069 | Validation Loss: 2.7002922189959255\n",
      "Epoch no.: 89 | Training Loss: 3.66854122913245 | Validation Loss: 2.7207554978891633\n",
      "Epoch no.: 90 | Training Loss: 3.6320101038202064 | Validation Loss: 2.743796778484606\n",
      "Epoch no.: 91 | Training Loss: 3.651847113778581 | Validation Loss: 2.7185200683486004\n",
      "Epoch no.: 92 | Training Loss: 3.637713413217883 | Validation Loss: 2.7046926833259373\n",
      "Epoch no.: 93 | Training Loss: 3.646659975444084 | Validation Loss: 2.699863855816567\n",
      "Epoch no.: 94 | Training Loss: 3.6482790847877404 | Validation Loss: 2.7132412726955057\n",
      "Epoch no.: 95 | Training Loss: 3.640337544860262 | Validation Loss: 2.7311268188596634\n",
      "Epoch no.: 96 | Training Loss: 3.631039864315099 | Validation Loss: 2.698357719444455\n",
      "Epoch no.: 97 | Training Loss: 3.644581435820757 | Validation Loss: 2.6948774669928333\n",
      "Epoch no.: 98 | Training Loss: 3.6420557984025965 | Validation Loss: 2.771000845805527\n",
      "Epoch no.: 99 | Training Loss: 3.6325391463903123 | Validation Loss: 2.702083962897842\n",
      "Epoch no.: 100 | Training Loss: 3.6448122853840585 | Validation Loss: 2.754273783523016\n"
     ]
    }
   ],
   "source": [
    "rnnnet_start_time = time.time()\n",
    "train_and_validate(epochs, device, rnnnet, train_loader, val_loader, criterion, rnnnet_optimizer, rnnnet_train_loss_array, rnnnet_val_loss_array)\n",
    "rnnnet_end_time = time.time()\n",
    "rnnnet_total_training_time = rnnnet_end_time - rnnnet_start_time\n",
    "rnnnet_avg_training_time_per_epoch = rnnnet_total_training_time / epochs"
   ]
  },
  {
   "cell_type": "code",
   "execution_count": 25,
   "id": "e4de86ca-8830-4566-b31f-8e7d030c3a8e",
   "metadata": {},
   "outputs": [
    {
     "name": "stdout",
     "output_type": "stream",
     "text": [
      "\n",
      "\n",
      "------------------------------------------------------------\n",
      "Total Parameters:     RNN: 20301\n",
      "\n",
      "Total Training Time:     RNN: 512.61s\n",
      "\n",
      "Average Training Time Per Epoch:     RNN: 5.13s\n",
      "------------------------------------------------------------\n"
     ]
    }
   ],
   "source": [
    "print()\n",
    "print()\n",
    "print(\"------------------------------------------------------------\")\n",
    "print(f\"Total Parameters:     RNN: {total_rnnnet_parameters}\")\n",
    "print()\n",
    "print(f\"Total Training Time:     RNN: {rnnnet_total_training_time:.2f}s\")\n",
    "print()\n",
    "print(f\"Average Training Time Per Epoch:     RNN: {rnnnet_avg_training_time_per_epoch:.2f}s\")\n",
    "\n",
    "print(\"------------------------------------------------------------\")"
   ]
  },
  {
   "cell_type": "code",
   "execution_count": 26,
   "id": "ceded829-66f8-48b3-8417-a14df1f938dc",
   "metadata": {},
   "outputs": [
    {
     "data": {
      "image/png": "[encoded data removed]",
      "text/plain": [
       "<Figure size 600x600 with 1 Axes>"
      ]
     },
     "metadata": {},
     "output_type": "display_data"
    }
   ],
   "source": [
    "plot_loss_comparison(epochs, rnnnet_train_loss_array, rnnnet_val_loss_array, \"Custom Model Training Loss\", \"Custom Model Validation Loss\", \"Custom Model Training vs Validation Loss\")"
   ]
  },
  {
   "cell_type": "code",
   "execution_count": 27,
   "id": "9bea8058-df1b-457c-b010-76e52ab2c8f7",
   "metadata": {},
   "outputs": [
    {
     "name": "stderr",
     "output_type": "stream",
     "text": [
      "C:\\Users\\itadmin\\AppData\\Local\\Temp\\ipykernel_980\\1549511991.py:3: UserWarning: To copy construct from a tensor, it is recommended to use sourceTensor.clone().detach() or sourceTensor.clone().detach().requires_grad_(True), rather than torch.tensor(sourceTensor).\n",
      "  last_24_values_test = torch.tensor(last_24_values_test, dtype=torch.float32).unsqueeze(0).to(device)\n"
     ]
    }
   ],
   "source": [
    "rnnnet.eval()\n",
    "last_24_values_test = y_val[-window_size:]\n",
    "last_24_values_test = torch.tensor(last_24_values_test, dtype=torch.float32).unsqueeze(0).to(device)\n",
    "predictions_test = []\n",
    "\n",
    "for i in range(window_size):\n",
    "    # Make the prediction\n",
    "    with torch.no_grad():\n",
    "        pred_test = rnnnet(last_24_values_test)\n",
    "    \n",
    "    # Store the prediction\n",
    "    predictions_test.append(pred_test.item())\n",
    "    \n",
    "    # Shift the values to the left and add the predicted value to the last_24_values_test for the next iteration\n",
    "    last_24_values_test = torch.cat((last_24_values_test[:, 1:], pred_test.unsqueeze(1)), dim=1)\n",
    "\n",
    "# Convert predictions_test to a numpy array\n",
    "predictions_test = np.array(predictions_test)"
   ]
  },
  {
   "cell_type": "code",
   "execution_count": 28,
   "id": "e85aab06-cb5f-4a0c-a221-f7840dcb8d46",
   "metadata": {},
   "outputs": [
    {
     "data": {
      "image/png": "[encoded data removed]",
      "text/plain": [
       "<Figure size 1200x600 with 1 Axes>"
      ]
     },
     "metadata": {},
     "output_type": "display_data"
    }
   ],
   "source": [
    "plt.figure(figsize=(12, 6))\n",
    "plt.plot(test['Date'], test['P (kW)'], 'g', label='True Values')\n",
    "plt.plot(test['Date'], predictions_test, 'b', label='Predictions')\n",
    "plt.title('True Values vs Custom Model Predictions oon Italy Dataset')\n",
    "plt.xlabel('Date')\n",
    "plt.ylabel('Power (kW)')\n",
    "plt.xticks(rotation=45)\n",
    "plt.legend()\n",
    "plt.grid(True)\n",
    "plt.tight_layout()\n",
    "plt.show()"
   ]
  },
  {
   "cell_type": "code",
   "execution_count": 29,
   "id": "858ad526-86ad-405a-84a3-f9c9bbcc7afc",
   "metadata": {},
   "outputs": [
    {
     "name": "stdout",
     "output_type": "stream",
     "text": [
      "Root Mean Squared Error: 5.442387631351043\n",
      "R-squared value: -0.16403540873229394\n"
     ]
    }
   ],
   "source": [
    "rmse = root_mean_squared_error(test[\"P (kW)\"].values, predictions_test)\n",
    "r2 = r2_score(test[\"P (kW)\"].values, predictions_test)\n",
    "print(f\"Root Mean Squared Error: {rmse}\")\n",
    "print(f'R-squared value: {r2}')"
   ]
  },
  {
   "cell_type": "code",
   "execution_count": null,
   "id": "a81adf8b-23cf-4f07-927d-dfb41a6d1b96",
   "metadata": {},
   "outputs": [],
   "source": []
  },
  {
   "cell_type": "code",
   "execution_count": null,
   "id": "fa1b59ae-2220-439b-ae01-d9e61376c775",
   "metadata": {},
   "outputs": [],
   "source": []
  }
 ],
 "metadata": {
  "kernelspec": {
   "display_name": "btp",
   "language": "python",
   "name": "btp"
  },
  "language_info": {
   "codemirror_mode": {
    "name": "ipython",
    "version": 3
   },
   "file_extension": ".py",
   "mimetype": "text/x-python",
   "name": "python",
   "nbconvert_exporter": "python",
   "pygments_lexer": "ipython3",
   "version": "3.9.13"
  }
 },
 "nbformat": 4,
 "nbformat_minor": 5
}
