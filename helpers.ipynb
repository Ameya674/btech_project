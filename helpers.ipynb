{
 "cells": [
  {
   "cell_type": "code",
   "execution_count": 19,
   "id": "92b86606-9b70-4171-b7fd-8210287a0aba",
   "metadata": {},
   "outputs": [],
   "source": [
    "import torch\n",
    "import matplotlib.pyplot as plt\n",
    "import seaborn as sns\n",
    "from sklearn.metrics import mean_squared_error"
   ]
  },
  {
   "cell_type": "code",
   "execution_count": 20,
   "id": "9a17e167-382a-4485-81fd-f6ff5b51b2d1",
   "metadata": {},
   "outputs": [],
   "source": [
    "# total parameters\n",
    "def count_parameters(model):\n",
    "    total_params = sum(p.numel() for p in model.parameters())\n",
    "    return total_params"
   ]
  },
  {
   "cell_type": "code",
   "execution_count": 21,
   "id": "8d23399c-1458-417f-b5b1-71203aad0458",
   "metadata": {},
   "outputs": [],
   "source": [
    "# training function\n",
    "def train_and_validate(num_of_epochs, device, model, train_loader, val_loader, loss_function, optimizer, train_loss_array, val_loss_array):\n",
    "\n",
    "    for epoch in range(num_of_epochs):\n",
    "        model.train(True)\n",
    "        total_batch_train_loss = 0.0\n",
    "        for batch_index, batch in enumerate(train_loader):\n",
    "            x_batch, y_batch = batch[0].to(device), batch[1].to(device)\n",
    "            output = model(x_batch)\n",
    "            loss = loss_function(output, y_batch)\n",
    "            #print(f\"Batch Loss: {loss}\")\n",
    "            total_batch_train_loss += loss.item()\n",
    "            optimizer.zero_grad()\n",
    "            loss.backward()\n",
    "            optimizer.step()\n",
    "        epoch_train_loss = total_batch_train_loss / len(train_loader)\n",
    "\n",
    "        model.eval()\n",
    "        total_batch_val_loss = 0.0\n",
    "        for batch_index, batch in enumerate(val_loader):\n",
    "            x_batch, y_batch = batch[0].to(device), batch[1].to(device)\n",
    "            with torch.no_grad():\n",
    "                output = model(x_batch)\n",
    "                loss = loss_function(output, y_batch)\n",
    "                total_batch_val_loss += loss.item()\n",
    "        epoch_val_loss = total_batch_val_loss / len(val_loader)\n",
    "        \n",
    "        train_loss_array.append(epoch_train_loss)\n",
    "        val_loss_array.append(epoch_val_loss)\n",
    "        print(f\"Epoch no.: {epoch + 1} | Training Loss: {epoch_train_loss} | Validation Loss: {epoch_val_loss}\")"
   ]
  },
  {
   "cell_type": "code",
   "execution_count": 22,
   "id": "f46bd209-652f-482a-b4ef-86cbe0efac07",
   "metadata": {},
   "outputs": [],
   "source": [
    "def plot_loss_comparison(epochs, array1, array2, label1, label2, plot_title):\n",
    "     \n",
    "    epochs_array = range(1, epochs + 1)\n",
    "    plt.figure(figsize=(6, 6))\n",
    "    plt.plot(epochs_array, array1, 'b', label=label1)\n",
    "    plt.plot(epochs_array, array2, 'r', label=label2)\n",
    "    plt.title(plot_title)\n",
    "    plt.xlabel('Epochs')\n",
    "    plt.ylabel('Loss')\n",
    "    plt.legend()\n",
    "    plt.grid(True)\n",
    "    plt.tight_layout()\n",
    "    plt.show()"
   ]
  },
  {
   "cell_type": "code",
   "execution_count": 23,
   "id": "22e5c383-6d2c-462e-986a-58a68404b76c",
   "metadata": {},
   "outputs": [],
   "source": [
    "def plot_test_predictions(actual_values, lstm_predicted_values, custom_predicted_values):\n",
    "    \n",
    "    epochs = range(1, len(actual_values) + 1)\n",
    "\n",
    "    plt.figure(figsize=(12, 6))\n",
    "    plt.plot(epochs, actual_values, 'g', label='Actual Values')\n",
    "    plt.plot(epochs, lstm_predicted_values, 'b', label='LSTM Predicted Values')\n",
    "    plt.plot(epochs, custom_predicted_values, 'r', label='CustomNet Predicted Values')\n",
    "    plt.title('Test Predictions Comparison')\n",
    "    plt.xlabel('Samples')\n",
    "    plt.ylabel('Values')\n",
    "    plt.legend()\n",
    "    plt.grid(True)\n",
    "    plt.tight_layout()\n",
    "    plt.show()"
   ]
  },
  {
   "cell_type": "code",
   "execution_count": 24,
   "id": "b2884183-0b87-4f0c-8645-e3077fa3e91c",
   "metadata": {},
   "outputs": [],
   "source": [
    "def compare_mse_loss(actual_values, lstm_predicted_values, custom_predicted_values):\n",
    "    lstm_mse = mean_squared_error(actual_values, lstm_predicted_values)\n",
    "    custom_mse = mean_squared_error(actual_values, custom_predicted_values)\n",
    "    \n",
    "    print(f'LSTM MSE Loss: {lstm_mse}')\n",
    "    print(f'Custom Network MSE Loss: {custom_mse}')"
   ]
  },
  {
   "cell_type": "code",
   "execution_count": null,
   "id": "b11296d9-1583-466a-a3ca-99d416433d2d",
   "metadata": {},
   "outputs": [],
   "source": []
  },
  {
   "cell_type": "code",
   "execution_count": null,
   "id": "8071e30f-d12a-4708-982f-687a52091749",
   "metadata": {},
   "outputs": [],
   "source": []
  },
  {
   "cell_type": "code",
   "execution_count": null,
   "id": "b31e8a87-a14b-41e0-b38a-6e8fdcacf511",
   "metadata": {},
   "outputs": [],
   "source": []
  },
  {
   "cell_type": "code",
   "execution_count": null,
   "id": "e0d0442f-73d8-4243-b07d-afd548870c65",
   "metadata": {},
   "outputs": [],
   "source": []
  }
 ],
 "metadata": {
  "kernelspec": {
   "display_name": "btp",
   "language": "python",
   "name": "btp"
  },
  "language_info": {
   "codemirror_mode": {
    "name": "ipython",
    "version": 3
   },
   "file_extension": ".py",
   "mimetype": "text/x-python",
   "name": "python",
   "nbconvert_exporter": "python",
   "pygments_lexer": "ipython3",
   "version": "3.9.13"
  }
 },
 "nbformat": 4,
 "nbformat_minor": 5
}
