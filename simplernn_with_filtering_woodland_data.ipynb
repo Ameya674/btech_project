{
 "cells": [
  {
   "cell_type": "code",
   "execution_count": 1,
   "id": "4c8ea891-2ab2-4f14-b2a6-5e1142187b3e",
   "metadata": {},
   "outputs": [
    {
     "name": "stdout",
     "output_type": "stream",
     "text": [
      "importing Jupyter notebook from helpers.ipynb\n"
     ]
    }
   ],
   "source": [
    "import pandas as pd\n",
    "import numpy as np\n",
    "import torch\n",
    "import torch.nn as nn\n",
    "from copy import deepcopy as dc\n",
    "from sklearn.preprocessing import MinMaxScaler\n",
    "from torch.utils.data import Dataset, DataLoader\n",
    "import import_ipynb\n",
    "from helpers import train_and_validate, count_parameters, plot_loss_comparison, plot_test_predictions, compare_mse_loss\n",
    "import time\n",
    "import matplotlib.pyplot as plt"
   ]
  },
  {
   "cell_type": "code",
   "execution_count": 2,
   "id": "7cb05884-2d29-4a24-9927-52ac8b518bc5",
   "metadata": {},
   "outputs": [
    {
     "data": {
      "text/plain": [
       "'cuda'"
      ]
     },
     "execution_count": 2,
     "metadata": {},
     "output_type": "execute_result"
    }
   ],
   "source": [
    "device = \"cuda\" if torch.cuda.is_available() else \"cpu\"\n",
    "device"
   ]
  },
  {
   "cell_type": "code",
   "execution_count": 3,
   "id": "3c606b06-ad3f-4067-b734-ebfe93d3fc11",
   "metadata": {},
   "outputs": [],
   "source": [
    "window_size = 24\n",
    "batch_size = 100\n",
    "input_size = 1\n",
    "hidden_size = 100\n",
    "num_classes = 1\n",
    "learning_rate = 0.01\n",
    "epochs = 150\n",
    "criterion = nn.MSELoss()"
   ]
  },
  {
   "cell_type": "code",
   "execution_count": 4,
   "id": "b0ad2bc3-038a-450d-ac5b-b041dcef5327",
   "metadata": {},
   "outputs": [],
   "source": [
    "def root_mean_squared_error(actual, predicted):\n",
    "    actual = torch.tensor(actual, dtype=torch.float32)\n",
    "    predicted = torch.tensor(predicted, dtype=torch.float32)\n",
    "    \n",
    "    if actual.shape != predicted.shape:\n",
    "        raise ValueError(\"Tensors must have the same shape.\")\n",
    "    \n",
    "    mse = torch.mean((actual - predicted)**2)\n",
    "    \n",
    "    return (mse.item() ** 0.5)"
   ]
  },
  {
   "cell_type": "code",
   "execution_count": 5,
   "id": "217dbf8f-cfdc-42ef-a463-d0ad0e76a064",
   "metadata": {},
   "outputs": [
    {
     "data": {
      "text/html": [
       "<div>\n",
       "<style scoped>\n",
       "    .dataframe tbody tr th:only-of-type {\n",
       "        vertical-align: middle;\n",
       "    }\n",
       "\n",
       "    .dataframe tbody tr th {\n",
       "        vertical-align: top;\n",
       "    }\n",
       "\n",
       "    .dataframe thead th {\n",
       "        text-align: right;\n",
       "    }\n",
       "</style>\n",
       "<table border=\"1\" class=\"dataframe\">\n",
       "  <thead>\n",
       "    <tr style=\"text-align: right;\">\n",
       "      <th></th>\n",
       "      <th>Date</th>\n",
       "      <th>P (kW)</th>\n",
       "    </tr>\n",
       "  </thead>\n",
       "  <tbody>\n",
       "    <tr>\n",
       "      <th>0</th>\n",
       "      <td>2022-01-01 06:00:00</td>\n",
       "      <td>0.000000</td>\n",
       "    </tr>\n",
       "    <tr>\n",
       "      <th>1</th>\n",
       "      <td>2022-01-01 07:00:00</td>\n",
       "      <td>0.410583</td>\n",
       "    </tr>\n",
       "    <tr>\n",
       "      <th>2</th>\n",
       "      <td>2022-01-01 08:00:00</td>\n",
       "      <td>2.762083</td>\n",
       "    </tr>\n",
       "    <tr>\n",
       "      <th>3</th>\n",
       "      <td>2022-01-01 09:00:00</td>\n",
       "      <td>5.461250</td>\n",
       "    </tr>\n",
       "    <tr>\n",
       "      <th>4</th>\n",
       "      <td>2022-01-01 10:00:00</td>\n",
       "      <td>8.356167</td>\n",
       "    </tr>\n",
       "    <tr>\n",
       "      <th>...</th>\n",
       "      <td>...</td>\n",
       "      <td>...</td>\n",
       "    </tr>\n",
       "    <tr>\n",
       "      <th>25642</th>\n",
       "      <td>2024-12-04 16:00:00</td>\n",
       "      <td>6.669250</td>\n",
       "    </tr>\n",
       "    <tr>\n",
       "      <th>25643</th>\n",
       "      <td>2024-12-04 17:00:00</td>\n",
       "      <td>2.849417</td>\n",
       "    </tr>\n",
       "    <tr>\n",
       "      <th>25644</th>\n",
       "      <td>2024-12-04 18:00:00</td>\n",
       "      <td>0.398083</td>\n",
       "    </tr>\n",
       "    <tr>\n",
       "      <th>25645</th>\n",
       "      <td>2024-12-04 19:00:00</td>\n",
       "      <td>0.000000</td>\n",
       "    </tr>\n",
       "    <tr>\n",
       "      <th>25646</th>\n",
       "      <td>2024-12-04 20:00:00</td>\n",
       "      <td>0.000000</td>\n",
       "    </tr>\n",
       "  </tbody>\n",
       "</table>\n",
       "<p>25647 rows × 2 columns</p>\n",
       "</div>"
      ],
      "text/plain": [
       "                      Date    P (kW)\n",
       "0      2022-01-01 06:00:00  0.000000\n",
       "1      2022-01-01 07:00:00  0.410583\n",
       "2      2022-01-01 08:00:00  2.762083\n",
       "3      2022-01-01 09:00:00  5.461250\n",
       "4      2022-01-01 10:00:00  8.356167\n",
       "...                    ...       ...\n",
       "25642  2024-12-04 16:00:00  6.669250\n",
       "25643  2024-12-04 17:00:00  2.849417\n",
       "25644  2024-12-04 18:00:00  0.398083\n",
       "25645  2024-12-04 19:00:00  0.000000\n",
       "25646  2024-12-04 20:00:00  0.000000\n",
       "\n",
       "[25647 rows x 2 columns]"
      ]
     },
     "execution_count": 5,
     "metadata": {},
     "output_type": "execute_result"
    }
   ],
   "source": [
    "df = pd.read_csv(\"./data/clean_woodland_data.csv\")\n",
    "df"
   ]
  },
  {
   "cell_type": "code",
   "execution_count": 6,
   "id": "d1c7b112-6247-48b8-a873-b4507792a0da",
   "metadata": {},
   "outputs": [
    {
     "name": "stdout",
     "output_type": "stream",
     "text": [
      "<class 'pandas.core.frame.DataFrame'>\n",
      "RangeIndex: 25647 entries, 0 to 25646\n",
      "Data columns (total 2 columns):\n",
      " #   Column  Non-Null Count  Dtype  \n",
      "---  ------  --------------  -----  \n",
      " 0   Date    25647 non-null  object \n",
      " 1   P (kW)  25647 non-null  float64\n",
      "dtypes: float64(1), object(1)\n",
      "memory usage: 400.9+ KB\n"
     ]
    }
   ],
   "source": [
    "df.info()"
   ]
  },
  {
   "cell_type": "code",
   "execution_count": 7,
   "id": "a2fdc819-900a-4841-8a2b-bb93257ce73d",
   "metadata": {},
   "outputs": [],
   "source": [
    "df = df[[\"Date\", \"P (kW)\"]]\n",
    "train_df = df.iloc[:-24]\n",
    "test = df.iloc[-24:]"
   ]
  },
  {
   "cell_type": "code",
   "execution_count": 8,
   "id": "c70b9908-68d3-46fe-8057-6d0a440118df",
   "metadata": {},
   "outputs": [],
   "source": [
    "def prepare_dataframe(df, n_steps):\n",
    "    df = dc(df)\n",
    "    \n",
    "    df.set_index('Date', inplace=True)\n",
    "    \n",
    "    for i in range(1, n_steps+1):\n",
    "        df[f'P (kW)(t-{i})'] = df['P (kW)'].shift(i)\n",
    "        \n",
    "    df.dropna(inplace=True)\n",
    "    \n",
    "    return df"
   ]
  },
  {
   "cell_type": "code",
   "execution_count": 9,
   "id": "01cc9c7e-95f2-4425-a993-7e62694c28d3",
   "metadata": {},
   "outputs": [
    {
     "data": {
      "text/plain": [
       "array([[0.0000000e+00, 0.0000000e+00, 0.0000000e+00, ..., 2.7620833e+00,\n",
       "        4.1058330e-01, 0.0000000e+00],\n",
       "       [7.4316670e-01, 0.0000000e+00, 0.0000000e+00, ..., 5.4612500e+00,\n",
       "        2.7620833e+00, 4.1058330e-01],\n",
       "       [4.3818335e+00, 7.4316670e-01, 0.0000000e+00, ..., 8.3561670e+00,\n",
       "        5.4612500e+00, 2.7620833e+00],\n",
       "       ...,\n",
       "       [3.0066670e-01, 3.0534167e+00, 7.5616665e+00, ..., 0.0000000e+00,\n",
       "        1.0015000e-01, 2.0030000e-01],\n",
       "       [1.5033335e-01, 3.0066670e-01, 3.0534167e+00, ..., 9.8000000e-04,\n",
       "        0.0000000e+00, 1.0015000e-01],\n",
       "       [0.0000000e+00, 1.5033335e-01, 3.0066670e-01, ..., 1.9600000e-03,\n",
       "        9.8000000e-04, 0.0000000e+00]])"
      ]
     },
     "execution_count": 9,
     "metadata": {},
     "output_type": "execute_result"
    }
   ],
   "source": [
    "new_df = prepare_dataframe(train_df, window_size)\n",
    "new_df = new_df.to_numpy()\n",
    "new_df"
   ]
  },
  {
   "cell_type": "code",
   "execution_count": 10,
   "id": "69d032a5-50e4-4a4c-91dc-2535d964971c",
   "metadata": {},
   "outputs": [],
   "source": [
    "X = new_df[:, 1:]\n",
    "y = new_df[:, 0]"
   ]
  },
  {
   "cell_type": "code",
   "execution_count": 11,
   "id": "938237a4-6190-45be-a4d2-d6a11b650a43",
   "metadata": {},
   "outputs": [
    {
     "data": {
      "text/plain": [
       "((25599, 24), (25599,))"
      ]
     },
     "execution_count": 11,
     "metadata": {},
     "output_type": "execute_result"
    }
   ],
   "source": [
    "X.shape, y.shape"
   ]
  },
  {
   "cell_type": "code",
   "execution_count": 12,
   "id": "d9a11f73-2ac2-4569-b537-91a0518755f4",
   "metadata": {},
   "outputs": [],
   "source": [
    "split_index = int(len(X) * 0.8)"
   ]
  },
  {
   "cell_type": "code",
   "execution_count": 13,
   "id": "544e404f-09f8-480f-95a4-43fd0d4bfd5e",
   "metadata": {},
   "outputs": [
    {
     "data": {
      "text/plain": [
       "((20479, 24), (5120, 24), (20479,), (5120,))"
      ]
     },
     "execution_count": 13,
     "metadata": {},
     "output_type": "execute_result"
    }
   ],
   "source": [
    "X_train = X[:split_index]\n",
    "X_val = X[split_index:]\n",
    "\n",
    "y_train = y[:split_index]\n",
    "y_val = y[split_index:]\n",
    "\n",
    "X_train.shape, X_val.shape, y_train.shape, y_val.shape"
   ]
  },
  {
   "cell_type": "code",
   "execution_count": 14,
   "id": "2006eeb9-a7a2-405f-b7e2-ba90322633dc",
   "metadata": {},
   "outputs": [
    {
     "data": {
      "text/plain": [
       "((20479, 24, 1), (5120, 24, 1), (20479, 1), (5120, 1))"
      ]
     },
     "execution_count": 14,
     "metadata": {},
     "output_type": "execute_result"
    }
   ],
   "source": [
    "X_train = X_train.reshape((-1, window_size, 1))\n",
    "X_val = X_val.reshape((-1, window_size, 1))\n",
    "\n",
    "y_train = y_train.reshape((-1, 1))\n",
    "y_val = y_val.reshape((-1, 1))\n",
    "\n",
    "X_train.shape, X_val.shape, y_train.shape, y_val.shape"
   ]
  },
  {
   "cell_type": "code",
   "execution_count": 15,
   "id": "99b9397c-c836-4ed8-9ace-b55fe6976ab1",
   "metadata": {},
   "outputs": [
    {
     "data": {
      "text/plain": [
       "(torch.Size([20479, 24, 1]),\n",
       " torch.Size([5120, 24, 1]),\n",
       " torch.Size([20479, 1]),\n",
       " torch.Size([5120, 1]))"
      ]
     },
     "execution_count": 15,
     "metadata": {},
     "output_type": "execute_result"
    }
   ],
   "source": [
    "X_train = torch.tensor(X_train).float()\n",
    "y_train = torch.tensor(y_train).float()\n",
    "X_val = torch.tensor(X_val).float()\n",
    "y_val = torch.tensor(y_val).float()\n",
    "\n",
    "X_train.shape, X_val.shape, y_train.shape, y_val.shape"
   ]
  },
  {
   "cell_type": "code",
   "execution_count": 16,
   "id": "2253c6d2-f2af-4553-95d8-7ea4a4192c89",
   "metadata": {},
   "outputs": [],
   "source": [
    "class SolarData(Dataset):\n",
    "\n",
    "    def __init__(self, X, y):\n",
    "        self.X = X\n",
    "        self.y = y\n",
    "\n",
    "    def __len__(self):\n",
    "        return len(self.X)\n",
    "\n",
    "    def __getitem__(self, i):\n",
    "        return self.X[i], self.y[i]"
   ]
  },
  {
   "cell_type": "code",
   "execution_count": 17,
   "id": "5f8bfe52-eff2-444e-be33-42b04eee8491",
   "metadata": {},
   "outputs": [],
   "source": [
    "train = SolarData(X_train, y_train)\n",
    "val = SolarData(X_val, y_val)"
   ]
  },
  {
   "cell_type": "code",
   "execution_count": 18,
   "id": "8b66ad07-01c4-415a-9b8a-bc1030ab6778",
   "metadata": {},
   "outputs": [],
   "source": [
    "train_loader = DataLoader(train, batch_size = batch_size, shuffle = True)\n",
    "val_loader = DataLoader(val, batch_size = batch_size, shuffle = False)"
   ]
  },
  {
   "cell_type": "code",
   "execution_count": 19,
   "id": "91eb8128-6afa-4eb1-bcf9-1bce0afc3be5",
   "metadata": {},
   "outputs": [
    {
     "name": "stdout",
     "output_type": "stream",
     "text": [
      "torch.Size([100, 24, 1]) torch.Size([100, 1])\n"
     ]
    }
   ],
   "source": [
    "for _, batch in enumerate(train_loader):\n",
    "    x_batch, y_batch = batch[0].to(device), batch[1].to(device)\n",
    "    print(x_batch.shape, y_batch.shape)\n",
    "    break"
   ]
  },
  {
   "cell_type": "code",
   "execution_count": 20,
   "id": "212ad41f-54bb-40a6-bb07-c56aef28c840",
   "metadata": {},
   "outputs": [],
   "source": [
    "class CustomNet(nn.Module):\n",
    "\n",
    "    def __init__(self, input_size: int, hidden_size: int, num_classes: int):\n",
    "        super().__init__()\n",
    "        self.input_size = input_size\n",
    "        self.hidden_size = hidden_size\n",
    "        self.num_classes = num_classes\n",
    "        self.W = nn.Parameter(torch.Tensor(input_size, hidden_size), requires_grad = True)\n",
    "        self.lstm = nn.RNN(hidden_size, hidden_size, batch_first = True)\n",
    "        self.fc = nn.Linear(hidden_size, num_classes)\n",
    "\n",
    "    def forward(self, x):\n",
    "        x = torch.tanh(x @ self.W)\n",
    "        x_, h = self.lstm(x)\n",
    "        out = self.fc(x_[:, -1, :])\n",
    "        return out"
   ]
  },
  {
   "cell_type": "code",
   "execution_count": 21,
   "id": "d4495d62-92cf-4aef-b6da-2ebca3e379f7",
   "metadata": {},
   "outputs": [],
   "source": [
    "customnet = CustomNet(input_size, hidden_size, num_classes).to(device)\n",
    "customnet_optimizer = torch.optim.Adam(customnet.parameters(), lr = learning_rate)"
   ]
  },
  {
   "cell_type": "code",
   "execution_count": 22,
   "id": "5918e72d-0a45-4e23-b14e-d06bf4f2b560",
   "metadata": {},
   "outputs": [],
   "source": [
    "total_customnet_parameters = count_parameters(customnet)"
   ]
  },
  {
   "cell_type": "code",
   "execution_count": 23,
   "id": "c4603d04-71cd-4193-bff8-001f0dafcd59",
   "metadata": {},
   "outputs": [],
   "source": [
    "customnet_train_loss_array = []\n",
    "customnet_val_loss_array = []"
   ]
  },
  {
   "cell_type": "code",
   "execution_count": null,
   "id": "f5e2c704-4654-4499-9dac-53f2f0a1b0fb",
   "metadata": {},
   "outputs": [
    {
     "name": "stdout",
     "output_type": "stream",
     "text": [
      "Epoch no.: 1 | Training Loss: 4.530561201165362 | Validation Loss: 2.4905958247299376\n",
      "Epoch no.: 2 | Training Loss: 3.8518891933487684 | Validation Loss: 2.394707784848064\n",
      "Epoch no.: 3 | Training Loss: 3.8097106532352725 | Validation Loss: 2.470558940956275\n",
      "Epoch no.: 4 | Training Loss: 4.0378548819844315 | Validation Loss: 2.552524072583765\n",
      "Epoch no.: 5 | Training Loss: 3.91678299729417 | Validation Loss: 2.6390573035588694\n",
      "Epoch no.: 6 | Training Loss: 3.989517935892431 | Validation Loss: 2.448736266702606\n",
      "Epoch no.: 7 | Training Loss: 4.112233002592878 | Validation Loss: 2.876608989989528\n",
      "Epoch no.: 8 | Training Loss: 4.003720121848874 | Validation Loss: 2.561004505421107\n",
      "Epoch no.: 9 | Training Loss: 4.093007198775687 | Validation Loss: 2.540013646465153\n",
      "Epoch no.: 10 | Training Loss: 4.1500950824923635 | Validation Loss: 2.575827476549491\n",
      "Epoch no.: 11 | Training Loss: 4.084078830625953 | Validation Loss: 2.5634704098083603\n",
      "Epoch no.: 12 | Training Loss: 4.163039950626652 | Validation Loss: 2.8819210856006694\n",
      "Epoch no.: 13 | Training Loss: 4.226590490922695 | Validation Loss: 2.521247317846596\n",
      "Epoch no.: 14 | Training Loss: 4.168085129086564 | Validation Loss: 2.7276564852262917\n",
      "Epoch no.: 15 | Training Loss: 4.151413675052364 | Validation Loss: 2.4805028107411298\n",
      "Epoch no.: 16 | Training Loss: 4.237010042260333 | Validation Loss: 2.4631698025153197\n",
      "Epoch no.: 17 | Training Loss: 4.252311148876097 | Validation Loss: 2.8629613740799518\n",
      "Epoch no.: 18 | Training Loss: 4.2542638894988265 | Validation Loss: 2.7283361790558467\n",
      "Epoch no.: 19 | Training Loss: 4.1605113227192945 | Validation Loss: 2.542015396124323\n",
      "Epoch no.: 20 | Training Loss: 4.093084747616838 | Validation Loss: 3.0808100717572064\n",
      "Epoch no.: 21 | Training Loss: 4.568029076297108 | Validation Loss: 2.597956578135871\n",
      "Epoch no.: 22 | Training Loss: 4.553621850362638 | Validation Loss: 2.6142223761125933\n",
      "Epoch no.: 23 | Training Loss: 4.493184149556043 | Validation Loss: 2.4945270961753314\n",
      "Epoch no.: 24 | Training Loss: 4.510474645800707 | Validation Loss: 2.568568535005817\n",
      "Epoch no.: 25 | Training Loss: 4.408196951121819 | Validation Loss: 2.512357743781789\n",
      "Epoch no.: 26 | Training Loss: 4.408405205098594 | Validation Loss: 2.662199227945306\n",
      "Epoch no.: 27 | Training Loss: 4.4329883965050305 | Validation Loss: 2.5399573295233915\n",
      "Epoch no.: 28 | Training Loss: 4.340733944497457 | Validation Loss: 2.477943169599887\n",
      "Epoch no.: 29 | Training Loss: 4.410141447113782 | Validation Loss: 2.5694426723986488\n",
      "Epoch no.: 30 | Training Loss: 4.4634293015410265 | Validation Loss: 2.5861751781905276\n",
      "Epoch no.: 31 | Training Loss: 4.482197156766566 | Validation Loss: 2.572054061752099\n",
      "Epoch no.: 32 | Training Loss: 4.419388482047291 | Validation Loss: 2.6697611573797007\n",
      "Epoch no.: 33 | Training Loss: 4.33086246920795 | Validation Loss: 2.585574496609087\n",
      "Epoch no.: 34 | Training Loss: 4.453871426349733 | Validation Loss: 2.5460540183742593\n",
      "Epoch no.: 35 | Training Loss: 4.517100595846409 | Validation Loss: 2.5295791159414174\n",
      "Epoch no.: 36 | Training Loss: 4.378942879816381 | Validation Loss: 2.6643221358983564\n",
      "Epoch no.: 37 | Training Loss: 4.518872143001091 | Validation Loss: 2.640453980734142\n",
      "Epoch no.: 38 | Training Loss: 4.4088478414023795 | Validation Loss: 2.7440265998817406\n",
      "Epoch no.: 39 | Training Loss: 4.476661134347683 | Validation Loss: 2.644028945037952\n",
      "Epoch no.: 40 | Training Loss: 4.358920935886662 | Validation Loss: 2.529750122389277\n",
      "Epoch no.: 41 | Training Loss: 4.347639698517032 | Validation Loss: 2.672721865013815\n",
      "Epoch no.: 42 | Training Loss: 4.498076628475655 | Validation Loss: 2.554364598159177\n",
      "Epoch no.: 43 | Training Loss: 4.426567782425299 | Validation Loss: 2.807848084431428\n",
      "Epoch no.: 44 | Training Loss: 4.41381574607477 | Validation Loss: 2.5852007335768294\n",
      "Epoch no.: 45 | Training Loss: 4.480611588896775 | Validation Loss: 2.544091426767409\n",
      "Epoch no.: 46 | Training Loss: 4.364176476292494 | Validation Loss: 2.9888137309597087\n",
      "Epoch no.: 47 | Training Loss: 4.424452663630974 | Validation Loss: 2.578833330609856\n",
      "Epoch no.: 48 | Training Loss: 4.2854263858097355 | Validation Loss: 2.55552735807298\n",
      "Epoch no.: 49 | Training Loss: 4.28321333164122 | Validation Loss: 2.9823454349086833\n",
      "Epoch no.: 50 | Training Loss: 4.355598162441719 | Validation Loss: 2.8587334052874493\n",
      "Epoch no.: 51 | Training Loss: 4.1707245553412085 | Validation Loss: 2.6855491418391466\n",
      "Epoch no.: 52 | Training Loss: 4.15114833959719 | Validation Loss: 2.767046447126911\n",
      "Epoch no.: 53 | Training Loss: 4.311643041633978 | Validation Loss: 3.288533116189333\n",
      "Epoch no.: 54 | Training Loss: 4.1550430510102245 | Validation Loss: 2.5784278683389017\n",
      "Epoch no.: 55 | Training Loss: 4.217501410042368 | Validation Loss: 2.5557872632164687\n",
      "Epoch no.: 56 | Training Loss: 4.0488794443083975 | Validation Loss: 2.7236485925431433\n",
      "Epoch no.: 57 | Training Loss: 4.140402531042332 | Validation Loss: 2.492745901714303\n",
      "Epoch no.: 58 | Training Loss: 4.091884145504091 | Validation Loss: 2.6443107700190294\n",
      "Epoch no.: 59 | Training Loss: 4.142075479321363 | Validation Loss: 2.676916708596624\n",
      "Epoch no.: 60 | Training Loss: 4.059192624324705 | Validation Loss: 2.6260201156569214\n",
      "Epoch no.: 61 | Training Loss: 4.102427666361739 | Validation Loss: 2.571611174502043\n",
      "Epoch no.: 62 | Training Loss: 4.185616268181219 | Validation Loss: 2.6795079321242294\n",
      "Epoch no.: 63 | Training Loss: 4.174624935592093 | Validation Loss: 2.4276145874584754\n",
      "Epoch no.: 64 | Training Loss: 4.099211717814934 | Validation Loss: 2.57431022858677\n",
      "Epoch no.: 65 | Training Loss: 4.144953527101657 | Validation Loss: 2.731157602169193\n",
      "Epoch no.: 66 | Training Loss: 4.150983699356638 | Validation Loss: 2.6451204763009\n"
     ]
    }
   ],
   "source": [
    "customnet_start_time = time.time()\n",
    "train_and_validate(epochs, device, customnet, train_loader, val_loader, criterion, customnet_optimizer, customnet_train_loss_array, customnet_val_loss_array)\n",
    "customnet_end_time = time.time()\n",
    "customnet_total_training_time = customnet_end_time - customnet_start_time\n",
    "customnet_avg_training_time_per_epoch = customnet_total_training_time / epochs"
   ]
  },
  {
   "cell_type": "code",
   "execution_count": null,
   "id": "cc91c777-b5e9-4d17-99ad-068babf700df",
   "metadata": {},
   "outputs": [],
   "source": [
    "print()\n",
    "print()\n",
    "print(\"------------------------------------------------------------\")\n",
    "print(f\"Total Parameters:     CustomNet: {total_customnet_parameters}\")\n",
    "print()\n",
    "print(f\"Total Training Time:     CustomNet: {customnet_total_training_time:.2f}s\")\n",
    "print()\n",
    "print(f\"Average Training Time Per Epoch:     CustomNet: {customnet_avg_training_time_per_epoch:.2f}s\")\n",
    "\n",
    "print(\"------------------------------------------------------------\")"
   ]
  },
  {
   "cell_type": "code",
   "execution_count": null,
   "id": "15ccf1f9-55c2-4b6c-b7fc-8fc37ba0aea0",
   "metadata": {},
   "outputs": [],
   "source": [
    "plot_loss_comparison(epochs, customnet_train_loss_array, customnet_val_loss_array, \"CustomNet Training Loss\", \"CustomNet Validation Loss\", \"Training vs Validation Loss\")"
   ]
  },
  {
   "cell_type": "code",
   "execution_count": null,
   "id": "2c8837fe-ec84-4358-9527-870c6f564e1e",
   "metadata": {},
   "outputs": [],
   "source": [
    "customnet.eval()\n",
    "last_24_values_test = y_val[-window_size:]\n",
    "last_24_values_test = torch.tensor(last_24_values_test, dtype=torch.float32).unsqueeze(0).to(device)\n",
    "predictions_test = []\n",
    "\n",
    "for i in range(window_size):\n",
    "    # Make the prediction\n",
    "    with torch.no_grad():\n",
    "        pred_test = customnet(last_24_values_test)\n",
    "    \n",
    "    # Store the prediction\n",
    "    predictions_test.append(pred_test.item())\n",
    "    \n",
    "    # Shift the values to the left and add the predicted value to the last_24_values_test for the next iteration\n",
    "    last_24_values_test = torch.cat((last_24_values_test[:, 1:], pred_test.unsqueeze(1)), dim=1)\n",
    "\n",
    "# Convert predictions_test to a numpy array\n",
    "predictions_test = np.array(predictions_test)"
   ]
  },
  {
   "cell_type": "code",
   "execution_count": null,
   "id": "226a9734-95a5-47eb-811f-87752d2af365",
   "metadata": {},
   "outputs": [],
   "source": [
    "plt.figure(figsize=(12, 6))\n",
    "plt.plot(test['Date'], test['P (kW)'], 'g', label='True Values')\n",
    "plt.plot(test['Date'], predictions_test, 'b', label='Predictions')\n",
    "plt.title('True Values vs CustomNet Predictions')\n",
    "plt.xlabel('Date')\n",
    "plt.ylabel('P (kW)')\n",
    "plt.xticks(rotation=45)\n",
    "plt.legend()\n",
    "plt.grid(True)\n",
    "plt.tight_layout()\n",
    "plt.show()"
   ]
  },
  {
   "cell_type": "code",
   "execution_count": null,
   "id": "a082b121-8c19-424c-9501-88571c15aa05",
   "metadata": {},
   "outputs": [],
   "source": [
    "mse = root_mean_squared_error(test[\"P (kW)\"].values, predictions_test)\n",
    "print(f\"Mean Squared Error: {mse}\")"
   ]
  },
  {
   "cell_type": "code",
   "execution_count": null,
   "id": "1aa64908-7e0b-4672-a916-ccbe65da278a",
   "metadata": {},
   "outputs": [],
   "source": []
  },
  {
   "cell_type": "code",
   "execution_count": null,
   "id": "e12a0650-03f2-487a-b530-20a79faebe3d",
   "metadata": {},
   "outputs": [],
   "source": []
  }
 ],
 "metadata": {
  "kernelspec": {
   "display_name": "btp",
   "language": "python",
   "name": "btp"
  },
  "language_info": {
   "codemirror_mode": {
    "name": "ipython",
    "version": 3
   },
   "file_extension": ".py",
   "mimetype": "text/x-python",
   "name": "python",
   "nbconvert_exporter": "python",
   "pygments_lexer": "ipython3",
   "version": "3.9.13"
  }
 },
 "nbformat": 4,
 "nbformat_minor": 5
}
