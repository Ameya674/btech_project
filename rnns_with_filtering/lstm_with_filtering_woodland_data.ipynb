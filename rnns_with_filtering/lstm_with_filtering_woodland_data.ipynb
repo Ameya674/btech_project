{
 "cells": [
  {
   "cell_type": "code",
   "execution_count": 1,
   "id": "4c8ea891-2ab2-4f14-b2a6-5e1142187b3e",
   "metadata": {},
   "outputs": [
    {
     "name": "stdout",
     "output_type": "stream",
     "text": [
      "importing Jupyter notebook from helpers.ipynb\n"
     ]
    }
   ],
   "source": [
    "import pandas as pd\n",
    "import numpy as np\n",
    "import torch\n",
    "import torch.nn as nn\n",
    "from copy import deepcopy as dc\n",
    "from sklearn.preprocessing import MinMaxScaler\n",
    "from torch.utils.data import Dataset, DataLoader\n",
    "import import_ipynb\n",
    "from helpers import train_and_validate, count_parameters, plot_loss_comparison, plot_test_predictions, compare_mse_loss\n",
    "import time\n",
    "import matplotlib.pyplot as plt\n",
    "from sklearn.metrics import r2_score"
   ]
  },
  {
   "cell_type": "code",
   "execution_count": 2,
   "id": "7cb05884-2d29-4a24-9927-52ac8b518bc5",
   "metadata": {},
   "outputs": [
    {
     "data": {
      "text/plain": [
       "'cuda'"
      ]
     },
     "execution_count": 2,
     "metadata": {},
     "output_type": "execute_result"
    }
   ],
   "source": [
    "device = \"cuda\" if torch.cuda.is_available() else \"cpu\"\n",
    "device"
   ]
  },
  {
   "cell_type": "code",
   "execution_count": 3,
   "id": "3c606b06-ad3f-4067-b734-ebfe93d3fc11",
   "metadata": {},
   "outputs": [],
   "source": [
    "window_size = 24\n",
    "batch_size = 100\n",
    "input_size = 1\n",
    "hidden_size = 100\n",
    "num_classes = 1\n",
    "learning_rate = 0.001\n",
    "epochs = 100\n",
    "criterion = nn.MSELoss()"
   ]
  },
  {
   "cell_type": "code",
   "execution_count": 4,
   "id": "b0ad2bc3-038a-450d-ac5b-b041dcef5327",
   "metadata": {},
   "outputs": [],
   "source": [
    "def root_mean_squared_error(actual, predicted):\n",
    "    actual = torch.tensor(actual, dtype=torch.float32)\n",
    "    predicted = torch.tensor(predicted, dtype=torch.float32)\n",
    "    \n",
    "    if actual.shape != predicted.shape:\n",
    "        raise ValueError(\"Tensors must have the same shape.\")\n",
    "    \n",
    "    mse = torch.mean((actual - predicted)**2)\n",
    "    \n",
    "    return (mse.item() ** 0.5)"
   ]
  },
  {
   "cell_type": "code",
   "execution_count": 5,
   "id": "217dbf8f-cfdc-42ef-a463-d0ad0e76a064",
   "metadata": {},
   "outputs": [
    {
     "data": {
      "text/html": [
       "<div>\n",
       "<style scoped>\n",
       "    .dataframe tbody tr th:only-of-type {\n",
       "        vertical-align: middle;\n",
       "    }\n",
       "\n",
       "    .dataframe tbody tr th {\n",
       "        vertical-align: top;\n",
       "    }\n",
       "\n",
       "    .dataframe thead th {\n",
       "        text-align: right;\n",
       "    }\n",
       "</style>\n",
       "<table border=\"1\" class=\"dataframe\">\n",
       "  <thead>\n",
       "    <tr style=\"text-align: right;\">\n",
       "      <th></th>\n",
       "      <th>Date</th>\n",
       "      <th>P (kW)</th>\n",
       "    </tr>\n",
       "  </thead>\n",
       "  <tbody>\n",
       "    <tr>\n",
       "      <th>0</th>\n",
       "      <td>2022-01-01 06:00:00</td>\n",
       "      <td>0.000000</td>\n",
       "    </tr>\n",
       "    <tr>\n",
       "      <th>1</th>\n",
       "      <td>2022-01-01 07:00:00</td>\n",
       "      <td>0.410583</td>\n",
       "    </tr>\n",
       "    <tr>\n",
       "      <th>2</th>\n",
       "      <td>2022-01-01 08:00:00</td>\n",
       "      <td>2.762083</td>\n",
       "    </tr>\n",
       "    <tr>\n",
       "      <th>3</th>\n",
       "      <td>2022-01-01 09:00:00</td>\n",
       "      <td>5.461250</td>\n",
       "    </tr>\n",
       "    <tr>\n",
       "      <th>4</th>\n",
       "      <td>2022-01-01 10:00:00</td>\n",
       "      <td>8.356167</td>\n",
       "    </tr>\n",
       "    <tr>\n",
       "      <th>...</th>\n",
       "      <td>...</td>\n",
       "      <td>...</td>\n",
       "    </tr>\n",
       "    <tr>\n",
       "      <th>25642</th>\n",
       "      <td>2024-12-04 16:00:00</td>\n",
       "      <td>6.669250</td>\n",
       "    </tr>\n",
       "    <tr>\n",
       "      <th>25643</th>\n",
       "      <td>2024-12-04 17:00:00</td>\n",
       "      <td>2.849417</td>\n",
       "    </tr>\n",
       "    <tr>\n",
       "      <th>25644</th>\n",
       "      <td>2024-12-04 18:00:00</td>\n",
       "      <td>0.398083</td>\n",
       "    </tr>\n",
       "    <tr>\n",
       "      <th>25645</th>\n",
       "      <td>2024-12-04 19:00:00</td>\n",
       "      <td>0.000000</td>\n",
       "    </tr>\n",
       "    <tr>\n",
       "      <th>25646</th>\n",
       "      <td>2024-12-04 20:00:00</td>\n",
       "      <td>0.000000</td>\n",
       "    </tr>\n",
       "  </tbody>\n",
       "</table>\n",
       "<p>25647 rows × 2 columns</p>\n",
       "</div>"
      ],
      "text/plain": [
       "                      Date    P (kW)\n",
       "0      2022-01-01 06:00:00  0.000000\n",
       "1      2022-01-01 07:00:00  0.410583\n",
       "2      2022-01-01 08:00:00  2.762083\n",
       "3      2022-01-01 09:00:00  5.461250\n",
       "4      2022-01-01 10:00:00  8.356167\n",
       "...                    ...       ...\n",
       "25642  2024-12-04 16:00:00  6.669250\n",
       "25643  2024-12-04 17:00:00  2.849417\n",
       "25644  2024-12-04 18:00:00  0.398083\n",
       "25645  2024-12-04 19:00:00  0.000000\n",
       "25646  2024-12-04 20:00:00  0.000000\n",
       "\n",
       "[25647 rows x 2 columns]"
      ]
     },
     "execution_count": 5,
     "metadata": {},
     "output_type": "execute_result"
    }
   ],
   "source": [
    "df = pd.read_csv(\"../data/clean_woodland_data.csv\")\n",
    "df"
   ]
  },
  {
   "cell_type": "code",
   "execution_count": 6,
   "id": "d1c7b112-6247-48b8-a873-b4507792a0da",
   "metadata": {},
   "outputs": [
    {
     "name": "stdout",
     "output_type": "stream",
     "text": [
      "<class 'pandas.core.frame.DataFrame'>\n",
      "RangeIndex: 25647 entries, 0 to 25646\n",
      "Data columns (total 2 columns):\n",
      " #   Column  Non-Null Count  Dtype  \n",
      "---  ------  --------------  -----  \n",
      " 0   Date    25647 non-null  object \n",
      " 1   P (kW)  25647 non-null  float64\n",
      "dtypes: float64(1), object(1)\n",
      "memory usage: 400.9+ KB\n"
     ]
    }
   ],
   "source": [
    "df.info()"
   ]
  },
  {
   "cell_type": "code",
   "execution_count": 7,
   "id": "a2fdc819-900a-4841-8a2b-bb93257ce73d",
   "metadata": {},
   "outputs": [],
   "source": [
    "df = df[[\"Date\", \"P (kW)\"]]\n",
    "train_df = df.iloc[:-24]\n",
    "test = df.iloc[-24:]"
   ]
  },
  {
   "cell_type": "code",
   "execution_count": 8,
   "id": "c70b9908-68d3-46fe-8057-6d0a440118df",
   "metadata": {},
   "outputs": [],
   "source": [
    "def prepare_dataframe(df, n_steps):\n",
    "    df = dc(df)\n",
    "    \n",
    "    df.set_index('Date', inplace=True)\n",
    "    \n",
    "    for i in range(1, n_steps+1):\n",
    "        df[f'P (kW)(t-{i})'] = df['P (kW)'].shift(i)\n",
    "        \n",
    "    df.dropna(inplace=True)\n",
    "    \n",
    "    return df"
   ]
  },
  {
   "cell_type": "code",
   "execution_count": 9,
   "id": "01cc9c7e-95f2-4425-a993-7e62694c28d3",
   "metadata": {},
   "outputs": [
    {
     "data": {
      "text/plain": [
       "array([[0.0000000e+00, 0.0000000e+00, 0.0000000e+00, ..., 2.7620833e+00,\n",
       "        4.1058330e-01, 0.0000000e+00],\n",
       "       [7.4316670e-01, 0.0000000e+00, 0.0000000e+00, ..., 5.4612500e+00,\n",
       "        2.7620833e+00, 4.1058330e-01],\n",
       "       [4.3818335e+00, 7.4316670e-01, 0.0000000e+00, ..., 8.3561670e+00,\n",
       "        5.4612500e+00, 2.7620833e+00],\n",
       "       ...,\n",
       "       [3.0066670e-01, 3.0534167e+00, 7.5616665e+00, ..., 0.0000000e+00,\n",
       "        1.0015000e-01, 2.0030000e-01],\n",
       "       [1.5033335e-01, 3.0066670e-01, 3.0534167e+00, ..., 9.8000000e-04,\n",
       "        0.0000000e+00, 1.0015000e-01],\n",
       "       [0.0000000e+00, 1.5033335e-01, 3.0066670e-01, ..., 1.9600000e-03,\n",
       "        9.8000000e-04, 0.0000000e+00]])"
      ]
     },
     "execution_count": 9,
     "metadata": {},
     "output_type": "execute_result"
    }
   ],
   "source": [
    "new_df = prepare_dataframe(train_df, window_size)\n",
    "new_df = new_df.to_numpy()\n",
    "new_df"
   ]
  },
  {
   "cell_type": "code",
   "execution_count": 10,
   "id": "69d032a5-50e4-4a4c-91dc-2535d964971c",
   "metadata": {},
   "outputs": [],
   "source": [
    "X = new_df[:, 1:]\n",
    "y = new_df[:, 0]"
   ]
  },
  {
   "cell_type": "code",
   "execution_count": 11,
   "id": "938237a4-6190-45be-a4d2-d6a11b650a43",
   "metadata": {},
   "outputs": [
    {
     "data": {
      "text/plain": [
       "((25599, 24), (25599,))"
      ]
     },
     "execution_count": 11,
     "metadata": {},
     "output_type": "execute_result"
    }
   ],
   "source": [
    "X.shape, y.shape"
   ]
  },
  {
   "cell_type": "code",
   "execution_count": 12,
   "id": "d9a11f73-2ac2-4569-b537-91a0518755f4",
   "metadata": {},
   "outputs": [],
   "source": [
    "split_index = int(len(X) * 0.8)"
   ]
  },
  {
   "cell_type": "code",
   "execution_count": 13,
   "id": "544e404f-09f8-480f-95a4-43fd0d4bfd5e",
   "metadata": {},
   "outputs": [
    {
     "data": {
      "text/plain": [
       "((20479, 24), (5120, 24), (20479,), (5120,))"
      ]
     },
     "execution_count": 13,
     "metadata": {},
     "output_type": "execute_result"
    }
   ],
   "source": [
    "X_train = X[:split_index]\n",
    "X_val = X[split_index:]\n",
    "\n",
    "y_train = y[:split_index]\n",
    "y_val = y[split_index:]\n",
    "\n",
    "X_train.shape, X_val.shape, y_train.shape, y_val.shape"
   ]
  },
  {
   "cell_type": "code",
   "execution_count": 14,
   "id": "2006eeb9-a7a2-405f-b7e2-ba90322633dc",
   "metadata": {},
   "outputs": [
    {
     "data": {
      "text/plain": [
       "((20479, 24, 1), (5120, 24, 1), (20479, 1), (5120, 1))"
      ]
     },
     "execution_count": 14,
     "metadata": {},
     "output_type": "execute_result"
    }
   ],
   "source": [
    "X_train = X_train.reshape((-1, window_size, 1))\n",
    "X_val = X_val.reshape((-1, window_size, 1))\n",
    "\n",
    "y_train = y_train.reshape((-1, 1))\n",
    "y_val = y_val.reshape((-1, 1))\n",
    "\n",
    "X_train.shape, X_val.shape, y_train.shape, y_val.shape"
   ]
  },
  {
   "cell_type": "code",
   "execution_count": 15,
   "id": "99b9397c-c836-4ed8-9ace-b55fe6976ab1",
   "metadata": {},
   "outputs": [
    {
     "data": {
      "text/plain": [
       "(torch.Size([20479, 24, 1]),\n",
       " torch.Size([5120, 24, 1]),\n",
       " torch.Size([20479, 1]),\n",
       " torch.Size([5120, 1]))"
      ]
     },
     "execution_count": 15,
     "metadata": {},
     "output_type": "execute_result"
    }
   ],
   "source": [
    "X_train = torch.tensor(X_train).float()\n",
    "y_train = torch.tensor(y_train).float()\n",
    "X_val = torch.tensor(X_val).float()\n",
    "y_val = torch.tensor(y_val).float()\n",
    "\n",
    "X_train.shape, X_val.shape, y_train.shape, y_val.shape"
   ]
  },
  {
   "cell_type": "code",
   "execution_count": 16,
   "id": "2253c6d2-f2af-4553-95d8-7ea4a4192c89",
   "metadata": {},
   "outputs": [],
   "source": [
    "class SolarData(Dataset):\n",
    "\n",
    "    def __init__(self, X, y):\n",
    "        self.X = X\n",
    "        self.y = y\n",
    "\n",
    "    def __len__(self):\n",
    "        return len(self.X)\n",
    "\n",
    "    def __getitem__(self, i):\n",
    "        return self.X[i], self.y[i]"
   ]
  },
  {
   "cell_type": "code",
   "execution_count": 17,
   "id": "5f8bfe52-eff2-444e-be33-42b04eee8491",
   "metadata": {},
   "outputs": [],
   "source": [
    "train = SolarData(X_train, y_train)\n",
    "val = SolarData(X_val, y_val)"
   ]
  },
  {
   "cell_type": "code",
   "execution_count": 18,
   "id": "8b66ad07-01c4-415a-9b8a-bc1030ab6778",
   "metadata": {},
   "outputs": [],
   "source": [
    "train_loader = DataLoader(train, batch_size = batch_size, shuffle = True)\n",
    "val_loader = DataLoader(val, batch_size = batch_size, shuffle = False)"
   ]
  },
  {
   "cell_type": "code",
   "execution_count": 19,
   "id": "91eb8128-6afa-4eb1-bcf9-1bce0afc3be5",
   "metadata": {},
   "outputs": [
    {
     "name": "stdout",
     "output_type": "stream",
     "text": [
      "torch.Size([100, 24, 1]) torch.Size([100, 1])\n"
     ]
    }
   ],
   "source": [
    "for _, batch in enumerate(train_loader):\n",
    "    x_batch, y_batch = batch[0].to(device), batch[1].to(device)\n",
    "    print(x_batch.shape, y_batch.shape)\n",
    "    break"
   ]
  },
  {
   "cell_type": "code",
   "execution_count": 20,
   "id": "212ad41f-54bb-40a6-bb07-c56aef28c840",
   "metadata": {},
   "outputs": [],
   "source": [
    "class CustomNet(nn.Module):\n",
    "\n",
    "    def __init__(self, input_size: int, hidden_size: int, num_classes: int):\n",
    "        super().__init__()\n",
    "        self.input_size = input_size\n",
    "        self.hidden_size = hidden_size\n",
    "        self.num_classes = num_classes\n",
    "        self.W = nn.Parameter(torch.Tensor(input_size, input_size), requires_grad = True)\n",
    "        self.lstm = nn.LSTM(input_size, hidden_size, batch_first = True)\n",
    "        self.fc = nn.Linear(hidden_size, num_classes)\n",
    "\n",
    "    def forward(self, x):\n",
    "        x = torch.tanh(x @ self.W)\n",
    "        x_, (h_t, c_t) = self.lstm(x)\n",
    "        out = self.fc(x_[:, -1, :])\n",
    "        return out"
   ]
  },
  {
   "cell_type": "code",
   "execution_count": 21,
   "id": "d4495d62-92cf-4aef-b6da-2ebca3e379f7",
   "metadata": {},
   "outputs": [],
   "source": [
    "customnet = CustomNet(input_size, hidden_size, num_classes).to(device)\n",
    "customnet_optimizer = torch.optim.Adam(customnet.parameters(), lr = learning_rate)"
   ]
  },
  {
   "cell_type": "code",
   "execution_count": 22,
   "id": "5918e72d-0a45-4e23-b14e-d06bf4f2b560",
   "metadata": {},
   "outputs": [],
   "source": [
    "total_customnet_parameters = count_parameters(customnet)"
   ]
  },
  {
   "cell_type": "code",
   "execution_count": 23,
   "id": "c4603d04-71cd-4193-bff8-001f0dafcd59",
   "metadata": {},
   "outputs": [],
   "source": [
    "customnet_train_loss_array = []\n",
    "customnet_val_loss_array = []"
   ]
  },
  {
   "cell_type": "code",
   "execution_count": 24,
   "id": "f5e2c704-4654-4499-9dac-53f2f0a1b0fb",
   "metadata": {},
   "outputs": [
    {
     "name": "stdout",
     "output_type": "stream",
     "text": [
      "Epoch no.: 1 | Training Loss: 15.596612569762438 | Validation Loss: 0.7151500364908805\n",
      "Epoch no.: 2 | Training Loss: 2.2352546145276326 | Validation Loss: 0.4963748159710891\n",
      "Epoch no.: 3 | Training Loss: 1.6920863411775449 | Validation Loss: 0.38579289342921513\n",
      "Epoch no.: 4 | Training Loss: 1.4281158342594054 | Validation Loss: 0.3090798005186326\n",
      "Epoch no.: 5 | Training Loss: 1.3437016697918496 | Validation Loss: 0.24759438539275344\n",
      "Epoch no.: 6 | Training Loss: 1.2736843670286784 | Validation Loss: 0.32300029114748424\n",
      "Epoch no.: 7 | Training Loss: 1.2389032580503603 | Validation Loss: 0.33560460383215773\n",
      "Epoch no.: 8 | Training Loss: 1.2382099054208615 | Validation Loss: 0.2519914452988395\n",
      "Epoch no.: 9 | Training Loss: 1.2129411053366776 | Validation Loss: 0.2443061587512672\n",
      "Epoch no.: 10 | Training Loss: 1.197602396912691 | Validation Loss: 0.30564148734825164\n",
      "Epoch no.: 11 | Training Loss: 1.1955485874559821 | Validation Loss: 0.17248884570891768\n",
      "Epoch no.: 12 | Training Loss: 1.182709122867119 | Validation Loss: 0.1944587967300322\n",
      "Epoch no.: 13 | Training Loss: 1.1652874346186475 | Validation Loss: 0.18233294836612074\n",
      "Epoch no.: 14 | Training Loss: 1.1850774257648282 | Validation Loss: 0.2088093460412123\n",
      "Epoch no.: 15 | Training Loss: 1.142724816319419 | Validation Loss: 0.2868069636986967\n",
      "Epoch no.: 16 | Training Loss: 1.099270454848685 | Validation Loss: 0.2217695471670315\n",
      "Epoch no.: 17 | Training Loss: 1.1329162776470185 | Validation Loss: 0.17635872259206037\n",
      "Epoch no.: 18 | Training Loss: 1.1567145035034272 | Validation Loss: 0.2199163207461914\n",
      "Epoch no.: 19 | Training Loss: 1.1614671058771087 | Validation Loss: 0.16935817900524014\n",
      "Epoch no.: 20 | Training Loss: 1.153992003783947 | Validation Loss: 0.17663707664290157\n",
      "Epoch no.: 21 | Training Loss: 1.1287676814125804 | Validation Loss: 0.1805944046677111\n",
      "Epoch no.: 22 | Training Loss: 1.107948584527504 | Validation Loss: 0.1439894384206687\n",
      "Epoch no.: 23 | Training Loss: 1.1522102659795341 | Validation Loss: 0.16258073099407527\n",
      "Epoch no.: 24 | Training Loss: 1.1271602022938612 | Validation Loss: 0.13962865668215202\n",
      "Epoch no.: 25 | Training Loss: 1.0718533121958012 | Validation Loss: 0.1741099248017865\n",
      "Epoch no.: 26 | Training Loss: 1.1421905867937134 | Validation Loss: 0.16493973350630908\n",
      "Epoch no.: 27 | Training Loss: 1.0840572970669444 | Validation Loss: 0.20565923696939045\n",
      "Epoch no.: 28 | Training Loss: 1.1188169511353097 | Validation Loss: 0.14115986978301337\n",
      "Epoch no.: 29 | Training Loss: 1.0680844779421643 | Validation Loss: 0.1534911651598612\n",
      "Epoch no.: 30 | Training Loss: 1.1130859283412375 | Validation Loss: 0.22131998240589523\n",
      "Epoch no.: 31 | Training Loss: 1.0897928615895713 | Validation Loss: 0.13593785706941092\n",
      "Epoch no.: 32 | Training Loss: 1.088339115788297 | Validation Loss: 0.15415865677715163\n",
      "Epoch no.: 33 | Training Loss: 1.0928596442792473 | Validation Loss: 0.12411061854310482\n",
      "Epoch no.: 34 | Training Loss: 1.0932320360730334 | Validation Loss: 0.14188105253001246\n",
      "Epoch no.: 35 | Training Loss: 1.0935854830392977 | Validation Loss: 0.12415749349831738\n",
      "Epoch no.: 36 | Training Loss: 1.0939772502678196 | Validation Loss: 0.12493484494306041\n",
      "Epoch no.: 37 | Training Loss: 1.0728334011101142 | Validation Loss: 0.13249504880430044\n",
      "Epoch no.: 38 | Training Loss: 1.1049649205149674 | Validation Loss: 0.2229095077916729\n",
      "Epoch no.: 39 | Training Loss: 1.0822291115435159 | Validation Loss: 0.14905392177197777\n",
      "Epoch no.: 40 | Training Loss: 1.0971006681279438 | Validation Loss: 0.12598640478636997\n",
      "Epoch no.: 41 | Training Loss: 1.0756243320499979 | Validation Loss: 0.11918271742223834\n",
      "Epoch no.: 42 | Training Loss: 1.076911127421914 | Validation Loss: 0.19799913802685645\n",
      "Epoch no.: 43 | Training Loss: 1.074860685773012 | Validation Loss: 0.12734223959929436\n",
      "Epoch no.: 44 | Training Loss: 1.0990574245045825 | Validation Loss: 0.14161685626619985\n",
      "Epoch no.: 45 | Training Loss: 1.0674529149764922 | Validation Loss: 0.1334183229258857\n",
      "Epoch no.: 46 | Training Loss: 1.0837218802149702 | Validation Loss: 0.13459890179386164\n",
      "Epoch no.: 47 | Training Loss: 1.0680982743821492 | Validation Loss: 0.14236758705104735\n",
      "Epoch no.: 48 | Training Loss: 1.0866045219142262 | Validation Loss: 0.1955650512248282\n",
      "Epoch no.: 49 | Training Loss: 1.0726089928208329 | Validation Loss: 0.12481597857717694\n",
      "Epoch no.: 50 | Training Loss: 1.0740193351012906 | Validation Loss: 0.12430686518284627\n",
      "Epoch no.: 51 | Training Loss: 1.057918161008416 | Validation Loss: 0.13620010346046632\n",
      "Epoch no.: 52 | Training Loss: 1.0461055136308437 | Validation Loss: 0.13819641087208695\n",
      "Epoch no.: 53 | Training Loss: 1.0379469766849425 | Validation Loss: 0.13109033110623175\n",
      "Epoch no.: 54 | Training Loss: 1.0801630869144347 | Validation Loss: 0.11142367426285861\n",
      "Epoch no.: 55 | Training Loss: 1.0503498337617734 | Validation Loss: 0.1383406443401327\n",
      "Epoch no.: 56 | Training Loss: 1.0696346791779123 | Validation Loss: 0.11022155022454591\n",
      "Epoch no.: 57 | Training Loss: 1.0617047522126175 | Validation Loss: 0.13012175426578884\n",
      "Epoch no.: 58 | Training Loss: 1.0499187215072352 | Validation Loss: 0.11627806508686962\n",
      "Epoch no.: 59 | Training Loss: 1.066432672012143 | Validation Loss: 0.1686216844027775\n",
      "Epoch no.: 60 | Training Loss: 1.1009292239096107 | Validation Loss: 0.13904386013522385\n",
      "Epoch no.: 61 | Training Loss: 1.0466561353061257 | Validation Loss: 0.1322325949880066\n",
      "Epoch no.: 62 | Training Loss: 1.0406167369063308 | Validation Loss: 0.11497345947841844\n",
      "Epoch no.: 63 | Training Loss: 1.0308712706333254 | Validation Loss: 0.1466827589402573\n",
      "Epoch no.: 64 | Training Loss: 1.0258809922671899 | Validation Loss: 0.1389501101735872\n",
      "Epoch no.: 65 | Training Loss: 1.0401371397623203 | Validation Loss: 0.1110367001600445\n",
      "Epoch no.: 66 | Training Loss: 1.058864742226717 | Validation Loss: 0.12944510600643228\n",
      "Epoch no.: 67 | Training Loss: 1.0250663172907946 | Validation Loss: 0.13501982971390064\n",
      "Epoch no.: 68 | Training Loss: 1.041583234362486 | Validation Loss: 0.1078229999480807\n",
      "Epoch no.: 69 | Training Loss: 1.0174454337213097 | Validation Loss: 0.10722038907430523\n",
      "Epoch no.: 70 | Training Loss: 1.0200111594141983 | Validation Loss: 0.1402608397298676\n",
      "Epoch no.: 71 | Training Loss: 1.0652795918104125 | Validation Loss: 0.1118243408077083\n",
      "Epoch no.: 72 | Training Loss: 1.03417300843611 | Validation Loss: 0.11477354357339209\n",
      "Epoch no.: 73 | Training Loss: 1.0125361826361678 | Validation Loss: 0.14222808674765894\n",
      "Epoch no.: 74 | Training Loss: 1.0349376253965423 | Validation Loss: 0.14565037756088153\n",
      "Epoch no.: 75 | Training Loss: 1.0547488461180432 | Validation Loss: 0.15099846543713424\n",
      "Epoch no.: 76 | Training Loss: 1.0106924328862168 | Validation Loss: 0.12395604730828871\n",
      "Epoch no.: 77 | Training Loss: 1.0192362038827525 | Validation Loss: 0.11048674147941011\n",
      "Epoch no.: 78 | Training Loss: 1.0344395436891696 | Validation Loss: 0.11213887686916188\n",
      "Epoch no.: 79 | Training Loss: 1.014151120912738 | Validation Loss: 0.10743684425044474\n",
      "Epoch no.: 80 | Training Loss: 1.0152886915497663 | Validation Loss: 0.1138471530375682\n",
      "Epoch no.: 81 | Training Loss: 1.031956089124447 | Validation Loss: 0.08993636649504949\n",
      "Epoch no.: 82 | Training Loss: 1.0170910995181013 | Validation Loss: 0.11432345479485005\n",
      "Epoch no.: 83 | Training Loss: 1.0222189930880943 | Validation Loss: 0.08562335697906047\n",
      "Epoch no.: 84 | Training Loss: 1.009435727392755 | Validation Loss: 0.09331698110327125\n",
      "Epoch no.: 85 | Training Loss: 0.9943106555357212 | Validation Loss: 0.12968679001436756\n",
      "Epoch no.: 86 | Training Loss: 1.015221988209864 | Validation Loss: 0.10336848063021674\n",
      "Epoch no.: 87 | Training Loss: 1.0061292364829924 | Validation Loss: 0.09842281432569368\n",
      "Epoch no.: 88 | Training Loss: 1.0095154299968627 | Validation Loss: 0.10386677070891892\n",
      "Epoch no.: 89 | Training Loss: 1.0159385028408794 | Validation Loss: 0.11118416491025038\n",
      "Epoch no.: 90 | Training Loss: 1.004590668620133 | Validation Loss: 0.0924705627881989\n",
      "Epoch no.: 91 | Training Loss: 1.0016013264656067 | Validation Loss: 0.08240846517023434\n",
      "Epoch no.: 92 | Training Loss: 1.017659126258478 | Validation Loss: 0.09781001212524223\n",
      "Epoch no.: 93 | Training Loss: 0.9903239481332825 | Validation Loss: 0.08801983027772692\n",
      "Epoch no.: 94 | Training Loss: 0.9906154993103772 | Validation Loss: 0.08433269730434964\n",
      "Epoch no.: 95 | Training Loss: 1.0190510472146477 | Validation Loss: 0.1493367754558746\n",
      "Epoch no.: 96 | Training Loss: 0.9880991196487008 | Validation Loss: 0.12490899655341099\n",
      "Epoch no.: 97 | Training Loss: 0.9895478659286732 | Validation Loss: 0.09131314352942774\n",
      "Epoch no.: 98 | Training Loss: 0.9944789572459896 | Validation Loss: 0.09257062600003198\n",
      "Epoch no.: 99 | Training Loss: 0.9794582769638155 | Validation Loss: 0.08242980362578797\n",
      "Epoch no.: 100 | Training Loss: 0.9917741215810543 | Validation Loss: 0.10978230467522875\n"
     ]
    }
   ],
   "source": [
    "customnet_start_time = time.time()\n",
    "train_and_validate(epochs, device, customnet, train_loader, val_loader, criterion, customnet_optimizer, customnet_train_loss_array, customnet_val_loss_array)\n",
    "customnet_end_time = time.time()\n",
    "customnet_total_training_time = customnet_end_time - customnet_start_time\n",
    "customnet_avg_training_time_per_epoch = customnet_total_training_time / epochs"
   ]
  },
  {
   "cell_type": "code",
   "execution_count": 25,
   "id": "cc91c777-b5e9-4d17-99ad-068babf700df",
   "metadata": {},
   "outputs": [
    {
     "name": "stdout",
     "output_type": "stream",
     "text": [
      "\n",
      "\n",
      "------------------------------------------------------------\n",
      "Total Parameters:     CustomNet: 41302\n",
      "\n",
      "Total Training Time:     CustomNet: 124.06s\n",
      "\n",
      "Average Training Time Per Epoch:     CustomNet: 1.24s\n",
      "------------------------------------------------------------\n"
     ]
    }
   ],
   "source": [
    "print()\n",
    "print()\n",
    "print(\"------------------------------------------------------------\")\n",
    "print(f\"Total Parameters:     CustomNet: {total_customnet_parameters}\")\n",
    "print()\n",
    "print(f\"Total Training Time:     CustomNet: {customnet_total_training_time:.2f}s\")\n",
    "print()\n",
    "print(f\"Average Training Time Per Epoch:     CustomNet: {customnet_avg_training_time_per_epoch:.2f}s\")\n",
    "\n",
    "print(\"------------------------------------------------------------\")"
   ]
  },
  {
   "cell_type": "code",
   "execution_count": 26,
   "id": "15ccf1f9-55c2-4b6c-b7fc-8fc37ba0aea0",
   "metadata": {},
   "outputs": [
    {
     "data": {
      "image/png": "[encoded data removed]",
      "text/plain": [
       "<Figure size 600x600 with 1 Axes>"
      ]
     },
     "metadata": {},
     "output_type": "display_data"
    }
   ],
   "source": [
    "plot_loss_comparison(epochs, customnet_train_loss_array, customnet_val_loss_array, \"CustomNet Training Loss\", \"CustomNet Validation Loss\", \"Training vs Validation Loss\")"
   ]
  },
  {
   "cell_type": "code",
   "execution_count": 27,
   "id": "2c8837fe-ec84-4358-9527-870c6f564e1e",
   "metadata": {},
   "outputs": [
    {
     "name": "stderr",
     "output_type": "stream",
     "text": [
      "C:\\Users\\itadmin\\AppData\\Local\\Temp\\ipykernel_9416\\1908420732.py:3: UserWarning: To copy construct from a tensor, it is recommended to use sourceTensor.clone().detach() or sourceTensor.clone().detach().requires_grad_(True), rather than torch.tensor(sourceTensor).\n",
      "  last_24_values_test = torch.tensor(last_24_values_test, dtype=torch.float32).unsqueeze(0).to(device)\n"
     ]
    }
   ],
   "source": [
    "customnet.eval()\n",
    "last_24_values_test = y_val[-window_size:]\n",
    "last_24_values_test = torch.tensor(last_24_values_test, dtype=torch.float32).unsqueeze(0).to(device)\n",
    "predictions_test = []\n",
    "\n",
    "for i in range(window_size):\n",
    "    # Make the prediction\n",
    "    with torch.no_grad():\n",
    "        pred_test = customnet(last_24_values_test)\n",
    "    \n",
    "    # Store the prediction\n",
    "    predictions_test.append(pred_test.item())\n",
    "    \n",
    "    # Shift the values to the left and add the predicted value to the last_24_values_test for the next iteration\n",
    "    last_24_values_test = torch.cat((last_24_values_test[:, 1:], pred_test.unsqueeze(1)), dim=1)\n",
    "\n",
    "# Convert predictions_test to a numpy array\n",
    "predictions_test = np.array(predictions_test)"
   ]
  },
  {
   "cell_type": "code",
   "execution_count": 28,
   "id": "226a9734-95a5-47eb-811f-87752d2af365",
   "metadata": {},
   "outputs": [
    {
     "data": {
      "image/png": "[encoded data removed]",
      "text/plain": [
       "<Figure size 1200x600 with 1 Axes>"
      ]
     },
     "metadata": {},
     "output_type": "display_data"
    }
   ],
   "source": [
    "plt.figure(figsize=(12, 6))\n",
    "plt.plot(test['Date'], test['P (kW)'], 'g', label='True Values')\n",
    "plt.plot(test['Date'], predictions_test, 'b', label='Predictions')\n",
    "plt.title('True Values vs LSTM Predictions for Woodland Data')\n",
    "plt.xlabel('Date')\n",
    "plt.ylabel('P (kW)')\n",
    "plt.xticks(rotation=45)\n",
    "plt.legend()\n",
    "plt.grid(True)\n",
    "plt.tight_layout()\n",
    "plt.show()"
   ]
  },
  {
   "cell_type": "code",
   "execution_count": 29,
   "id": "a082b121-8c19-424c-9501-88571c15aa05",
   "metadata": {},
   "outputs": [
    {
     "name": "stdout",
     "output_type": "stream",
     "text": [
      "Mean Squared Error: 2.2160315179683594\n",
      "R-squared value: 0.8068279405944381\n"
     ]
    }
   ],
   "source": [
    "mse = root_mean_squared_error(test[\"P (kW)\"].values, predictions_test)\n",
    "r2 = r2_score(test[\"P (kW)\"].values, predictions_test)\n",
    "print(f\"Mean Squared Error: {mse}\")\n",
    "print(f'R-squared value: {r2}')"
   ]
  },
  {
   "cell_type": "code",
   "execution_count": null,
   "id": "1aa64908-7e0b-4672-a916-ccbe65da278a",
   "metadata": {},
   "outputs": [],
   "source": []
  }
 ],
 "metadata": {
  "kernelspec": {
   "display_name": "btp",
   "language": "python",
   "name": "btp"
  },
  "language_info": {
   "codemirror_mode": {
    "name": "ipython",
    "version": 3
   },
   "file_extension": ".py",
   "mimetype": "text/x-python",
   "name": "python",
   "nbconvert_exporter": "python",
   "pygments_lexer": "ipython3",
   "version": "3.9.13"
  }
 },
 "nbformat": 4,
 "nbformat_minor": 5
}
