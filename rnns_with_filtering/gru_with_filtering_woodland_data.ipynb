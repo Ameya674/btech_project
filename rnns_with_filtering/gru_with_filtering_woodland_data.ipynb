{
 "cells": [
  {
   "cell_type": "code",
   "execution_count": 1,
   "id": "4c8ea891-2ab2-4f14-b2a6-5e1142187b3e",
   "metadata": {},
   "outputs": [
    {
     "name": "stdout",
     "output_type": "stream",
     "text": [
      "importing Jupyter notebook from helpers.ipynb\n"
     ]
    }
   ],
   "source": [
    "import pandas as pd\n",
    "import numpy as np\n",
    "import torch\n",
    "import torch.nn as nn\n",
    "from copy import deepcopy as dc\n",
    "from sklearn.preprocessing import MinMaxScaler\n",
    "from torch.utils.data import Dataset, DataLoader\n",
    "import import_ipynb\n",
    "from helpers import train_and_validate, count_parameters, plot_loss_comparison, plot_test_predictions, compare_mse_loss\n",
    "import time\n",
    "import matplotlib.pyplot as plt\n",
    "from sklearn.metrics import r2_score"
   ]
  },
  {
   "cell_type": "code",
   "execution_count": 2,
   "id": "7cb05884-2d29-4a24-9927-52ac8b518bc5",
   "metadata": {},
   "outputs": [
    {
     "data": {
      "text/plain": [
       "'cuda'"
      ]
     },
     "execution_count": 2,
     "metadata": {},
     "output_type": "execute_result"
    }
   ],
   "source": [
    "device = \"cuda\" if torch.cuda.is_available() else \"cpu\"\n",
    "device"
   ]
  },
  {
   "cell_type": "code",
   "execution_count": 3,
   "id": "3c606b06-ad3f-4067-b734-ebfe93d3fc11",
   "metadata": {},
   "outputs": [],
   "source": [
    "window_size = 24\n",
    "batch_size = 100\n",
    "input_size = 1\n",
    "hidden_size = 100\n",
    "num_classes = 1\n",
    "learning_rate = 0.001\n",
    "epochs = 100\n",
    "criterion = nn.MSELoss()"
   ]
  },
  {
   "cell_type": "code",
   "execution_count": 4,
   "id": "b0ad2bc3-038a-450d-ac5b-b041dcef5327",
   "metadata": {},
   "outputs": [],
   "source": [
    "def root_mean_squared_error(actual, predicted):\n",
    "    actual = torch.tensor(actual, dtype=torch.float32)\n",
    "    predicted = torch.tensor(predicted, dtype=torch.float32)\n",
    "    \n",
    "    if actual.shape != predicted.shape:\n",
    "        raise ValueError(\"Tensors must have the same shape.\")\n",
    "    \n",
    "    mse = torch.mean((actual - predicted)**2)\n",
    "    \n",
    "    return (mse.item() ** 0.5)"
   ]
  },
  {
   "cell_type": "code",
   "execution_count": 5,
   "id": "217dbf8f-cfdc-42ef-a463-d0ad0e76a064",
   "metadata": {},
   "outputs": [
    {
     "data": {
      "text/html": [
       "<div>\n",
       "<style scoped>\n",
       "    .dataframe tbody tr th:only-of-type {\n",
       "        vertical-align: middle;\n",
       "    }\n",
       "\n",
       "    .dataframe tbody tr th {\n",
       "        vertical-align: top;\n",
       "    }\n",
       "\n",
       "    .dataframe thead th {\n",
       "        text-align: right;\n",
       "    }\n",
       "</style>\n",
       "<table border=\"1\" class=\"dataframe\">\n",
       "  <thead>\n",
       "    <tr style=\"text-align: right;\">\n",
       "      <th></th>\n",
       "      <th>Date</th>\n",
       "      <th>P (kW)</th>\n",
       "    </tr>\n",
       "  </thead>\n",
       "  <tbody>\n",
       "    <tr>\n",
       "      <th>0</th>\n",
       "      <td>2022-01-01 06:00:00</td>\n",
       "      <td>0.000000</td>\n",
       "    </tr>\n",
       "    <tr>\n",
       "      <th>1</th>\n",
       "      <td>2022-01-01 07:00:00</td>\n",
       "      <td>0.410583</td>\n",
       "    </tr>\n",
       "    <tr>\n",
       "      <th>2</th>\n",
       "      <td>2022-01-01 08:00:00</td>\n",
       "      <td>2.762083</td>\n",
       "    </tr>\n",
       "    <tr>\n",
       "      <th>3</th>\n",
       "      <td>2022-01-01 09:00:00</td>\n",
       "      <td>5.461250</td>\n",
       "    </tr>\n",
       "    <tr>\n",
       "      <th>4</th>\n",
       "      <td>2022-01-01 10:00:00</td>\n",
       "      <td>8.356167</td>\n",
       "    </tr>\n",
       "    <tr>\n",
       "      <th>...</th>\n",
       "      <td>...</td>\n",
       "      <td>...</td>\n",
       "    </tr>\n",
       "    <tr>\n",
       "      <th>25645</th>\n",
       "      <td>2024-12-04 19:00:00</td>\n",
       "      <td>0.000000</td>\n",
       "    </tr>\n",
       "    <tr>\n",
       "      <th>25646</th>\n",
       "      <td>2024-12-04 20:00:00</td>\n",
       "      <td>0.000000</td>\n",
       "    </tr>\n",
       "    <tr>\n",
       "      <th>25647</th>\n",
       "      <td>2024-12-04 21:00:00</td>\n",
       "      <td>0.000000</td>\n",
       "    </tr>\n",
       "    <tr>\n",
       "      <th>25648</th>\n",
       "      <td>2024-12-04 22:00:00</td>\n",
       "      <td>0.000000</td>\n",
       "    </tr>\n",
       "    <tr>\n",
       "      <th>25649</th>\n",
       "      <td>2024-12-04 23:00:00</td>\n",
       "      <td>0.000000</td>\n",
       "    </tr>\n",
       "  </tbody>\n",
       "</table>\n",
       "<p>25650 rows × 2 columns</p>\n",
       "</div>"
      ],
      "text/plain": [
       "                      Date    P (kW)\n",
       "0      2022-01-01 06:00:00  0.000000\n",
       "1      2022-01-01 07:00:00  0.410583\n",
       "2      2022-01-01 08:00:00  2.762083\n",
       "3      2022-01-01 09:00:00  5.461250\n",
       "4      2022-01-01 10:00:00  8.356167\n",
       "...                    ...       ...\n",
       "25645  2024-12-04 19:00:00  0.000000\n",
       "25646  2024-12-04 20:00:00  0.000000\n",
       "25647  2024-12-04 21:00:00  0.000000\n",
       "25648  2024-12-04 22:00:00  0.000000\n",
       "25649  2024-12-04 23:00:00  0.000000\n",
       "\n",
       "[25650 rows x 2 columns]"
      ]
     },
     "execution_count": 5,
     "metadata": {},
     "output_type": "execute_result"
    }
   ],
   "source": [
    "df = pd.read_csv(\"../data/clean_woodland_data.csv\")\n",
    "df"
   ]
  },
  {
   "cell_type": "code",
   "execution_count": 6,
   "id": "d1c7b112-6247-48b8-a873-b4507792a0da",
   "metadata": {},
   "outputs": [
    {
     "name": "stdout",
     "output_type": "stream",
     "text": [
      "<class 'pandas.core.frame.DataFrame'>\n",
      "RangeIndex: 25650 entries, 0 to 25649\n",
      "Data columns (total 2 columns):\n",
      " #   Column  Non-Null Count  Dtype  \n",
      "---  ------  --------------  -----  \n",
      " 0   Date    25650 non-null  object \n",
      " 1   P (kW)  25650 non-null  float64\n",
      "dtypes: float64(1), object(1)\n",
      "memory usage: 400.9+ KB\n"
     ]
    }
   ],
   "source": [
    "df.info()"
   ]
  },
  {
   "cell_type": "code",
   "execution_count": 7,
   "id": "a2fdc819-900a-4841-8a2b-bb93257ce73d",
   "metadata": {},
   "outputs": [],
   "source": [
    "df = df[[\"Date\", \"P (kW)\"]]\n",
    "train_df = df.iloc[:-24]\n",
    "test = df.iloc[-24:]"
   ]
  },
  {
   "cell_type": "code",
   "execution_count": 8,
   "id": "c70b9908-68d3-46fe-8057-6d0a440118df",
   "metadata": {},
   "outputs": [],
   "source": [
    "def prepare_dataframe(df, n_steps):\n",
    "    df = dc(df)\n",
    "    \n",
    "    df.set_index('Date', inplace=True)\n",
    "    \n",
    "    for i in range(1, n_steps+1):\n",
    "        df[f'P (kW)(t-{i})'] = df['P (kW)'].shift(i)\n",
    "        \n",
    "    df.dropna(inplace=True)\n",
    "    \n",
    "    return df"
   ]
  },
  {
   "cell_type": "code",
   "execution_count": 9,
   "id": "01cc9c7e-95f2-4425-a993-7e62694c28d3",
   "metadata": {},
   "outputs": [
    {
     "data": {
      "text/plain": [
       "array([[0.0000000e+00, 0.0000000e+00, 0.0000000e+00, ..., 2.7620833e+00,\n",
       "        4.1058330e-01, 0.0000000e+00],\n",
       "       [7.4316670e-01, 0.0000000e+00, 0.0000000e+00, ..., 5.4612500e+00,\n",
       "        2.7620833e+00, 4.1058330e-01],\n",
       "       [4.3818335e+00, 7.4316670e-01, 0.0000000e+00, ..., 8.3561670e+00,\n",
       "        5.4612500e+00, 2.7620833e+00],\n",
       "       ...,\n",
       "       [1.1980000e-02, 0.0000000e+00, 1.5033335e-01, ..., 2.9400000e-03,\n",
       "        1.9600000e-03, 9.8000000e-04],\n",
       "       [2.3960000e-02, 1.1980000e-02, 0.0000000e+00, ..., 3.9200000e-03,\n",
       "        2.9400000e-03, 1.9600000e-03],\n",
       "       [3.5940000e-02, 2.3960000e-02, 1.1980000e-02, ..., 4.9000000e-03,\n",
       "        3.9200000e-03, 2.9400000e-03]])"
      ]
     },
     "execution_count": 9,
     "metadata": {},
     "output_type": "execute_result"
    }
   ],
   "source": [
    "new_df = prepare_dataframe(train_df, window_size)\n",
    "new_df = new_df.to_numpy()\n",
    "new_df"
   ]
  },
  {
   "cell_type": "code",
   "execution_count": 10,
   "id": "69d032a5-50e4-4a4c-91dc-2535d964971c",
   "metadata": {},
   "outputs": [],
   "source": [
    "X = new_df[:, 1:]\n",
    "y = new_df[:, 0]"
   ]
  },
  {
   "cell_type": "code",
   "execution_count": 11,
   "id": "938237a4-6190-45be-a4d2-d6a11b650a43",
   "metadata": {},
   "outputs": [
    {
     "data": {
      "text/plain": [
       "((25602, 24), (25602,))"
      ]
     },
     "execution_count": 11,
     "metadata": {},
     "output_type": "execute_result"
    }
   ],
   "source": [
    "X.shape, y.shape"
   ]
  },
  {
   "cell_type": "code",
   "execution_count": 12,
   "id": "d9a11f73-2ac2-4569-b537-91a0518755f4",
   "metadata": {},
   "outputs": [],
   "source": [
    "split_index = int(len(X) * 0.8)"
   ]
  },
  {
   "cell_type": "code",
   "execution_count": 13,
   "id": "544e404f-09f8-480f-95a4-43fd0d4bfd5e",
   "metadata": {},
   "outputs": [
    {
     "data": {
      "text/plain": [
       "((20481, 24), (5121, 24), (20481,), (5121,))"
      ]
     },
     "execution_count": 13,
     "metadata": {},
     "output_type": "execute_result"
    }
   ],
   "source": [
    "X_train = X[:split_index]\n",
    "X_val = X[split_index:]\n",
    "\n",
    "y_train = y[:split_index]\n",
    "y_val = y[split_index:]\n",
    "\n",
    "X_train.shape, X_val.shape, y_train.shape, y_val.shape"
   ]
  },
  {
   "cell_type": "code",
   "execution_count": 14,
   "id": "2006eeb9-a7a2-405f-b7e2-ba90322633dc",
   "metadata": {},
   "outputs": [
    {
     "data": {
      "text/plain": [
       "((20481, 24, 1), (5121, 24, 1), (20481, 1), (5121, 1))"
      ]
     },
     "execution_count": 14,
     "metadata": {},
     "output_type": "execute_result"
    }
   ],
   "source": [
    "X_train = X_train.reshape((-1, window_size, 1))\n",
    "X_val = X_val.reshape((-1, window_size, 1))\n",
    "\n",
    "y_train = y_train.reshape((-1, 1))\n",
    "y_val = y_val.reshape((-1, 1))\n",
    "\n",
    "X_train.shape, X_val.shape, y_train.shape, y_val.shape"
   ]
  },
  {
   "cell_type": "code",
   "execution_count": 15,
   "id": "99b9397c-c836-4ed8-9ace-b55fe6976ab1",
   "metadata": {},
   "outputs": [
    {
     "data": {
      "text/plain": [
       "(torch.Size([20481, 24, 1]),\n",
       " torch.Size([5121, 24, 1]),\n",
       " torch.Size([20481, 1]),\n",
       " torch.Size([5121, 1]))"
      ]
     },
     "execution_count": 15,
     "metadata": {},
     "output_type": "execute_result"
    }
   ],
   "source": [
    "X_train = torch.tensor(X_train).float()\n",
    "y_train = torch.tensor(y_train).float()\n",
    "X_val = torch.tensor(X_val).float()\n",
    "y_val = torch.tensor(y_val).float()\n",
    "\n",
    "X_train.shape, X_val.shape, y_train.shape, y_val.shape"
   ]
  },
  {
   "cell_type": "code",
   "execution_count": 16,
   "id": "2253c6d2-f2af-4553-95d8-7ea4a4192c89",
   "metadata": {},
   "outputs": [],
   "source": [
    "class SolarData(Dataset):\n",
    "\n",
    "    def __init__(self, X, y):\n",
    "        self.X = X\n",
    "        self.y = y\n",
    "\n",
    "    def __len__(self):\n",
    "        return len(self.X)\n",
    "\n",
    "    def __getitem__(self, i):\n",
    "        return self.X[i], self.y[i]"
   ]
  },
  {
   "cell_type": "code",
   "execution_count": 17,
   "id": "5f8bfe52-eff2-444e-be33-42b04eee8491",
   "metadata": {},
   "outputs": [],
   "source": [
    "train = SolarData(X_train, y_train)\n",
    "val = SolarData(X_val, y_val)"
   ]
  },
  {
   "cell_type": "code",
   "execution_count": 18,
   "id": "8b66ad07-01c4-415a-9b8a-bc1030ab6778",
   "metadata": {},
   "outputs": [],
   "source": [
    "train_loader = DataLoader(train, batch_size = batch_size, shuffle = True)\n",
    "val_loader = DataLoader(val, batch_size = batch_size, shuffle = False)"
   ]
  },
  {
   "cell_type": "code",
   "execution_count": 19,
   "id": "91eb8128-6afa-4eb1-bcf9-1bce0afc3be5",
   "metadata": {},
   "outputs": [
    {
     "name": "stdout",
     "output_type": "stream",
     "text": [
      "torch.Size([100, 24, 1]) torch.Size([100, 1])\n"
     ]
    }
   ],
   "source": [
    "for _, batch in enumerate(train_loader):\n",
    "    x_batch, y_batch = batch[0].to(device), batch[1].to(device)\n",
    "    print(x_batch.shape, y_batch.shape)\n",
    "    break"
   ]
  },
  {
   "cell_type": "code",
   "execution_count": 20,
   "id": "212ad41f-54bb-40a6-bb07-c56aef28c840",
   "metadata": {},
   "outputs": [],
   "source": [
    "class CustomNet(nn.Module):\n",
    "\n",
    "    def __init__(self, input_size: int, hidden_size: int, num_classes: int):\n",
    "        super().__init__()\n",
    "        self.input_size = input_size\n",
    "        self.hidden_size = hidden_size\n",
    "        self.num_classes = num_classes\n",
    "        self.W = nn.Parameter(torch.Tensor(input_size, hidden_size), requires_grad = True)\n",
    "        self.lstm = nn.GRU(hidden_size, hidden_size, batch_first = True)\n",
    "        self.fc = nn.Linear(hidden_size, num_classes)\n",
    "\n",
    "    def forward(self, x):\n",
    "        x = torch.tanh(x @ self.W)\n",
    "        x_, h = self.lstm(x)\n",
    "        out = self.fc(x_[:, -1, :])\n",
    "        return out"
   ]
  },
  {
   "cell_type": "code",
   "execution_count": 21,
   "id": "d4495d62-92cf-4aef-b6da-2ebca3e379f7",
   "metadata": {},
   "outputs": [],
   "source": [
    "customnet = CustomNet(input_size, hidden_size, num_classes).to(device)\n",
    "customnet_optimizer = torch.optim.Adam(customnet.parameters(), lr = learning_rate)"
   ]
  },
  {
   "cell_type": "code",
   "execution_count": 22,
   "id": "5918e72d-0a45-4e23-b14e-d06bf4f2b560",
   "metadata": {},
   "outputs": [],
   "source": [
    "total_customnet_parameters = count_parameters(customnet)"
   ]
  },
  {
   "cell_type": "code",
   "execution_count": 23,
   "id": "c4603d04-71cd-4193-bff8-001f0dafcd59",
   "metadata": {},
   "outputs": [],
   "source": [
    "customnet_train_loss_array = []\n",
    "customnet_val_loss_array = []"
   ]
  },
  {
   "cell_type": "code",
   "execution_count": 24,
   "id": "f5e2c704-4654-4499-9dac-53f2f0a1b0fb",
   "metadata": {},
   "outputs": [
    {
     "name": "stdout",
     "output_type": "stream",
     "text": [
      "Epoch no.: 1 | Training Loss: 6.535839623358192 | Validation Loss: 2.410996413574769\n",
      "Epoch no.: 2 | Training Loss: 3.351649502719321 | Validation Loss: 2.199492936524061\n",
      "Epoch no.: 3 | Training Loss: 2.2034963831668946 | Validation Loss: 0.48662243879740485\n",
      "Epoch no.: 4 | Training Loss: 1.3154779088206408 | Validation Loss: 0.1972647392176441\n",
      "Epoch no.: 5 | Training Loss: 1.1595247998470213 | Validation Loss: 0.15275209510225699\n",
      "Epoch no.: 6 | Training Loss: 1.063018736606691 | Validation Loss: 0.13789006100537685\n",
      "Epoch no.: 7 | Training Loss: 1.0850752898832647 | Validation Loss: 0.12227401047186084\n",
      "Epoch no.: 8 | Training Loss: 1.0542418199341472 | Validation Loss: 0.0778565689951165\n",
      "Epoch no.: 9 | Training Loss: 1.013726863337726 | Validation Loss: 0.07922378840157762\n",
      "Epoch no.: 10 | Training Loss: 0.9854338398793848 | Validation Loss: 0.10080351808797926\n",
      "Epoch no.: 11 | Training Loss: 0.9997221288157673 | Validation Loss: 0.09930813525660107\n",
      "Epoch no.: 12 | Training Loss: 0.9968764168460195 | Validation Loss: 0.09870418610696036\n",
      "Epoch no.: 13 | Training Loss: 1.013891025141972 | Validation Loss: 0.07194395123951836\n",
      "Epoch no.: 14 | Training Loss: 0.9844438786913708 | Validation Loss: 0.07754622170334467\n",
      "Epoch no.: 15 | Training Loss: 0.9619323738464495 | Validation Loss: 0.07639925329175849\n",
      "Epoch no.: 16 | Training Loss: 0.9913543242506865 | Validation Loss: 0.13011679662248263\n",
      "Epoch no.: 17 | Training Loss: 0.9632969760313267 | Validation Loss: 0.08286857066853442\n",
      "Epoch no.: 18 | Training Loss: 0.9585248208627468 | Validation Loss: 0.07993209470553736\n",
      "Epoch no.: 19 | Training Loss: 0.9574862379853318 | Validation Loss: 0.1067568382677564\n",
      "Epoch no.: 20 | Training Loss: 0.9534633603037858 | Validation Loss: 0.07182304635017107\n",
      "Epoch no.: 21 | Training Loss: 0.9433253835614135 | Validation Loss: 0.07348393291109599\n",
      "Epoch no.: 22 | Training Loss: 0.961591378072413 | Validation Loss: 0.07030683062537527\n",
      "Epoch no.: 23 | Training Loss: 0.9322390918324633 | Validation Loss: 0.06825140298035247\n",
      "Epoch no.: 24 | Training Loss: 0.9252311357637731 | Validation Loss: 0.07694672875536177\n",
      "Epoch no.: 25 | Training Loss: 0.9504942598139368 | Validation Loss: 0.07597054843811818\n",
      "Epoch no.: 26 | Training Loss: 0.9540165135046331 | Validation Loss: 0.06980023401536947\n",
      "Epoch no.: 27 | Training Loss: 0.9381071612602327 | Validation Loss: 0.11138456876282223\n",
      "Epoch no.: 28 | Training Loss: 0.9441257802451529 | Validation Loss: 0.06015536088783007\n",
      "Epoch no.: 29 | Training Loss: 0.9279933343573314 | Validation Loss: 0.06845933590851089\n",
      "Epoch no.: 30 | Training Loss: 0.9133499075726765 | Validation Loss: 0.0715650974802534\n",
      "Epoch no.: 31 | Training Loss: 0.9165209698967818 | Validation Loss: 0.06646799042265719\n",
      "Epoch no.: 32 | Training Loss: 0.9332677711073946 | Validation Loss: 0.06893113613701783\n",
      "Epoch no.: 33 | Training Loss: 0.9117600006301229 | Validation Loss: 0.07283255317878894\n",
      "Epoch no.: 34 | Training Loss: 0.9132587664011048 | Validation Loss: 0.07039044618543883\n",
      "Epoch no.: 35 | Training Loss: 0.9184887990718935 | Validation Loss: 0.07288228430283758\n",
      "Epoch no.: 36 | Training Loss: 0.9121057684828595 | Validation Loss: 0.06827666148847829\n",
      "Epoch no.: 37 | Training Loss: 0.9240936156453156 | Validation Loss: 0.072806890483382\n",
      "Epoch no.: 38 | Training Loss: 0.9143534905299908 | Validation Loss: 0.07417533779516816\n",
      "Epoch no.: 39 | Training Loss: 0.905204581414781 | Validation Loss: 0.08677758676892083\n",
      "Epoch no.: 40 | Training Loss: 0.9032742469775967 | Validation Loss: 0.08552168041037825\n",
      "Epoch no.: 41 | Training Loss: 0.9032990004958176 | Validation Loss: 0.07465966032423939\n",
      "Epoch no.: 42 | Training Loss: 0.895960521697998 | Validation Loss: 0.08723954276110117\n",
      "Epoch no.: 43 | Training Loss: 0.922714409522894 | Validation Loss: 0.06784694457355027\n",
      "Epoch no.: 44 | Training Loss: 0.8971333073406684 | Validation Loss: 0.08941171470528039\n",
      "Epoch no.: 45 | Training Loss: 0.8939226899205185 | Validation Loss: 0.07909886875691322\n",
      "Epoch no.: 46 | Training Loss: 0.8972079318471071 | Validation Loss: 0.062167687204447035\n",
      "Epoch no.: 47 | Training Loss: 0.8887642076102699 | Validation Loss: 0.07092626090385377\n",
      "Epoch no.: 48 | Training Loss: 0.8756699400704081 | Validation Loss: 0.06420218115762019\n",
      "Epoch no.: 49 | Training Loss: 0.8781939856889771 | Validation Loss: 0.07573422501445748\n",
      "Epoch no.: 50 | Training Loss: 0.8842402362241978 | Validation Loss: 0.07016045157321898\n",
      "Epoch no.: 51 | Training Loss: 0.875977220913259 | Validation Loss: 0.08234873693436384\n",
      "Epoch no.: 52 | Training Loss: 0.8790899426471896 | Validation Loss: 0.08215480320863068\n",
      "Epoch no.: 53 | Training Loss: 0.9040758262320263 | Validation Loss: 0.06881313109470984\n",
      "Epoch no.: 54 | Training Loss: 0.8718609606347433 | Validation Loss: 0.06885760196032956\n",
      "Epoch no.: 55 | Training Loss: 0.8664870403888749 | Validation Loss: 0.07123401108681439\n",
      "Epoch no.: 56 | Training Loss: 0.8621363288018762 | Validation Loss: 0.07011217982038104\n",
      "Epoch no.: 57 | Training Loss: 0.8557965048202654 | Validation Loss: 0.06986398571126091\n",
      "Epoch no.: 58 | Training Loss: 0.8579529826234027 | Validation Loss: 0.08146344208384668\n",
      "Epoch no.: 59 | Training Loss: 0.8658535447789402 | Validation Loss: 0.07762405570065312\n",
      "Epoch no.: 60 | Training Loss: 0.8641523822778608 | Validation Loss: 0.06609126076070354\n",
      "Epoch no.: 61 | Training Loss: 0.8613170712459378 | Validation Loss: 0.06857806176188976\n",
      "Epoch no.: 62 | Training Loss: 0.8544531730616965 | Validation Loss: 0.06805372496889434\n",
      "Epoch no.: 63 | Training Loss: 0.8478096458970047 | Validation Loss: 0.10832027463654342\n",
      "Epoch no.: 64 | Training Loss: 0.8543674386856033 | Validation Loss: 0.07254766023610361\n",
      "Epoch no.: 65 | Training Loss: 0.8479110550589678 | Validation Loss: 0.08638435751513149\n",
      "Epoch no.: 66 | Training Loss: 0.8458487422001071 | Validation Loss: 0.07016341836984233\n",
      "Epoch no.: 67 | Training Loss: 0.8367267111452614 | Validation Loss: 0.07017745953131592\n",
      "Epoch no.: 68 | Training Loss: 0.8315656048495595 | Validation Loss: 0.07743270078180313\n",
      "Epoch no.: 69 | Training Loss: 0.8303395314914425 | Validation Loss: 0.09071569770346216\n",
      "Epoch no.: 70 | Training Loss: 0.8290548160308745 | Validation Loss: 0.08027555837515347\n",
      "Epoch no.: 71 | Training Loss: 0.8157777491139202 | Validation Loss: 0.08640233166862835\n",
      "Epoch no.: 72 | Training Loss: 0.8362626224029355 | Validation Loss: 0.07536352014330287\n",
      "Epoch no.: 73 | Training Loss: 0.8150180707617504 | Validation Loss: 0.07216963817392333\n",
      "Epoch no.: 74 | Training Loss: 0.8054166953011257 | Validation Loss: 0.07722671183112723\n",
      "Epoch no.: 75 | Training Loss: 0.8254689412872965 | Validation Loss: 0.07355260724524179\n",
      "Epoch no.: 76 | Training Loss: 0.8179576990081043 | Validation Loss: 0.08715046393291022\n",
      "Epoch no.: 77 | Training Loss: 0.8154103228231756 | Validation Loss: 0.09245355325849512\n",
      "Epoch no.: 78 | Training Loss: 0.8057475219412548 | Validation Loss: 0.07057100587847415\n",
      "Epoch no.: 79 | Training Loss: 0.7984642255596999 | Validation Loss: 0.08427267663333063\n",
      "Epoch no.: 80 | Training Loss: 0.8084074475416323 | Validation Loss: 0.09268324635531126\n",
      "Epoch no.: 81 | Training Loss: 0.7953715517753508 | Validation Loss: 0.08248889736625223\n",
      "Epoch no.: 82 | Training Loss: 0.8035433415959521 | Validation Loss: 0.07521159108518287\n",
      "Epoch no.: 83 | Training Loss: 0.7798681699648136 | Validation Loss: 0.08756917846874156\n",
      "Epoch no.: 84 | Training Loss: 0.8142582405631135 | Validation Loss: 0.09187226423707145\n",
      "Epoch no.: 85 | Training Loss: 0.7880340178565282 | Validation Loss: 0.06769952854889337\n",
      "Epoch no.: 86 | Training Loss: 0.7718893295381127 | Validation Loss: 0.07595301831091862\n",
      "Epoch no.: 87 | Training Loss: 0.7672057566119403 | Validation Loss: 0.09576396515163091\n",
      "Epoch no.: 88 | Training Loss: 0.7880479340146228 | Validation Loss: 0.07832449495505828\n",
      "Epoch no.: 89 | Training Loss: 0.7636747078197759 | Validation Loss: 0.07379416655637144\n",
      "Epoch no.: 90 | Training Loss: 0.7657447111315844 | Validation Loss: 0.07773582895214741\n",
      "Epoch no.: 91 | Training Loss: 0.7556534755520704 | Validation Loss: 0.08188256443211755\n",
      "Epoch no.: 92 | Training Loss: 0.782937110778762 | Validation Loss: 0.07476983506281752\n",
      "Epoch no.: 93 | Training Loss: 0.757348621255014 | Validation Loss: 0.07911607227512062\n",
      "Epoch no.: 94 | Training Loss: 0.7596255471066731 | Validation Loss: 0.07518651996192952\n",
      "Epoch no.: 95 | Training Loss: 0.7417559102541063 | Validation Loss: 0.08077855953328814\n",
      "Epoch no.: 96 | Training Loss: 0.7449335676867788 | Validation Loss: 0.07022304357423519\n",
      "Epoch no.: 97 | Training Loss: 0.7448967921297724 | Validation Loss: 0.08177957012440647\n",
      "Epoch no.: 98 | Training Loss: 0.7372892144976593 | Validation Loss: 0.06771012230478408\n",
      "Epoch no.: 99 | Training Loss: 0.7332734576085719 | Validation Loss: 0.08035109718240654\n",
      "Epoch no.: 100 | Training Loss: 0.7255198715663538 | Validation Loss: 0.107151003052982\n"
     ]
    }
   ],
   "source": [
    "customnet_start_time = time.time()\n",
    "train_and_validate(epochs, device, customnet, train_loader, val_loader, criterion, customnet_optimizer, customnet_train_loss_array, customnet_val_loss_array)\n",
    "customnet_end_time = time.time()\n",
    "customnet_total_training_time = customnet_end_time - customnet_start_time\n",
    "customnet_avg_training_time_per_epoch = customnet_total_training_time / epochs"
   ]
  },
  {
   "cell_type": "code",
   "execution_count": 25,
   "id": "cc91c777-b5e9-4d17-99ad-068babf700df",
   "metadata": {},
   "outputs": [
    {
     "name": "stdout",
     "output_type": "stream",
     "text": [
      "\n",
      "\n",
      "------------------------------------------------------------\n",
      "Total Parameters:     CustomNet: 60801\n",
      "\n",
      "Total Training Time:     CustomNet: 110.89s\n",
      "\n",
      "Average Training Time Per Epoch:     CustomNet: 1.11s\n",
      "------------------------------------------------------------\n"
     ]
    }
   ],
   "source": [
    "print()\n",
    "print()\n",
    "print(\"------------------------------------------------------------\")\n",
    "print(f\"Total Parameters:     CustomNet: {total_customnet_parameters}\")\n",
    "print()\n",
    "print(f\"Total Training Time:     CustomNet: {customnet_total_training_time:.2f}s\")\n",
    "print()\n",
    "print(f\"Average Training Time Per Epoch:     CustomNet: {customnet_avg_training_time_per_epoch:.2f}s\")\n",
    "\n",
    "print(\"------------------------------------------------------------\")"
   ]
  },
  {
   "cell_type": "code",
   "execution_count": 26,
   "id": "15ccf1f9-55c2-4b6c-b7fc-8fc37ba0aea0",
   "metadata": {},
   "outputs": [
    {
     "data": {
      "image/png": "[encoded data removed]",
      "text/plain": [
       "<Figure size 600x600 with 1 Axes>"
      ]
     },
     "metadata": {},
     "output_type": "display_data"
    }
   ],
   "source": [
    "plot_loss_comparison(epochs, customnet_train_loss_array, customnet_val_loss_array, \"CustomNet Training Loss\", \"CustomNet Validation Loss\", \"Training vs Validation Loss\")"
   ]
  },
  {
   "cell_type": "code",
   "execution_count": 27,
   "id": "2c8837fe-ec84-4358-9527-870c6f564e1e",
   "metadata": {},
   "outputs": [
    {
     "name": "stderr",
     "output_type": "stream",
     "text": [
      "C:\\Users\\itadmin\\AppData\\Local\\Temp\\ipykernel_11548\\1908420732.py:3: UserWarning: To copy construct from a tensor, it is recommended to use sourceTensor.clone().detach() or sourceTensor.clone().detach().requires_grad_(True), rather than torch.tensor(sourceTensor).\n",
      "  last_24_values_test = torch.tensor(last_24_values_test, dtype=torch.float32).unsqueeze(0).to(device)\n"
     ]
    }
   ],
   "source": [
    "customnet.eval()\n",
    "last_24_values_test = y_val[-window_size:]\n",
    "last_24_values_test = torch.tensor(last_24_values_test, dtype=torch.float32).unsqueeze(0).to(device)\n",
    "predictions_test = []\n",
    "\n",
    "for i in range(window_size):\n",
    "    # Make the prediction\n",
    "    with torch.no_grad():\n",
    "        pred_test = customnet(last_24_values_test)\n",
    "    \n",
    "    # Store the prediction\n",
    "    predictions_test.append(pred_test.item())\n",
    "    \n",
    "    # Shift the values to the left and add the predicted value to the last_24_values_test for the next iteration\n",
    "    last_24_values_test = torch.cat((last_24_values_test[:, 1:], pred_test.unsqueeze(1)), dim=1)\n",
    "\n",
    "# Convert predictions_test to a numpy array\n",
    "predictions_test = np.array(predictions_test)"
   ]
  },
  {
   "cell_type": "code",
   "execution_count": 28,
   "id": "226a9734-95a5-47eb-811f-87752d2af365",
   "metadata": {},
   "outputs": [
    {
     "data": {
      "image/png": "[encoded data removed]",
      "text/plain": [
       "<Figure size 1200x600 with 1 Axes>"
      ]
     },
     "metadata": {},
     "output_type": "display_data"
    }
   ],
   "source": [
    "plt.figure(figsize=(12, 6))\n",
    "plt.plot(test['Date'], test['P (kW)'], 'g', label='True Values')\n",
    "plt.plot(test['Date'], predictions_test, 'b', label='Predictions')\n",
    "plt.title('True Values vs CustomNet Predictions')\n",
    "plt.xlabel('Date')\n",
    "plt.ylabel('P (kW)')\n",
    "plt.xticks(rotation=45)\n",
    "plt.legend()\n",
    "plt.grid(True)\n",
    "plt.tight_layout()\n",
    "plt.show()"
   ]
  },
  {
   "cell_type": "code",
   "execution_count": 29,
   "id": "a082b121-8c19-424c-9501-88571c15aa05",
   "metadata": {},
   "outputs": [
    {
     "name": "stdout",
     "output_type": "stream",
     "text": [
      "Mean Squared Error: 1.2795754631659202\n",
      "R-squared value: 0.935654371711833\n"
     ]
    }
   ],
   "source": [
    "mse = root_mean_squared_error(test[\"P (kW)\"].values, predictions_test)\n",
    "r2 = r2_score(test[\"P (kW)\"].values, predictions_test)\n",
    "print(f\"Mean Squared Error: {mse}\")\n",
    "print(f'R-squared value: {r2}')"
   ]
  },
  {
   "cell_type": "code",
   "execution_count": null,
   "id": "1aa64908-7e0b-4672-a916-ccbe65da278a",
   "metadata": {},
   "outputs": [],
   "source": []
  }
 ],
 "metadata": {
  "kernelspec": {
   "display_name": "btp",
   "language": "python",
   "name": "btp"
  },
  "language_info": {
   "codemirror_mode": {
    "name": "ipython",
    "version": 3
   },
   "file_extension": ".py",
   "mimetype": "text/x-python",
   "name": "python",
   "nbconvert_exporter": "python",
   "pygments_lexer": "ipython3",
   "version": "3.9.13"
  }
 },
 "nbformat": 4,
 "nbformat_minor": 5
}
