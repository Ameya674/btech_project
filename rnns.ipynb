{
 "cells": [
  {
   "cell_type": "code",
   "execution_count": 1,
   "id": "6c5d952d-e10b-4e6f-bfe4-0d056b9fc4d8",
   "metadata": {},
   "outputs": [
    {
     "name": "stdout",
     "output_type": "stream",
     "text": [
      "importing Jupyter notebook from helpers.ipynb\n"
     ]
    }
   ],
   "source": [
    "import pandas as pd\n",
    "import numpy as np\n",
    "import torch\n",
    "import torch.nn as nn\n",
    "from copy import deepcopy as dc\n",
    "from sklearn.preprocessing import MinMaxScaler\n",
    "from torch.utils.data import Dataset, DataLoader\n",
    "import import_ipynb\n",
    "from helpers import train_and_validate, count_parameters, plot_loss_comparison, plot_test_predictions, compare_mse_loss\n",
    "import time\n",
    "import matplotlib.pyplot as plt"
   ]
  },
  {
   "cell_type": "code",
   "execution_count": 2,
   "id": "fc644754-665f-4c03-af33-40d55bab9657",
   "metadata": {},
   "outputs": [
    {
     "data": {
      "text/plain": [
       "'cuda'"
      ]
     },
     "execution_count": 2,
     "metadata": {},
     "output_type": "execute_result"
    }
   ],
   "source": [
    "device = \"cuda\" if torch.cuda.is_available() else \"cpu\"\n",
    "device"
   ]
  },
  {
   "cell_type": "code",
   "execution_count": 3,
   "id": "0b4b7f0e-b1b7-4032-9350-b0c4e88a8e1d",
   "metadata": {},
   "outputs": [],
   "source": [
    "window_size = 48\n",
    "batch_size = 100\n",
    "input_size = 1\n",
    "hidden_size = 128\n",
    "num_classes = 1\n",
    "learning_rate = 0.001\n",
    "epochs = 200\n",
    "criterion = nn.MSELoss()"
   ]
  },
  {
   "cell_type": "code",
   "execution_count": 4,
   "id": "ccd4f244-e547-44ef-9167-93219970870d",
   "metadata": {},
   "outputs": [],
   "source": [
    "def root_mean_squared_error(actual, predicted):\n",
    "    actual = torch.tensor(actual, dtype=torch.float32)\n",
    "    predicted = torch.tensor(predicted, dtype=torch.float32)\n",
    "    \n",
    "    if actual.shape != predicted.shape:\n",
    "        raise ValueError(\"Tensors must have the same shape.\")\n",
    "    \n",
    "    mse = torch.mean((actual - predicted)**2)\n",
    "    \n",
    "    return (mse.item() ** 0.5)"
   ]
  },
  {
   "cell_type": "code",
   "execution_count": 5,
   "id": "420ebd5f-b564-482a-9e41-876c4d4bb0a0",
   "metadata": {},
   "outputs": [
    {
     "data": {
      "text/plain": [
       "(15955, 5)"
      ]
     },
     "execution_count": 5,
     "metadata": {},
     "output_type": "execute_result"
    }
   ],
   "source": [
    "df = pd.read_csv(\"./data/clean_data.csv\")\n",
    "df = df[:-24]\n",
    "df.shape"
   ]
  },
  {
   "cell_type": "code",
   "execution_count": 6,
   "id": "167b7b1f-6453-4aaf-a497-b2b665008ccd",
   "metadata": {},
   "outputs": [],
   "source": [
    "df = df[[\"Date\", \"P (kW)\"]]\n",
    "train_df = df.iloc[:-48]\n",
    "test = df.iloc[-48:]"
   ]
  },
  {
   "cell_type": "code",
   "execution_count": 7,
   "id": "cc32adfc-3565-4680-bbfe-a9f25be576c9",
   "metadata": {},
   "outputs": [],
   "source": [
    "def prepare_dataframe(df, n_steps):\n",
    "    df = dc(df)\n",
    "    \n",
    "    df.set_index('Date', inplace=True)\n",
    "    \n",
    "    for i in range(1, n_steps+1):\n",
    "        df[f'P (kW)(t-{i})'] = df['P (kW)'].shift(i)\n",
    "        \n",
    "    df.dropna(inplace=True)\n",
    "    \n",
    "    return df"
   ]
  },
  {
   "cell_type": "code",
   "execution_count": 8,
   "id": "0568045e-085f-4ede-bb28-8313c36eef16",
   "metadata": {},
   "outputs": [
    {
     "data": {
      "text/plain": [
       "array([[  0.        ,   0.        ,   0.        , ...,  14.75265   ,\n",
       "          0.        ,   0.        ],\n",
       "       [  0.        ,   0.        ,   0.        , ..., 127.16308333,\n",
       "         14.75265   ,   0.        ],\n",
       "       [  0.        ,   0.        ,   0.        , ..., 302.4557    ,\n",
       "        127.16308333,  14.75265   ],\n",
       "       ...,\n",
       "       [  0.        ,   0.        ,   0.        , ...,   0.        ,\n",
       "          0.        ,   0.        ],\n",
       "       [  0.        ,   0.        ,   0.        , ...,   0.        ,\n",
       "          0.        ,   0.        ],\n",
       "       [  0.        ,   0.        ,   0.        , ...,   0.        ,\n",
       "          0.        ,   0.        ]])"
      ]
     },
     "execution_count": 8,
     "metadata": {},
     "output_type": "execute_result"
    }
   ],
   "source": [
    "new_df = prepare_dataframe(train_df, window_size)\n",
    "new_df = new_df.to_numpy()\n",
    "new_df"
   ]
  },
  {
   "cell_type": "code",
   "execution_count": 9,
   "id": "c2701691-7666-4613-88cf-f17826916496",
   "metadata": {},
   "outputs": [],
   "source": [
    "X = new_df[:, 1:]\n",
    "y = new_df[:, 0]"
   ]
  },
  {
   "cell_type": "code",
   "execution_count": 10,
   "id": "fc8f30b2-f6fb-4120-8a4b-dd3cf7e2425b",
   "metadata": {},
   "outputs": [
    {
     "data": {
      "text/plain": [
       "((15859, 48), (15859,))"
      ]
     },
     "execution_count": 10,
     "metadata": {},
     "output_type": "execute_result"
    }
   ],
   "source": [
    "X.shape, y.shape"
   ]
  },
  {
   "cell_type": "code",
   "execution_count": 11,
   "id": "07286ca3-cde1-404f-8b98-91b7a89946c8",
   "metadata": {},
   "outputs": [],
   "source": [
    "split_index = int(len(X) * 0.9)"
   ]
  },
  {
   "cell_type": "code",
   "execution_count": 12,
   "id": "bde5bbf9-f069-4324-9d4e-86402559c975",
   "metadata": {},
   "outputs": [
    {
     "data": {
      "text/plain": [
       "((14273, 48), (1586, 48), (14273,), (1586,))"
      ]
     },
     "execution_count": 12,
     "metadata": {},
     "output_type": "execute_result"
    }
   ],
   "source": [
    "X_train = X[:split_index]\n",
    "X_val = X[split_index:]\n",
    "\n",
    "y_train = y[:split_index]\n",
    "y_val = y[split_index:]\n",
    "\n",
    "X_train.shape, X_val.shape, y_train.shape, y_val.shape"
   ]
  },
  {
   "cell_type": "code",
   "execution_count": 13,
   "id": "7f6a57fa-5fdc-49dd-9182-ba3715c0ff01",
   "metadata": {},
   "outputs": [
    {
     "data": {
      "text/plain": [
       "((14273, 48, 1), (1586, 48, 1), (14273, 1), (1586, 1))"
      ]
     },
     "execution_count": 13,
     "metadata": {},
     "output_type": "execute_result"
    }
   ],
   "source": [
    "X_train = X_train.reshape((-1, window_size, 1))\n",
    "X_val = X_val.reshape((-1, window_size, 1))\n",
    "\n",
    "y_train = y_train.reshape((-1, 1))\n",
    "y_val = y_val.reshape((-1, 1))\n",
    "\n",
    "X_train.shape, X_val.shape, y_train.shape, y_val.shape"
   ]
  },
  {
   "cell_type": "code",
   "execution_count": 14,
   "id": "bd0e515a-ea06-40ef-a127-ca1f1e681890",
   "metadata": {},
   "outputs": [
    {
     "data": {
      "text/plain": [
       "(torch.Size([14273, 48, 1]),\n",
       " torch.Size([1586, 48, 1]),\n",
       " torch.Size([14273, 1]),\n",
       " torch.Size([1586, 1]))"
      ]
     },
     "execution_count": 14,
     "metadata": {},
     "output_type": "execute_result"
    }
   ],
   "source": [
    "X_train = torch.tensor(X_train).float()\n",
    "y_train = torch.tensor(y_train).float()\n",
    "X_val = torch.tensor(X_val).float()\n",
    "y_val = torch.tensor(y_val).float()\n",
    "\n",
    "X_train.shape, X_val.shape, y_train.shape, y_val.shape"
   ]
  },
  {
   "cell_type": "code",
   "execution_count": 15,
   "id": "f4050e2c-4b38-471a-9682-d8aa2657fbc9",
   "metadata": {},
   "outputs": [],
   "source": [
    "class SolarData(Dataset):\n",
    "\n",
    "    def __init__(self, X, y):\n",
    "        self.X = X\n",
    "        self.y = y\n",
    "\n",
    "    def __len__(self):\n",
    "        return len(self.X)\n",
    "\n",
    "    def __getitem__(self, i):\n",
    "        return self.X[i], self.y[i]"
   ]
  },
  {
   "cell_type": "code",
   "execution_count": 16,
   "id": "fee36197-df5e-4329-b6b4-792b5d7fa2f8",
   "metadata": {},
   "outputs": [],
   "source": [
    "train = SolarData(X_train, y_train)\n",
    "val = SolarData(X_val, y_val)"
   ]
  },
  {
   "cell_type": "code",
   "execution_count": 17,
   "id": "c1504194-0e7a-477f-a2f0-66bd27f1a8ec",
   "metadata": {},
   "outputs": [],
   "source": [
    "train_loader = DataLoader(train, batch_size = batch_size, shuffle = True)\n",
    "val_loader = DataLoader(val, batch_size = batch_size, shuffle = False)"
   ]
  },
  {
   "cell_type": "code",
   "execution_count": 18,
   "id": "81af203c-042c-4916-b934-19fca083017b",
   "metadata": {},
   "outputs": [
    {
     "name": "stdout",
     "output_type": "stream",
     "text": [
      "torch.Size([100, 48, 1]) torch.Size([100, 1])\n"
     ]
    }
   ],
   "source": [
    "for _, batch in enumerate(train_loader):\n",
    "    x_batch, y_batch = batch[0].to(device), batch[1].to(device)\n",
    "    print(x_batch.shape, y_batch.shape)\n",
    "    break"
   ]
  },
  {
   "cell_type": "markdown",
   "id": "1006acfd-7c28-40e2-a379-6c5a717ae507",
   "metadata": {},
   "source": [
    "## RNN"
   ]
  },
  {
   "cell_type": "code",
   "execution_count": 19,
   "id": "a6b5402c-c245-45b3-b64f-490de2ad647e",
   "metadata": {},
   "outputs": [],
   "source": [
    "class RNNNet(nn.Module):\n",
    "\n",
    "    def __init__(self, input_size, hidden_size, num_classes):\n",
    "        super().__init__()\n",
    "        self.input_size = input_size\n",
    "        self.hidden_size = hidden_size\n",
    "        self.num_classes = num_classes\n",
    "        self.rnn_layer = nn.RNN(input_size, hidden_size, batch_first = True)\n",
    "        self.fc = nn.Linear(hidden_size, num_classes)\n",
    "\n",
    "    def forward(self, x):\n",
    "        out, hidden = self.rnn_layer(x)\n",
    "        out = self.fc(out[:, -1, :])\n",
    "        return out"
   ]
  },
  {
   "cell_type": "code",
   "execution_count": 20,
   "id": "f7870b0c-3bb0-403a-b977-c72077c96c15",
   "metadata": {},
   "outputs": [],
   "source": [
    "rnnnet = RNNNet(input_size, hidden_size, num_classes).to(device)\n",
    "rnnnet_optimizer = torch.optim.Adam(rnnnet.parameters(), lr = learning_rate)"
   ]
  },
  {
   "cell_type": "code",
   "execution_count": 21,
   "id": "8cddfb0f-82b6-46fc-9d97-862f45b9b0a1",
   "metadata": {},
   "outputs": [],
   "source": [
    "total_rnnnet_parameters = count_parameters(rnnnet)"
   ]
  },
  {
   "cell_type": "code",
   "execution_count": 22,
   "id": "31c1678a-ba4c-4733-8e5f-45c3ca4c4c03",
   "metadata": {},
   "outputs": [],
   "source": [
    "rnnnet_train_loss_array = []\n",
    "rnnnet_val_loss_array = []"
   ]
  },
  {
   "cell_type": "code",
   "execution_count": 23,
   "id": "9fc94dfe-834a-4829-a234-e3fb8063577a",
   "metadata": {},
   "outputs": [
    {
     "name": "stdout",
     "output_type": "stream",
     "text": [
      "Epoch no.: 1 | Training Loss: 83716.00295017482 | Validation Loss: 25374.13702392578\n",
      "Epoch no.: 2 | Training Loss: 78091.56651551573 | Validation Loss: 23073.891021728516\n",
      "Epoch no.: 3 | Training Loss: 72991.00986123252 | Validation Loss: 21042.427215576172\n",
      "Epoch no.: 4 | Training Loss: 68325.95410839161 | Validation Loss: 19267.073333740234\n",
      "Epoch no.: 5 | Training Loss: 63994.14720826049 | Validation Loss: 17663.369537353516\n",
      "Epoch no.: 6 | Training Loss: 60059.5877267264 | Validation Loss: 16273.938400268555\n",
      "Epoch no.: 7 | Training Loss: 56457.77931053322 | Validation Loss: 15110.625503540039\n",
      "Epoch no.: 8 | Training Loss: 53167.51368553322 | Validation Loss: 14092.171417236328\n",
      "Epoch no.: 9 | Training Loss: 50207.01274311626 | Validation Loss: 13176.128509521484\n",
      "Epoch no.: 10 | Training Loss: 47367.438920454544 | Validation Loss: 12381.109954833984\n",
      "Epoch no.: 11 | Training Loss: 44806.47058020105 | Validation Loss: 11783.401351928711\n",
      "Epoch no.: 12 | Training Loss: 42461.49825174825 | Validation Loss: 11253.408111572266\n",
      "Epoch no.: 13 | Training Loss: 40339.946254916955 | Validation Loss: 10828.442611694336\n",
      "Epoch no.: 14 | Training Loss: 38356.91512784091 | Validation Loss: 10503.502243041992\n",
      "Epoch no.: 15 | Training Loss: 36530.861737871506 | Validation Loss: 10238.050903320312\n",
      "Epoch no.: 16 | Training Loss: 34899.663283981645 | Validation Loss: 9902.904159545898\n",
      "Epoch no.: 17 | Training Loss: 33415.1485194493 | Validation Loss: 9752.898315429688\n",
      "Epoch no.: 18 | Training Loss: 32019.82800207605 | Validation Loss: 9750.52621459961\n",
      "Epoch no.: 19 | Training Loss: 30741.828862543705 | Validation Loss: 9653.322250366211\n",
      "Epoch no.: 20 | Training Loss: 29501.371742515297 | Validation Loss: 9514.95906829834\n",
      "Epoch no.: 21 | Training Loss: 28374.348052338286 | Validation Loss: 9538.616470336914\n",
      "Epoch no.: 22 | Training Loss: 27367.103966346152 | Validation Loss: 9633.650390625\n",
      "Epoch no.: 23 | Training Loss: 26413.858548677883 | Validation Loss: 9271.236679077148\n",
      "Epoch no.: 24 | Training Loss: 25490.241531905594 | Validation Loss: 9337.954368591309\n",
      "Epoch no.: 25 | Training Loss: 24625.976282506555 | Validation Loss: 9300.6948928833\n",
      "Epoch no.: 26 | Training Loss: 23914.254616477272 | Validation Loss: 9262.787490844727\n",
      "Epoch no.: 27 | Training Loss: 23244.969494372814 | Validation Loss: 9927.355773925781\n",
      "Epoch no.: 28 | Training Loss: 23390.516785948428 | Validation Loss: 9790.504417419434\n",
      "Epoch no.: 29 | Training Loss: 22617.44449300699 | Validation Loss: 9529.520004272461\n",
      "Epoch no.: 30 | Training Loss: 21914.176894394666 | Validation Loss: 9869.8988571167\n",
      "Epoch no.: 31 | Training Loss: 21409.63683484484 | Validation Loss: 10096.97785949707\n",
      "Epoch no.: 32 | Training Loss: 20876.062479512675 | Validation Loss: 10225.317947387695\n",
      "Epoch no.: 33 | Training Loss: 20599.92399885271 | Validation Loss: 9776.835494995117\n",
      "Epoch no.: 34 | Training Loss: 20163.564466783217 | Validation Loss: 9540.712379455566\n",
      "Epoch no.: 35 | Training Loss: 19783.87054059222 | Validation Loss: 9834.131774902344\n",
      "Epoch no.: 36 | Training Loss: 19675.670502349214 | Validation Loss: 10037.695770263672\n",
      "Epoch no.: 37 | Training Loss: 19307.338675972464 | Validation Loss: 10262.784469604492\n",
      "Epoch no.: 38 | Training Loss: 18883.724930343094 | Validation Loss: 10258.861511230469\n",
      "Epoch no.: 39 | Training Loss: 18673.495779611014 | Validation Loss: 10617.62703704834\n",
      "Epoch no.: 40 | Training Loss: 18404.642550808567 | Validation Loss: 10547.006370544434\n",
      "Epoch no.: 41 | Training Loss: 18289.304284582606 | Validation Loss: 10417.985786437988\n",
      "Epoch no.: 42 | Training Loss: 18354.103187827797 | Validation Loss: 10572.321678161621\n",
      "Epoch no.: 43 | Training Loss: 17919.358890133306 | Validation Loss: 10325.571044921875\n",
      "Epoch no.: 44 | Training Loss: 17791.605000956075 | Validation Loss: 10289.089538574219\n",
      "Epoch no.: 45 | Training Loss: 17579.538482025786 | Validation Loss: 10669.951034545898\n",
      "Epoch no.: 46 | Training Loss: 18200.405587576486 | Validation Loss: 10313.714279174805\n",
      "Epoch no.: 47 | Training Loss: 17858.348523546767 | Validation Loss: 10007.23825454712\n",
      "Epoch no.: 48 | Training Loss: 17693.923916903408 | Validation Loss: 10533.059173583984\n",
      "Epoch no.: 49 | Training Loss: 17468.684136664117 | Validation Loss: 11511.95221710205\n",
      "Epoch no.: 50 | Training Loss: 17379.358903791523 | Validation Loss: 11586.071838378906\n",
      "Epoch no.: 51 | Training Loss: 17727.895774147728 | Validation Loss: 11434.270210266113\n",
      "Epoch no.: 52 | Training Loss: 17702.27385407561 | Validation Loss: 10542.91683959961\n",
      "Epoch no.: 53 | Training Loss: 17211.97896976071 | Validation Loss: 10948.402656555176\n",
      "Epoch no.: 54 | Training Loss: 17173.10163762019 | Validation Loss: 10815.35668182373\n",
      "Epoch no.: 55 | Training Loss: 16986.748818564247 | Validation Loss: 12385.74626159668\n",
      "Epoch no.: 56 | Training Loss: 16953.831068345717 | Validation Loss: 11616.514625549316\n",
      "Epoch no.: 57 | Training Loss: 16886.712747213725 | Validation Loss: 10709.735900878906\n",
      "Epoch no.: 58 | Training Loss: 16891.874672202797 | Validation Loss: 10737.429176330566\n",
      "Epoch no.: 59 | Training Loss: 17393.810932719625 | Validation Loss: 15130.543487548828\n",
      "Epoch no.: 60 | Training Loss: 17840.662208397072 | Validation Loss: 10249.981773376465\n",
      "Epoch no.: 61 | Training Loss: 17263.11471194821 | Validation Loss: 10881.589515686035\n",
      "Epoch no.: 62 | Training Loss: 16884.97343818291 | Validation Loss: 11307.736999511719\n",
      "Epoch no.: 63 | Training Loss: 17379.866279228583 | Validation Loss: 10859.067268371582\n",
      "Epoch no.: 64 | Training Loss: 17133.82347779174 | Validation Loss: 10633.514915466309\n",
      "Epoch no.: 65 | Training Loss: 17027.052314384833 | Validation Loss: 11138.702041625977\n",
      "Epoch no.: 66 | Training Loss: 16845.621879097464 | Validation Loss: 11467.923805236816\n",
      "Epoch no.: 67 | Training Loss: 16879.88912601071 | Validation Loss: 11097.02749633789\n",
      "Epoch no.: 68 | Training Loss: 16725.48628715035 | Validation Loss: 11878.995178222656\n",
      "Epoch no.: 69 | Training Loss: 16724.096986997378 | Validation Loss: 10674.509368896484\n",
      "Epoch no.: 70 | Training Loss: 16923.817628660403 | Validation Loss: 10699.499206542969\n",
      "Epoch no.: 71 | Training Loss: 16804.07258317854 | Validation Loss: 10843.647247314453\n",
      "Epoch no.: 72 | Training Loss: 16639.384028081295 | Validation Loss: 10820.231185913086\n",
      "Epoch no.: 73 | Training Loss: 17253.943437909747 | Validation Loss: 10937.037696838379\n",
      "Epoch no.: 74 | Training Loss: 16710.82045932583 | Validation Loss: 10778.452590942383\n",
      "Epoch no.: 75 | Training Loss: 17103.043747268355 | Validation Loss: 9569.174667358398\n",
      "Epoch no.: 76 | Training Loss: 16978.660992815778 | Validation Loss: 12298.681625366211\n",
      "Epoch no.: 77 | Training Loss: 16796.953732790647 | Validation Loss: 12071.331634521484\n",
      "Epoch no.: 78 | Training Loss: 16633.224100606425 | Validation Loss: 13661.924240112305\n",
      "Epoch no.: 79 | Training Loss: 16577.367966018355 | Validation Loss: 11830.404067993164\n",
      "Epoch no.: 80 | Training Loss: 17712.272112652972 | Validation Loss: 11538.319068908691\n",
      "Epoch no.: 81 | Training Loss: 16969.025100387895 | Validation Loss: 11952.624588012695\n",
      "Epoch no.: 82 | Training Loss: 16760.317201841128 | Validation Loss: 11717.610298156738\n",
      "Epoch no.: 83 | Training Loss: 17220.747090799825 | Validation Loss: 9953.375228881836\n",
      "Epoch no.: 84 | Training Loss: 16810.26724349869 | Validation Loss: 10357.060569763184\n",
      "Epoch no.: 85 | Training Loss: 16396.33751502404 | Validation Loss: 10990.41064453125\n",
      "Epoch no.: 86 | Training Loss: 16330.809194711539 | Validation Loss: 10743.500617980957\n",
      "Epoch no.: 87 | Training Loss: 16550.1763105059 | Validation Loss: 10865.855590820312\n",
      "Epoch no.: 88 | Training Loss: 16267.583970716783 | Validation Loss: 11085.528366088867\n",
      "Epoch no.: 89 | Training Loss: 16086.979604867789 | Validation Loss: 11189.717247009277\n",
      "Epoch no.: 90 | Training Loss: 16521.153122268355 | Validation Loss: 13017.4150390625\n",
      "Epoch no.: 91 | Training Loss: 16218.059819574957 | Validation Loss: 10174.162139892578\n",
      "Epoch no.: 92 | Training Loss: 16052.989510489511 | Validation Loss: 10616.805458068848\n",
      "Epoch no.: 93 | Training Loss: 15956.028982736014 | Validation Loss: 10020.47933959961\n",
      "Epoch no.: 94 | Training Loss: 16529.94387838724 | Validation Loss: 10827.637088775635\n",
      "Epoch no.: 95 | Training Loss: 16382.94837194056 | Validation Loss: 11387.433158874512\n",
      "Epoch no.: 96 | Training Loss: 15986.544006774475 | Validation Loss: 10894.220397949219\n",
      "Epoch no.: 97 | Training Loss: 16270.151039390297 | Validation Loss: 10487.73006439209\n",
      "Epoch no.: 98 | Training Loss: 18908.359108664772 | Validation Loss: 9970.87767791748\n",
      "Epoch no.: 99 | Training Loss: 18628.392776169145 | Validation Loss: 10136.131774902344\n",
      "Epoch no.: 100 | Training Loss: 18307.466516881555 | Validation Loss: 10912.281372070312\n",
      "Epoch no.: 101 | Training Loss: 18150.56598284528 | Validation Loss: 9991.390686035156\n",
      "Epoch no.: 102 | Training Loss: 17924.511285101617 | Validation Loss: 10389.149620056152\n",
      "Epoch no.: 103 | Training Loss: 17925.45970826049 | Validation Loss: 10668.58065032959\n",
      "Epoch no.: 104 | Training Loss: 19057.562991695806 | Validation Loss: 10565.068046569824\n",
      "Epoch no.: 105 | Training Loss: 18456.55877130682 | Validation Loss: 10680.609268188477\n",
      "Epoch no.: 106 | Training Loss: 17971.98879343313 | Validation Loss: 9975.161209106445\n",
      "Epoch no.: 107 | Training Loss: 17904.011708506336 | Validation Loss: 11252.966262817383\n",
      "Epoch no.: 108 | Training Loss: 17706.93457714161 | Validation Loss: 12508.55657196045\n",
      "Epoch no.: 109 | Training Loss: 17407.507863718314 | Validation Loss: 10159.06035232544\n",
      "Epoch no.: 110 | Training Loss: 20605.51498306381 | Validation Loss: 10704.861808776855\n",
      "Epoch no.: 111 | Training Loss: 20042.81059467876 | Validation Loss: 10353.658882141113\n",
      "Epoch no.: 112 | Training Loss: 19779.173643739072 | Validation Loss: 10269.843307495117\n",
      "Epoch no.: 113 | Training Loss: 18999.15515051355 | Validation Loss: 10646.482276916504\n",
      "Epoch no.: 114 | Training Loss: 18594.480035101617 | Validation Loss: 10236.841804504395\n",
      "Epoch no.: 115 | Training Loss: 18391.07502458479 | Validation Loss: 10457.748489379883\n",
      "Epoch no.: 116 | Training Loss: 18086.872643957606 | Validation Loss: 11293.461486816406\n",
      "Epoch no.: 117 | Training Loss: 17599.223335746286 | Validation Loss: 11543.818130493164\n",
      "Epoch no.: 118 | Training Loss: 17893.12936380026 | Validation Loss: 11782.6976852417\n",
      "Epoch no.: 119 | Training Loss: 17236.581341510053 | Validation Loss: 10780.813842773438\n",
      "Epoch no.: 120 | Training Loss: 17334.14066597465 | Validation Loss: 13099.408569335938\n",
      "Epoch no.: 121 | Training Loss: 17147.470593859267 | Validation Loss: 9665.72647857666\n",
      "Epoch no.: 122 | Training Loss: 17243.774980878497 | Validation Loss: 10310.924507141113\n",
      "Epoch no.: 123 | Training Loss: 17457.81136978256 | Validation Loss: 10094.61064529419\n",
      "Epoch no.: 124 | Training Loss: 17023.978655621722 | Validation Loss: 23989.33966064453\n",
      "Epoch no.: 125 | Training Loss: 19861.997937609267 | Validation Loss: 11134.08228302002\n",
      "Epoch no.: 126 | Training Loss: 17699.899270651225 | Validation Loss: 11533.403694152832\n",
      "Epoch no.: 127 | Training Loss: 17274.079873251747 | Validation Loss: 11130.88200378418\n",
      "Epoch no.: 128 | Training Loss: 17150.030963177447 | Validation Loss: 11137.734260559082\n",
      "Epoch no.: 129 | Training Loss: 17201.7466230059 | Validation Loss: 11715.750091552734\n",
      "Epoch no.: 130 | Training Loss: 17144.31445995411 | Validation Loss: 10838.16208267212\n",
      "Epoch no.: 131 | Training Loss: 17036.383690040428 | Validation Loss: 10522.916358947754\n",
      "Epoch no.: 132 | Training Loss: 16981.501502403848 | Validation Loss: 11406.368141174316\n",
      "Epoch no.: 133 | Training Loss: 16965.59276660839 | Validation Loss: 11707.49910736084\n",
      "Epoch no.: 134 | Training Loss: 16886.964133522728 | Validation Loss: 11043.393043518066\n",
      "Epoch no.: 135 | Training Loss: 16604.313613144666 | Validation Loss: 11296.897491455078\n",
      "Epoch no.: 136 | Training Loss: 16770.86578753278 | Validation Loss: 11034.964164733887\n",
      "Epoch no.: 137 | Training Loss: 16741.60099909856 | Validation Loss: 10346.096031188965\n",
      "Epoch no.: 138 | Training Loss: 16553.986061789772 | Validation Loss: 11213.780403137207\n",
      "Epoch no.: 139 | Training Loss: 16761.536836210664 | Validation Loss: 10987.705520629883\n",
      "Epoch no.: 140 | Training Loss: 16832.051631473994 | Validation Loss: 10179.924240112305\n",
      "Epoch no.: 141 | Training Loss: 16820.80607722356 | Validation Loss: 10422.165641784668\n",
      "Epoch no.: 142 | Training Loss: 16711.36751871176 | Validation Loss: 11312.449996948242\n",
      "Epoch no.: 143 | Training Loss: 16582.79635257321 | Validation Loss: 10660.023666381836\n",
      "Epoch no.: 144 | Training Loss: 16387.36984060861 | Validation Loss: 10960.081367492676\n",
      "Epoch no.: 145 | Training Loss: 16197.558846427011 | Validation Loss: 10200.952667236328\n",
      "Epoch no.: 146 | Training Loss: 16326.067055015297 | Validation Loss: 11354.728507995605\n",
      "Epoch no.: 147 | Training Loss: 16258.743409910403 | Validation Loss: 11799.785934448242\n",
      "Epoch no.: 148 | Training Loss: 16199.174558839597 | Validation Loss: 10810.61018371582\n",
      "Epoch no.: 149 | Training Loss: 16532.33914376639 | Validation Loss: 10768.583435058594\n",
      "Epoch no.: 150 | Training Loss: 16520.309119591348 | Validation Loss: 11605.247299194336\n",
      "Epoch no.: 151 | Training Loss: 16313.443502786276 | Validation Loss: 11478.019340515137\n",
      "Epoch no.: 152 | Training Loss: 16258.723731834572 | Validation Loss: 12123.210716247559\n",
      "Epoch no.: 153 | Training Loss: 16339.885974377185 | Validation Loss: 10541.351737976074\n",
      "Epoch no.: 154 | Training Loss: 16096.808819110576 | Validation Loss: 10761.04810333252\n",
      "Epoch no.: 155 | Training Loss: 16237.257648601399 | Validation Loss: 11713.103378295898\n",
      "Epoch no.: 156 | Training Loss: 16106.909545044799 | Validation Loss: 10862.80908203125\n",
      "Epoch no.: 157 | Training Loss: 16436.840171547203 | Validation Loss: 9704.078102111816\n",
      "Epoch no.: 158 | Training Loss: 16211.448675835883 | Validation Loss: 10553.739906311035\n",
      "Epoch no.: 159 | Training Loss: 16339.585377513113 | Validation Loss: 9609.152870178223\n",
      "Epoch no.: 160 | Training Loss: 16966.66485126202 | Validation Loss: 10989.608474731445\n",
      "Epoch no.: 161 | Training Loss: 16675.55938251202 | Validation Loss: 9735.578399658203\n",
      "Epoch no.: 162 | Training Loss: 16684.075908954328 | Validation Loss: 11776.013916015625\n",
      "Epoch no.: 163 | Training Loss: 16329.505118416739 | Validation Loss: 10515.015151977539\n",
      "Epoch no.: 164 | Training Loss: 16062.766010844623 | Validation Loss: 11320.910133361816\n",
      "Epoch no.: 165 | Training Loss: 16200.917705829326 | Validation Loss: 10231.705535888672\n",
      "Epoch no.: 166 | Training Loss: 16133.298807637675 | Validation Loss: 11201.760261535645\n",
      "Epoch no.: 167 | Training Loss: 16361.580621039117 | Validation Loss: 11187.77906036377\n",
      "Epoch no.: 168 | Training Loss: 16085.99461183348 | Validation Loss: 10187.999313354492\n",
      "Epoch no.: 169 | Training Loss: 16189.228805862107 | Validation Loss: 10748.335609436035\n",
      "Epoch no.: 170 | Training Loss: 16297.244215745191 | Validation Loss: 10399.715759277344\n",
      "Epoch no.: 171 | Training Loss: 16100.306719159746 | Validation Loss: 9982.24291229248\n",
      "Epoch no.: 172 | Training Loss: 15927.694803731425 | Validation Loss: 11455.314628601074\n",
      "Epoch no.: 173 | Training Loss: 16907.90505490603 | Validation Loss: 10996.579109191895\n",
      "Epoch no.: 174 | Training Loss: 16876.708479020977 | Validation Loss: 11049.471374511719\n",
      "Epoch no.: 175 | Training Loss: 16543.295126748253 | Validation Loss: 10781.9771194458\n",
      "Epoch no.: 176 | Training Loss: 16057.00681203562 | Validation Loss: 12216.483535766602\n",
      "Epoch no.: 177 | Training Loss: 16258.949013876749 | Validation Loss: 10502.784362792969\n",
      "Epoch no.: 178 | Training Loss: 16352.02610768138 | Validation Loss: 11065.79653930664\n",
      "Epoch no.: 179 | Training Loss: 16573.40406127076 | Validation Loss: 12111.674423217773\n",
      "Epoch no.: 180 | Training Loss: 16212.459861915428 | Validation Loss: 10983.563919067383\n",
      "Epoch no.: 181 | Training Loss: 16081.258287123033 | Validation Loss: 12267.335754394531\n",
      "Epoch no.: 182 | Training Loss: 16971.396989729023 | Validation Loss: 10842.175277709961\n",
      "Epoch no.: 183 | Training Loss: 16674.40956211757 | Validation Loss: 12306.015182495117\n",
      "Epoch no.: 184 | Training Loss: 16165.404501748251 | Validation Loss: 11293.653434753418\n",
      "Epoch no.: 185 | Training Loss: 16232.294297011582 | Validation Loss: 10954.134963989258\n",
      "Epoch no.: 186 | Training Loss: 16109.725254725743 | Validation Loss: 10526.674530029297\n",
      "Epoch no.: 187 | Training Loss: 15992.398877977492 | Validation Loss: 12863.644241333008\n",
      "Epoch no.: 188 | Training Loss: 15871.892304960664 | Validation Loss: 11647.381401062012\n",
      "Epoch no.: 189 | Training Loss: 16096.176351480552 | Validation Loss: 9323.307479858398\n",
      "Epoch no.: 190 | Training Loss: 16001.699140215254 | Validation Loss: 10775.374816894531\n",
      "Epoch no.: 191 | Training Loss: 17150.688742897728 | Validation Loss: 10257.857955932617\n",
      "Epoch no.: 192 | Training Loss: 20741.051638303103 | Validation Loss: 11272.454887390137\n",
      "Epoch no.: 193 | Training Loss: 20157.848899147728 | Validation Loss: 10755.48210144043\n",
      "Epoch no.: 194 | Training Loss: 19849.71003605769 | Validation Loss: 10951.147178649902\n",
      "Epoch no.: 195 | Training Loss: 19516.152821787586 | Validation Loss: 10361.467300415039\n",
      "Epoch no.: 196 | Training Loss: 19343.65316324301 | Validation Loss: 10497.908233642578\n",
      "Epoch no.: 197 | Training Loss: 19243.78902835446 | Validation Loss: 10345.184768676758\n",
      "Epoch no.: 198 | Training Loss: 18991.131289608828 | Validation Loss: 10535.52133178711\n",
      "Epoch no.: 199 | Training Loss: 18804.409070421767 | Validation Loss: 10432.31283569336\n",
      "Epoch no.: 200 | Training Loss: 18760.46920413571 | Validation Loss: 10087.69367980957\n"
     ]
    }
   ],
   "source": [
    "rnnnet_start_time = time.time()\n",
    "train_and_validate(epochs, device, rnnnet, train_loader, val_loader, criterion, rnnnet_optimizer, rnnnet_train_loss_array, rnnnet_val_loss_array)\n",
    "rnnnet_end_time = time.time()\n",
    "rnnnet_total_training_time = rnnnet_end_time - rnnnet_start_time\n",
    "rnnnet_avg_training_time_per_epoch = rnnnet_total_training_time / epochs"
   ]
  },
  {
   "cell_type": "code",
   "execution_count": 24,
   "id": "e4de86ca-8830-4566-b31f-8e7d030c3a8e",
   "metadata": {},
   "outputs": [
    {
     "name": "stdout",
     "output_type": "stream",
     "text": [
      "\n",
      "\n",
      "------------------------------------------------------------\n",
      "Total Parameters:     RNN: 16897\n",
      "\n",
      "Total Training Time:     RNN: 111.27s\n",
      "\n",
      "Average Training Time Per Epoch:     RNN: 0.56s\n",
      "------------------------------------------------------------\n"
     ]
    }
   ],
   "source": [
    "print()\n",
    "print()\n",
    "print(\"------------------------------------------------------------\")\n",
    "print(f\"Total Parameters:     RNN: {total_rnnnet_parameters}\")\n",
    "print()\n",
    "print(f\"Total Training Time:     RNN: {rnnnet_total_training_time:.2f}s\")\n",
    "print()\n",
    "print(f\"Average Training Time Per Epoch:     RNN: {rnnnet_avg_training_time_per_epoch:.2f}s\")\n",
    "\n",
    "print(\"------------------------------------------------------------\")"
   ]
  },
  {
   "cell_type": "code",
   "execution_count": 25,
   "id": "ceded829-66f8-48b3-8417-a14df1f938dc",
   "metadata": {},
   "outputs": [
    {
     "data": {
      "image/png": "[encoded data removed]",
      "text/plain": [
       "<Figure size 600x600 with 1 Axes>"
      ]
     },
     "metadata": {},
     "output_type": "display_data"
    }
   ],
   "source": [
    "plot_loss_comparison(epochs, rnnnet_train_loss_array, rnnnet_val_loss_array, \"RNN Training Loss\", \"RNN Validation Loss\", \"Training vs Validation Loss\")"
   ]
  },
  {
   "cell_type": "code",
   "execution_count": 28,
   "id": "9bea8058-df1b-457c-b010-76e52ab2c8f7",
   "metadata": {},
   "outputs": [
    {
     "name": "stderr",
     "output_type": "stream",
     "text": [
      "C:\\Users\\itadmin\\AppData\\Local\\Temp\\ipykernel_6536\\3326979704.py:3: UserWarning: To copy construct from a tensor, it is recommended to use sourceTensor.clone().detach() or sourceTensor.clone().detach().requires_grad_(True), rather than torch.tensor(sourceTensor).\n",
      "  last_24_values_test = torch.tensor(last_24_values_test, dtype=torch.float32).unsqueeze(0).to(device)\n"
     ]
    }
   ],
   "source": [
    "rnnnet.eval()\n",
    "last_24_values_test = y_val[-window_size:]\n",
    "last_24_values_test = torch.tensor(last_24_values_test, dtype=torch.float32).unsqueeze(0).to(device)\n",
    "predictions_test = []\n",
    "\n",
    "for i in range(24):\n",
    "    # Make the prediction\n",
    "    with torch.no_grad():\n",
    "        pred_test = rnnnet(last_24_values_test)\n",
    "    \n",
    "    # Store the prediction\n",
    "    predictions_test.append(pred_test.item())\n",
    "    \n",
    "    # Shift the values to the left and add the predicted value to the last_24_values_test for the next iteration\n",
    "    last_24_values_test = torch.cat((last_24_values_test[:, 1:], pred_test.unsqueeze(1)), dim=1)\n",
    "\n",
    "# Convert predictions_test to a numpy array\n",
    "predictions_test = np.array(predictions_test)"
   ]
  },
  {
   "cell_type": "code",
   "execution_count": 30,
   "id": "e85aab06-cb5f-4a0c-a221-f7840dcb8d46",
   "metadata": {},
   "outputs": [
    {
     "ename": "ValueError",
     "evalue": "x and y must have same first dimension, but have shapes (48,) and (24,)",
     "output_type": "error",
     "traceback": [
      "\u001b[1;31m---------------------------------------------------------------------------\u001b[0m",
      "\u001b[1;31mValueError\u001b[0m                                Traceback (most recent call last)",
      "Cell \u001b[1;32mIn[30], line 3\u001b[0m\n\u001b[0;32m      1\u001b[0m plt\u001b[38;5;241m.\u001b[39mfigure(figsize\u001b[38;5;241m=\u001b[39m(\u001b[38;5;241m12\u001b[39m, \u001b[38;5;241m6\u001b[39m))\n\u001b[0;32m      2\u001b[0m plt\u001b[38;5;241m.\u001b[39mplot(test[\u001b[38;5;124m'\u001b[39m\u001b[38;5;124mDate\u001b[39m\u001b[38;5;124m'\u001b[39m], test[\u001b[38;5;124m'\u001b[39m\u001b[38;5;124mP (kW)\u001b[39m\u001b[38;5;124m'\u001b[39m], \u001b[38;5;124m'\u001b[39m\u001b[38;5;124mg\u001b[39m\u001b[38;5;124m'\u001b[39m, label\u001b[38;5;241m=\u001b[39m\u001b[38;5;124m'\u001b[39m\u001b[38;5;124mTrue Values\u001b[39m\u001b[38;5;124m'\u001b[39m)\n\u001b[1;32m----> 3\u001b[0m \u001b[43mplt\u001b[49m\u001b[38;5;241;43m.\u001b[39;49m\u001b[43mplot\u001b[49m\u001b[43m(\u001b[49m\u001b[43mtest\u001b[49m\u001b[43m[\u001b[49m\u001b[38;5;124;43m'\u001b[39;49m\u001b[38;5;124;43mDate\u001b[39;49m\u001b[38;5;124;43m'\u001b[39;49m\u001b[43m]\u001b[49m\u001b[43m,\u001b[49m\u001b[43m \u001b[49m\u001b[43mpredictions_test\u001b[49m\u001b[43m,\u001b[49m\u001b[43m \u001b[49m\u001b[38;5;124;43m'\u001b[39;49m\u001b[38;5;124;43mb\u001b[39;49m\u001b[38;5;124;43m'\u001b[39;49m\u001b[43m,\u001b[49m\u001b[43m \u001b[49m\u001b[43mlabel\u001b[49m\u001b[38;5;241;43m=\u001b[39;49m\u001b[38;5;124;43m'\u001b[39;49m\u001b[38;5;124;43mPredictions\u001b[39;49m\u001b[38;5;124;43m'\u001b[39;49m\u001b[43m)\u001b[49m\n\u001b[0;32m      4\u001b[0m plt\u001b[38;5;241m.\u001b[39mtitle(\u001b[38;5;124m'\u001b[39m\u001b[38;5;124mTrue Values vs RNN Predictions\u001b[39m\u001b[38;5;124m'\u001b[39m)\n\u001b[0;32m      5\u001b[0m plt\u001b[38;5;241m.\u001b[39mxlabel(\u001b[38;5;124m'\u001b[39m\u001b[38;5;124mDate\u001b[39m\u001b[38;5;124m'\u001b[39m)\n",
      "File \u001b[1;32m~\\Desktop\\ComputerScience\\btech_project\\btp\\lib\\site-packages\\matplotlib\\pyplot.py:3575\u001b[0m, in \u001b[0;36mplot\u001b[1;34m(scalex, scaley, data, *args, **kwargs)\u001b[0m\n\u001b[0;32m   3567\u001b[0m \u001b[38;5;129m@_copy_docstring_and_deprecators\u001b[39m(Axes\u001b[38;5;241m.\u001b[39mplot)\n\u001b[0;32m   3568\u001b[0m \u001b[38;5;28;01mdef\u001b[39;00m \u001b[38;5;21mplot\u001b[39m(\n\u001b[0;32m   3569\u001b[0m     \u001b[38;5;241m*\u001b[39margs: \u001b[38;5;28mfloat\u001b[39m \u001b[38;5;241m|\u001b[39m ArrayLike \u001b[38;5;241m|\u001b[39m \u001b[38;5;28mstr\u001b[39m,\n\u001b[1;32m   (...)\u001b[0m\n\u001b[0;32m   3573\u001b[0m     \u001b[38;5;241m*\u001b[39m\u001b[38;5;241m*\u001b[39mkwargs,\n\u001b[0;32m   3574\u001b[0m ) \u001b[38;5;241m-\u001b[39m\u001b[38;5;241m>\u001b[39m \u001b[38;5;28mlist\u001b[39m[Line2D]:\n\u001b[1;32m-> 3575\u001b[0m     \u001b[38;5;28;01mreturn\u001b[39;00m gca()\u001b[38;5;241m.\u001b[39mplot(\n\u001b[0;32m   3576\u001b[0m         \u001b[38;5;241m*\u001b[39margs,\n\u001b[0;32m   3577\u001b[0m         scalex\u001b[38;5;241m=\u001b[39mscalex,\n\u001b[0;32m   3578\u001b[0m         scaley\u001b[38;5;241m=\u001b[39mscaley,\n\u001b[0;32m   3579\u001b[0m         \u001b[38;5;241m*\u001b[39m\u001b[38;5;241m*\u001b[39m({\u001b[38;5;124m\"\u001b[39m\u001b[38;5;124mdata\u001b[39m\u001b[38;5;124m\"\u001b[39m: data} \u001b[38;5;28;01mif\u001b[39;00m data \u001b[38;5;129;01mis\u001b[39;00m \u001b[38;5;129;01mnot\u001b[39;00m \u001b[38;5;28;01mNone\u001b[39;00m \u001b[38;5;28;01melse\u001b[39;00m {}),\n\u001b[0;32m   3580\u001b[0m         \u001b[38;5;241m*\u001b[39m\u001b[38;5;241m*\u001b[39mkwargs,\n\u001b[0;32m   3581\u001b[0m     )\n",
      "File \u001b[1;32m~\\Desktop\\ComputerScience\\btech_project\\btp\\lib\\site-packages\\matplotlib\\axes\\_axes.py:1721\u001b[0m, in \u001b[0;36mAxes.plot\u001b[1;34m(self, scalex, scaley, data, *args, **kwargs)\u001b[0m\n\u001b[0;32m   1478\u001b[0m \u001b[38;5;250m\u001b[39m\u001b[38;5;124;03m\"\"\"\u001b[39;00m\n\u001b[0;32m   1479\u001b[0m \u001b[38;5;124;03mPlot y versus x as lines and/or markers.\u001b[39;00m\n\u001b[0;32m   1480\u001b[0m \n\u001b[1;32m   (...)\u001b[0m\n\u001b[0;32m   1718\u001b[0m \u001b[38;5;124;03m(``'green'``) or hex strings (``'#008000'``).\u001b[39;00m\n\u001b[0;32m   1719\u001b[0m \u001b[38;5;124;03m\"\"\"\u001b[39;00m\n\u001b[0;32m   1720\u001b[0m kwargs \u001b[38;5;241m=\u001b[39m cbook\u001b[38;5;241m.\u001b[39mnormalize_kwargs(kwargs, mlines\u001b[38;5;241m.\u001b[39mLine2D)\n\u001b[1;32m-> 1721\u001b[0m lines \u001b[38;5;241m=\u001b[39m [\u001b[38;5;241m*\u001b[39m\u001b[38;5;28mself\u001b[39m\u001b[38;5;241m.\u001b[39m_get_lines(\u001b[38;5;28mself\u001b[39m, \u001b[38;5;241m*\u001b[39margs, data\u001b[38;5;241m=\u001b[39mdata, \u001b[38;5;241m*\u001b[39m\u001b[38;5;241m*\u001b[39mkwargs)]\n\u001b[0;32m   1722\u001b[0m \u001b[38;5;28;01mfor\u001b[39;00m line \u001b[38;5;129;01min\u001b[39;00m lines:\n\u001b[0;32m   1723\u001b[0m     \u001b[38;5;28mself\u001b[39m\u001b[38;5;241m.\u001b[39madd_line(line)\n",
      "File \u001b[1;32m~\\Desktop\\ComputerScience\\btech_project\\btp\\lib\\site-packages\\matplotlib\\axes\\_base.py:303\u001b[0m, in \u001b[0;36m_process_plot_var_args.__call__\u001b[1;34m(self, axes, data, *args, **kwargs)\u001b[0m\n\u001b[0;32m    301\u001b[0m     this \u001b[38;5;241m+\u001b[39m\u001b[38;5;241m=\u001b[39m args[\u001b[38;5;241m0\u001b[39m],\n\u001b[0;32m    302\u001b[0m     args \u001b[38;5;241m=\u001b[39m args[\u001b[38;5;241m1\u001b[39m:]\n\u001b[1;32m--> 303\u001b[0m \u001b[38;5;28;01myield from\u001b[39;00m \u001b[38;5;28;43mself\u001b[39;49m\u001b[38;5;241;43m.\u001b[39;49m\u001b[43m_plot_args\u001b[49m\u001b[43m(\u001b[49m\n\u001b[0;32m    304\u001b[0m \u001b[43m    \u001b[49m\u001b[43maxes\u001b[49m\u001b[43m,\u001b[49m\u001b[43m \u001b[49m\u001b[43mthis\u001b[49m\u001b[43m,\u001b[49m\u001b[43m \u001b[49m\u001b[43mkwargs\u001b[49m\u001b[43m,\u001b[49m\u001b[43m \u001b[49m\u001b[43mambiguous_fmt_datakey\u001b[49m\u001b[38;5;241;43m=\u001b[39;49m\u001b[43mambiguous_fmt_datakey\u001b[49m\u001b[43m)\u001b[49m\n",
      "File \u001b[1;32m~\\Desktop\\ComputerScience\\btech_project\\btp\\lib\\site-packages\\matplotlib\\axes\\_base.py:499\u001b[0m, in \u001b[0;36m_process_plot_var_args._plot_args\u001b[1;34m(self, axes, tup, kwargs, return_kwargs, ambiguous_fmt_datakey)\u001b[0m\n\u001b[0;32m    496\u001b[0m     axes\u001b[38;5;241m.\u001b[39myaxis\u001b[38;5;241m.\u001b[39mupdate_units(y)\n\u001b[0;32m    498\u001b[0m \u001b[38;5;28;01mif\u001b[39;00m x\u001b[38;5;241m.\u001b[39mshape[\u001b[38;5;241m0\u001b[39m] \u001b[38;5;241m!=\u001b[39m y\u001b[38;5;241m.\u001b[39mshape[\u001b[38;5;241m0\u001b[39m]:\n\u001b[1;32m--> 499\u001b[0m     \u001b[38;5;28;01mraise\u001b[39;00m \u001b[38;5;167;01mValueError\u001b[39;00m(\u001b[38;5;124mf\u001b[39m\u001b[38;5;124m\"\u001b[39m\u001b[38;5;124mx and y must have same first dimension, but \u001b[39m\u001b[38;5;124m\"\u001b[39m\n\u001b[0;32m    500\u001b[0m                      \u001b[38;5;124mf\u001b[39m\u001b[38;5;124m\"\u001b[39m\u001b[38;5;124mhave shapes \u001b[39m\u001b[38;5;132;01m{\u001b[39;00mx\u001b[38;5;241m.\u001b[39mshape\u001b[38;5;132;01m}\u001b[39;00m\u001b[38;5;124m and \u001b[39m\u001b[38;5;132;01m{\u001b[39;00my\u001b[38;5;241m.\u001b[39mshape\u001b[38;5;132;01m}\u001b[39;00m\u001b[38;5;124m\"\u001b[39m)\n\u001b[0;32m    501\u001b[0m \u001b[38;5;28;01mif\u001b[39;00m x\u001b[38;5;241m.\u001b[39mndim \u001b[38;5;241m>\u001b[39m \u001b[38;5;241m2\u001b[39m \u001b[38;5;129;01mor\u001b[39;00m y\u001b[38;5;241m.\u001b[39mndim \u001b[38;5;241m>\u001b[39m \u001b[38;5;241m2\u001b[39m:\n\u001b[0;32m    502\u001b[0m     \u001b[38;5;28;01mraise\u001b[39;00m \u001b[38;5;167;01mValueError\u001b[39;00m(\u001b[38;5;124mf\u001b[39m\u001b[38;5;124m\"\u001b[39m\u001b[38;5;124mx and y can be no greater than 2D, but have \u001b[39m\u001b[38;5;124m\"\u001b[39m\n\u001b[0;32m    503\u001b[0m                      \u001b[38;5;124mf\u001b[39m\u001b[38;5;124m\"\u001b[39m\u001b[38;5;124mshapes \u001b[39m\u001b[38;5;132;01m{\u001b[39;00mx\u001b[38;5;241m.\u001b[39mshape\u001b[38;5;132;01m}\u001b[39;00m\u001b[38;5;124m and \u001b[39m\u001b[38;5;132;01m{\u001b[39;00my\u001b[38;5;241m.\u001b[39mshape\u001b[38;5;132;01m}\u001b[39;00m\u001b[38;5;124m\"\u001b[39m)\n",
      "\u001b[1;31mValueError\u001b[0m: x and y must have same first dimension, but have shapes (48,) and (24,)"
     ]
    },
    {
     "data": {
      "image/png": "[encoded data removed]",
      "text/plain": [
       "<Figure size 1200x600 with 1 Axes>"
      ]
     },
     "metadata": {},
     "output_type": "display_data"
    }
   ],
   "source": [
    "plt.figure(figsize=(12, 6))\n",
    "plt.plot(test['Date'], test['P (kW)'], 'g', label='True Values')\n",
    "plt.plot(test['Date'], predictions_test, 'b', label='Predictions')\n",
    "plt.title('True Values vs RNN Predictions')\n",
    "plt.xlabel('Date')\n",
    "plt.ylabel('Power (kW)')\n",
    "plt.xticks(rotation=45)\n",
    "plt.legend()\n",
    "plt.grid(True)\n",
    "plt.tight_layout()\n",
    "plt.show()"
   ]
  },
  {
   "cell_type": "code",
   "execution_count": null,
   "id": "858ad526-86ad-405a-84a3-f9c9bbcc7afc",
   "metadata": {},
   "outputs": [],
   "source": [
    "mse = root_mean_squared_error(test[\"P (kW)\"].values, predictions_test)\n",
    "print(f\"Mean Squared Error: {mse}\")"
   ]
  },
  {
   "cell_type": "markdown",
   "id": "d03385eb-7448-40bc-b91e-2225c01bf74e",
   "metadata": {},
   "source": [
    "## LSTM"
   ]
  },
  {
   "cell_type": "code",
   "execution_count": null,
   "id": "d0cf9a6c-7c73-47b6-b752-344f0d04d29e",
   "metadata": {},
   "outputs": [],
   "source": [
    "class LSTMNet(nn.Module):\n",
    "\n",
    "    def __init__(self, input_size: int, hidden_size: int, num_classes: int):\n",
    "        super().__init__()\n",
    "        self.input_size = input_size\n",
    "        self.hidden_size = hidden_size\n",
    "        self.num_classes = num_classes\n",
    "        self.lstm = nn.LSTM(input_size, hidden_size, batch_first = True)\n",
    "        self.fc = nn.Linear(hidden_size, num_classes)\n",
    "\n",
    "    def forward(self, x):\n",
    "        x_, (h_t, c_t) = self.lstm(x)\n",
    "        out = self.fc(x_[:, -1, :])\n",
    "        return out"
   ]
  },
  {
   "cell_type": "code",
   "execution_count": null,
   "id": "a51cf399-fc75-4904-9ec4-d181083c313b",
   "metadata": {},
   "outputs": [],
   "source": [
    "lstmnet = LSTMNet(input_size, hidden_size, num_classes).to(device)\n",
    "lstmnet_optimizer = torch.optim.Adam(lstmnet.parameters(), lr = learning_rate)"
   ]
  },
  {
   "cell_type": "code",
   "execution_count": null,
   "id": "1148a62d-4960-43b9-a5b7-cef40c98fe8a",
   "metadata": {},
   "outputs": [],
   "source": [
    "total_lstmnet_parameters = count_parameters(lstmnet)"
   ]
  },
  {
   "cell_type": "code",
   "execution_count": null,
   "id": "dd3d5b1f-568d-4ca6-960f-6408e86b037c",
   "metadata": {},
   "outputs": [],
   "source": [
    "lstmnet_train_loss_array = []\n",
    "lstmnet_val_loss_array = []"
   ]
  },
  {
   "cell_type": "code",
   "execution_count": null,
   "id": "fc824baa-1453-4458-b16f-3d59137c26ca",
   "metadata": {},
   "outputs": [],
   "source": [
    "lstmnet_start_time = time.time()\n",
    "train_and_validate(epochs, device, lstmnet, train_loader, val_loader, criterion, lstmnet_optimizer, lstmnet_train_loss_array, lstmnet_val_loss_array)\n",
    "lstmnet_end_time = time.time()\n",
    "lstmnet_total_training_time = lstmnet_end_time - lstmnet_start_time\n",
    "lstmnet_avg_training_time_per_epoch = lstmnet_total_training_time / epochs"
   ]
  },
  {
   "cell_type": "code",
   "execution_count": null,
   "id": "d177b448-70a4-4cf9-a440-c62dec9af85a",
   "metadata": {},
   "outputs": [],
   "source": [
    "print()\n",
    "print()\n",
    "print(\"------------------------------------------------------------\")\n",
    "print(f\"Total Parameters:     RNN: {total_lstmnet_parameters}\")\n",
    "print()\n",
    "print(f\"Total Training Time:     RNN: {lstmnet_total_training_time:.2f}s\")\n",
    "print()\n",
    "print(f\"Average Training Time Per Epoch:     RNN: {lstmnet_avg_training_time_per_epoch:.2f}s\")\n",
    "\n",
    "print(\"------------------------------------------------------------\")"
   ]
  },
  {
   "cell_type": "code",
   "execution_count": null,
   "id": "630e8178-5ec3-455d-a5a4-7e5417b6203a",
   "metadata": {},
   "outputs": [],
   "source": [
    "plot_loss_comparison(epochs, lstmnet_train_loss_array, lstmnet_val_loss_array, \"LSTM Training Loss\", \"LSTM Validation Loss\", \"Training vs Validation Loss\")"
   ]
  },
  {
   "cell_type": "code",
   "execution_count": null,
   "id": "ce49b7ea-86f9-483c-a4f6-6996ce4cd935",
   "metadata": {},
   "outputs": [],
   "source": [
    "lstmnet.eval()\n",
    "last_24_values_test = y_val[-window_size:]\n",
    "last_24_values_test = torch.tensor(last_24_values_test, dtype=torch.float32).unsqueeze(0).to(device)\n",
    "predictions_test = []\n",
    "\n",
    "for i in range(24):\n",
    "    # Make the prediction\n",
    "    with torch.no_grad():\n",
    "        pred_test = lstmnet(last_24_values_test)\n",
    "    \n",
    "    # Store the prediction\n",
    "    predictions_test.append(pred_test.item())\n",
    "    \n",
    "    # Shift the values to the left and add the predicted value to the last_24_values_test for the next iteration\n",
    "    last_24_values_test = torch.cat((last_24_values_test[:, 1:], pred_test.unsqueeze(1)), dim=1)\n",
    "\n",
    "# Convert predictions_test to a numpy array\n",
    "predictions_test = np.array(predictions_test)"
   ]
  },
  {
   "cell_type": "code",
   "execution_count": null,
   "id": "5a9cd0ab-9968-4a55-aa85-d10e6641476d",
   "metadata": {},
   "outputs": [],
   "source": [
    "plt.figure(figsize=(12, 6))\n",
    "plt.plot(test['Date'], test['P (kW)'], 'g', label='True Values')\n",
    "plt.plot(test['Date'], predictions_test, 'b', label='Predictions')\n",
    "plt.title('True Values vs LSTM Predictions')\n",
    "plt.xlabel('Date')\n",
    "plt.ylabel('Power (kW)')\n",
    "plt.xticks(rotation=45)\n",
    "plt.legend()\n",
    "plt.grid(True)\n",
    "plt.tight_layout()\n",
    "plt.show()"
   ]
  },
  {
   "cell_type": "markdown",
   "id": "c9bda53e-3f46-4fea-a6cc-f29908b27eb2",
   "metadata": {},
   "source": [
    "## GRU "
   ]
  },
  {
   "cell_type": "code",
   "execution_count": null,
   "id": "4182654f-0aa4-4294-a7ff-d7e2e102db0d",
   "metadata": {},
   "outputs": [],
   "source": [
    "class GRUNet(nn.Module):\n",
    "\n",
    "    def __init__(self, input_size: int, hidden_size: int, num_classes: int):\n",
    "        super().__init__()\n",
    "        self.input_size = input_size\n",
    "        self.hidden_size = hidden_size\n",
    "        self.num_classes = num_classes\n",
    "        self.lstm = nn.GRU(input_size, hidden_size, batch_first = True)\n",
    "        self.fc = nn.Linear(hidden_size, num_classes)\n",
    "\n",
    "    def forward(self, x):\n",
    "        x_, (h_t, c_t) = self.lstm(x)\n",
    "        out = self.fc(x_[:, -1, :])\n",
    "        return out"
   ]
  },
  {
   "cell_type": "code",
   "execution_count": null,
   "id": "a520f55d-66e6-45b0-9e2e-80966cef0c01",
   "metadata": {},
   "outputs": [],
   "source": [
    "grunet = LSTMNet(input_size, hidden_size, num_classes).to(device)\n",
    "grunet_optimizer = torch.optim.Adam(grunet.parameters(), lr = learning_rate)"
   ]
  },
  {
   "cell_type": "code",
   "execution_count": null,
   "id": "1464153e-eb3b-447c-9bed-8db09fd65d5d",
   "metadata": {},
   "outputs": [],
   "source": [
    "total_grunet_parameters = count_parameters(grunet)"
   ]
  },
  {
   "cell_type": "code",
   "execution_count": null,
   "id": "9bb31bed-7c70-4952-9f8e-ce935b0fa71d",
   "metadata": {},
   "outputs": [],
   "source": [
    "grunet_train_loss_array = []\n",
    "grunet_val_loss_array = []"
   ]
  },
  {
   "cell_type": "code",
   "execution_count": null,
   "id": "36545286-57ba-45f6-81fe-a5adce4047de",
   "metadata": {},
   "outputs": [],
   "source": [
    "grunet_start_time = time.time()\n",
    "train_and_validate(epochs, device, grunet, train_loader, val_loader, criterion, grunet_optimizer, grunet_train_loss_array, grunet_val_loss_array)\n",
    "grunet_end_time = time.time()\n",
    "grunet_total_training_time = grunet_end_time - grunet_start_time\n",
    "grunet_avg_training_time_per_epoch = grunet_total_training_time / epochs"
   ]
  },
  {
   "cell_type": "code",
   "execution_count": null,
   "id": "1e365352-9880-48a3-8a35-616aede2207f",
   "metadata": {},
   "outputs": [],
   "source": [
    "print()\n",
    "print()\n",
    "print(\"------------------------------------------------------------\")\n",
    "print(f\"Total Parameters:     RNN: {total_grunet_parameters}\")\n",
    "print()\n",
    "print(f\"Total Training Time:     RNN: {grunet_total_training_time:.2f}s\")\n",
    "print()\n",
    "print(f\"Average Training Time Per Epoch:     RNN: {grunet_avg_training_time_per_epoch:.2f}s\")\n",
    "\n",
    "print(\"------------------------------------------------------------\")"
   ]
  },
  {
   "cell_type": "code",
   "execution_count": null,
   "id": "657697a5-ba1b-4d5c-8eaa-170b4383a00e",
   "metadata": {},
   "outputs": [],
   "source": [
    "plot_loss_comparison(epochs, grunet_train_loss_array, grunet_val_loss_array, \"GRU Training Loss\", \"GRU Validation Loss\", \"Training vs Validation Loss\")"
   ]
  },
  {
   "cell_type": "code",
   "execution_count": null,
   "id": "909aac1a-fa31-4fc1-a08a-373efce04ee4",
   "metadata": {},
   "outputs": [],
   "source": [
    "grunet.eval()\n",
    "last_24_values_test = y_val[-window_size:]\n",
    "last_24_values_test = torch.tensor(last_24_values_test, dtype=torch.float32).unsqueeze(0).to(device)\n",
    "predictions_test = []\n",
    "\n",
    "for i in range(24):\n",
    "    # Make the prediction\n",
    "    with torch.no_grad():\n",
    "        pred_test = grunet(last_24_values_test)\n",
    "    \n",
    "    # Store the prediction\n",
    "    predictions_test.append(pred_test.item())\n",
    "    \n",
    "    # Shift the values to the left and add the predicted value to the last_24_values_test for the next iteration\n",
    "    last_24_values_test = torch.cat((last_24_values_test[:, 1:], pred_test.unsqueeze(1)), dim=1)\n",
    "\n",
    "# Convert predictions_test to a numpy array\n",
    "predictions_test = np.array(predictions_test)"
   ]
  },
  {
   "cell_type": "code",
   "execution_count": null,
   "id": "c18a2af4-fc4f-4061-8910-c0b0eb3bc56e",
   "metadata": {},
   "outputs": [],
   "source": [
    "plt.figure(figsize=(12, 6))\n",
    "plt.plot(test['Date'], test['P (kW)'], 'g', label='True Values')\n",
    "plt.plot(test['Date'], predictions_test, 'b', label='Predictions')\n",
    "plt.title('True Values vs GRU Predictions')\n",
    "plt.xlabel('Date')\n",
    "plt.ylabel('Power (kW)')\n",
    "plt.xticks(rotation=45)\n",
    "plt.legend()\n",
    "plt.grid(True)\n",
    "plt.tight_layout()\n",
    "plt.show()"
   ]
  }
 ],
 "metadata": {
  "kernelspec": {
   "display_name": "btp",
   "language": "python",
   "name": "btp"
  },
  "language_info": {
   "codemirror_mode": {
    "name": "ipython",
    "version": 3
   },
   "file_extension": ".py",
   "mimetype": "text/x-python",
   "name": "python",
   "nbconvert_exporter": "python",
   "pygments_lexer": "ipython3",
   "version": "3.9.13"
  }
 },
 "nbformat": 4,
 "nbformat_minor": 5
}
